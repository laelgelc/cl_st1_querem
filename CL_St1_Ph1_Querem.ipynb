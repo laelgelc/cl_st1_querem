{
 "cells": [
  {
   "cell_type": "markdown",
   "id": "810d9f10-ec19-4b09-8f90-e983e460b319",
   "metadata": {},
   "source": [
    "<center>\n",
    "<img src=\"https://laelgelcpublic.s3.sa-east-1.amazonaws.com/lael_50_years_narrow_white.png.no_years.400px_96dpi.png\" width=\"300\" alt=\"LAEL 50 years logo\">\n",
    "<h3>APPLIED LINGUISTICS GRADUATE PROGRAMME (LAEL)</h3>\n",
    "</center>\n",
    "<hr>"
   ]
  },
  {
   "cell_type": "markdown",
   "id": "888c2c96-2fc3-4a1a-995b-c388036a2a15",
   "metadata": {},
   "source": [
    "# Corpus Linguistics - Study 1 - Quérem"
   ]
  },
  {
   "cell_type": "markdown",
   "id": "0f3ad8a7-2d34-476b-be69-5d896b27d3ed",
   "metadata": {},
   "source": [
    "## Prerequisites"
   ]
  },
  {
   "cell_type": "markdown",
   "id": "0f1209cf-0515-45b3-8856-275ac692943e",
   "metadata": {},
   "source": [
    "Make sure the prerequisites in [CL_LMDA_prerequisites](https://github.com/laelgelc/laelgelc/blob/main/CL_LMDA_prerequisites.ipynb) are satisfied."
   ]
  },
  {
   "cell_type": "markdown",
   "id": "28897518-a858-4dc5-b510-49c9131da966",
   "metadata": {},
   "source": [
    "## Dataset"
   ]
  },
  {
   "cell_type": "markdown",
   "id": "a6f58941-1578-42c0-8933-d8ebef369245",
   "metadata": {},
   "source": [
    "Please download the following dataset (Right-click on the link and choose `Open link in a new tab` to download the corresponding file):\n",
    "- [tweets_all2.tsv](https://pucsp-my.sharepoint.com/:u:/g/personal/ra00341729_pucsp_edu_br/Edr0Gb9w9s1CsLhz8bpGVn8BGQwPRoXeiM01wpCDWpN5qA?e=g1WZwE)"
   ]
  },
  {
   "cell_type": "markdown",
   "id": "7a9c2af7-9fc1-4f51-a4f5-2ed915b93039",
   "metadata": {},
   "source": [
    "## Importing the required libraries"
   ]
  },
  {
   "cell_type": "code",
   "execution_count": 1,
   "id": "e6689499-d19d-4b0c-befd-f88926b7105d",
   "metadata": {},
   "outputs": [],
   "source": [
    "import pandas as pd\n",
    "import demoji\n",
    "import re\n",
    "import os\n",
    "from collections import Counter"
   ]
  },
  {
   "cell_type": "markdown",
   "id": "9a79a002-c182-4021-9b77-99ad470582af",
   "metadata": {},
   "source": [
    "## Data wrangling"
   ]
  },
  {
   "cell_type": "markdown",
   "id": "66e37aae-8cee-42ca-91ff-10f882fc45c6",
   "metadata": {},
   "source": [
    "### Importing the tweet raw data into a dataframe"
   ]
  },
  {
   "cell_type": "code",
   "execution_count": 2,
   "id": "8a762708-07e4-472d-b3e9-bb0cea14438c",
   "metadata": {},
   "outputs": [],
   "source": [
    "df_tweets_raw_data = pd.read_csv('tweets_all2.tsv', sep='\\t')"
   ]
  },
  {
   "cell_type": "code",
   "execution_count": 3,
   "id": "623ddacd-5a20-4d89-a48e-98849a0644e9",
   "metadata": {},
   "outputs": [
    {
     "data": {
      "text/html": [
       "<div>\n",
       "<style scoped>\n",
       "    .dataframe tbody tr th:only-of-type {\n",
       "        vertical-align: middle;\n",
       "    }\n",
       "\n",
       "    .dataframe tbody tr th {\n",
       "        vertical-align: top;\n",
       "    }\n",
       "\n",
       "    .dataframe thead th {\n",
       "        text-align: right;\n",
       "    }\n",
       "</style>\n",
       "<table border=\"1\" class=\"dataframe\">\n",
       "  <thead>\n",
       "    <tr style=\"text-align: right;\">\n",
       "      <th></th>\n",
       "      <th>file</th>\n",
       "      <th>created_at</th>\n",
       "      <th>text_uniq</th>\n",
       "      <th>conversation_id</th>\n",
       "      <th>author_id</th>\n",
       "      <th>username</th>\n",
       "      <th>tweet_url</th>\n",
       "      <th>text</th>\n",
       "      <th>text_emojified</th>\n",
       "      <th>photo_uniq_id</th>\n",
       "    </tr>\n",
       "  </thead>\n",
       "  <tbody>\n",
       "    <tr>\n",
       "      <th>0</th>\n",
       "      <td>file</td>\n",
       "      <td>created_at</td>\n",
       "      <td>tweet_00000001</td>\n",
       "      <td>conversation_id</td>\n",
       "      <td>author_id</td>\n",
       "      <td>username</td>\n",
       "      <td>tweet_url</td>\n",
       "      <td>text</td>\n",
       "      <td>text_emojified</td>\n",
       "      <td>file00000001.url</td>\n",
       "    </tr>\n",
       "    <tr>\n",
       "      <th>1</th>\n",
       "      <td>bolsonaro201803_n_00101.json</td>\n",
       "      <td>2018-03-30 10:21:59</td>\n",
       "      <td>tweet_00000002</td>\n",
       "      <td>convo_979665031997612034</td>\n",
       "      <td>id_731971002817744896</td>\n",
       "      <td>gizelda_m</td>\n",
       "      <td>https://twitter.com/gizelda_m/status/979665031...</td>\n",
       "      <td>RT @MendesOnca: Fracasso Bolsonaro só tem públ...</td>\n",
       "      <td>RT @MendesOnca: Fracasso Bolsonaro só tem públ...</td>\n",
       "      <td>NaN</td>\n",
       "    </tr>\n",
       "    <tr>\n",
       "      <th>2</th>\n",
       "      <td>bolsonaro201803_n_00101.json</td>\n",
       "      <td>2018-03-30 10:21:32</td>\n",
       "      <td>tweet_00000003</td>\n",
       "      <td>convo_979664919955214337</td>\n",
       "      <td>id_14372459</td>\n",
       "      <td>unknown</td>\n",
       "      <td>unknown</td>\n",
       "      <td>RT @pelegrini65: Após caluniar, ameaçar, incit...</td>\n",
       "      <td>RT @pelegrini65: Após caluniar, ameaçar, incit...</td>\n",
       "      <td>NaN</td>\n",
       "    </tr>\n",
       "    <tr>\n",
       "      <th>3</th>\n",
       "      <td>bolsonaro201803_n_00101.json</td>\n",
       "      <td>2018-03-28 15:31:51</td>\n",
       "      <td>tweet_00000004</td>\n",
       "      <td>convo_979018234736373760</td>\n",
       "      <td>id_287765295</td>\n",
       "      <td>pelegrini65</td>\n",
       "      <td>https://twitter.com/pelegrini65/status/9790182...</td>\n",
       "      <td>Após caluniar, ameaçar, incitar as pessoas con...</td>\n",
       "      <td>Após caluniar, ameaçar, incitar as pessoas con...</td>\n",
       "      <td>NaN</td>\n",
       "    </tr>\n",
       "    <tr>\n",
       "      <th>4</th>\n",
       "      <td>bolsonaro201803_n_00101.json</td>\n",
       "      <td>2018-03-30 10:21:21</td>\n",
       "      <td>tweet_00000005</td>\n",
       "      <td>convo_979664873788502016</td>\n",
       "      <td>id_2551060160</td>\n",
       "      <td>PauliGVivas</td>\n",
       "      <td>https://twitter.com/PauliGVivas/status/9796648...</td>\n",
       "      <td>RT @BohnGass: \"Nenhum apoiador de Bolsonaro ap...</td>\n",
       "      <td>RT @BohnGass: \"Nenhum apoiador de Bolsonaro ap...</td>\n",
       "      <td>NaN</td>\n",
       "    </tr>\n",
       "  </tbody>\n",
       "</table>\n",
       "</div>"
      ],
      "text/plain": [
       "                           file           created_at       text_uniq  \\\n",
       "0                          file           created_at  tweet_00000001   \n",
       "1  bolsonaro201803_n_00101.json  2018-03-30 10:21:59  tweet_00000002   \n",
       "2  bolsonaro201803_n_00101.json  2018-03-30 10:21:32  tweet_00000003   \n",
       "3  bolsonaro201803_n_00101.json  2018-03-28 15:31:51  tweet_00000004   \n",
       "4  bolsonaro201803_n_00101.json  2018-03-30 10:21:21  tweet_00000005   \n",
       "\n",
       "            conversation_id              author_id     username  \\\n",
       "0           conversation_id              author_id     username   \n",
       "1  convo_979665031997612034  id_731971002817744896    gizelda_m   \n",
       "2  convo_979664919955214337            id_14372459      unknown   \n",
       "3  convo_979018234736373760           id_287765295  pelegrini65   \n",
       "4  convo_979664873788502016          id_2551060160  PauliGVivas   \n",
       "\n",
       "                                           tweet_url  \\\n",
       "0                                          tweet_url   \n",
       "1  https://twitter.com/gizelda_m/status/979665031...   \n",
       "2                                            unknown   \n",
       "3  https://twitter.com/pelegrini65/status/9790182...   \n",
       "4  https://twitter.com/PauliGVivas/status/9796648...   \n",
       "\n",
       "                                                text  \\\n",
       "0                                               text   \n",
       "1  RT @MendesOnca: Fracasso Bolsonaro só tem públ...   \n",
       "2  RT @pelegrini65: Após caluniar, ameaçar, incit...   \n",
       "3  Após caluniar, ameaçar, incitar as pessoas con...   \n",
       "4  RT @BohnGass: \"Nenhum apoiador de Bolsonaro ap...   \n",
       "\n",
       "                                      text_emojified     photo_uniq_id  \n",
       "0                                     text_emojified  file00000001.url  \n",
       "1  RT @MendesOnca: Fracasso Bolsonaro só tem públ...               NaN  \n",
       "2  RT @pelegrini65: Após caluniar, ameaçar, incit...               NaN  \n",
       "3  Após caluniar, ameaçar, incitar as pessoas con...               NaN  \n",
       "4  RT @BohnGass: \"Nenhum apoiador de Bolsonaro ap...               NaN  "
      ]
     },
     "execution_count": 3,
     "metadata": {},
     "output_type": "execute_result"
    }
   ],
   "source": [
    "df_tweets_raw_data.head(5)"
   ]
  },
  {
   "cell_type": "code",
   "execution_count": 4,
   "id": "ab42f211-52ad-4b10-9a41-70ba437684b7",
   "metadata": {},
   "outputs": [],
   "source": [
    "# Dropping the first row, which contains no useful data, and resetting the index\n",
    "df_tweets_raw_data = df_tweets_raw_data.drop(index=0).reset_index(drop=True)"
   ]
  },
  {
   "cell_type": "code",
   "execution_count": 5,
   "id": "cbbbcd20-97cb-48c6-9908-b633804e5745",
   "metadata": {},
   "outputs": [],
   "source": [
    "# Dropping the columns 'text_emojified' and 'photo_uniq_id' which are not used in this analysis\n",
    "df_tweets_raw_data = df_tweets_raw_data.drop(columns=['text_emojified', 'photo_uniq_id'])"
   ]
  },
  {
   "cell_type": "code",
   "execution_count": 6,
   "id": "376d20eb-453c-4818-9906-69bbffe3a0ab",
   "metadata": {},
   "outputs": [
    {
     "data": {
      "text/html": [
       "<div>\n",
       "<style scoped>\n",
       "    .dataframe tbody tr th:only-of-type {\n",
       "        vertical-align: middle;\n",
       "    }\n",
       "\n",
       "    .dataframe tbody tr th {\n",
       "        vertical-align: top;\n",
       "    }\n",
       "\n",
       "    .dataframe thead th {\n",
       "        text-align: right;\n",
       "    }\n",
       "</style>\n",
       "<table border=\"1\" class=\"dataframe\">\n",
       "  <thead>\n",
       "    <tr style=\"text-align: right;\">\n",
       "      <th></th>\n",
       "      <th>file</th>\n",
       "      <th>created_at</th>\n",
       "      <th>text_uniq</th>\n",
       "      <th>conversation_id</th>\n",
       "      <th>author_id</th>\n",
       "      <th>username</th>\n",
       "      <th>tweet_url</th>\n",
       "      <th>text</th>\n",
       "    </tr>\n",
       "  </thead>\n",
       "  <tbody>\n",
       "    <tr>\n",
       "      <th>0</th>\n",
       "      <td>bolsonaro201803_n_00101.json</td>\n",
       "      <td>2018-03-30 10:21:59</td>\n",
       "      <td>tweet_00000002</td>\n",
       "      <td>convo_979665031997612034</td>\n",
       "      <td>id_731971002817744896</td>\n",
       "      <td>gizelda_m</td>\n",
       "      <td>https://twitter.com/gizelda_m/status/979665031...</td>\n",
       "      <td>RT @MendesOnca: Fracasso Bolsonaro só tem públ...</td>\n",
       "    </tr>\n",
       "    <tr>\n",
       "      <th>1</th>\n",
       "      <td>bolsonaro201803_n_00101.json</td>\n",
       "      <td>2018-03-30 10:21:32</td>\n",
       "      <td>tweet_00000003</td>\n",
       "      <td>convo_979664919955214337</td>\n",
       "      <td>id_14372459</td>\n",
       "      <td>unknown</td>\n",
       "      <td>unknown</td>\n",
       "      <td>RT @pelegrini65: Após caluniar, ameaçar, incit...</td>\n",
       "    </tr>\n",
       "    <tr>\n",
       "      <th>2</th>\n",
       "      <td>bolsonaro201803_n_00101.json</td>\n",
       "      <td>2018-03-28 15:31:51</td>\n",
       "      <td>tweet_00000004</td>\n",
       "      <td>convo_979018234736373760</td>\n",
       "      <td>id_287765295</td>\n",
       "      <td>pelegrini65</td>\n",
       "      <td>https://twitter.com/pelegrini65/status/9790182...</td>\n",
       "      <td>Após caluniar, ameaçar, incitar as pessoas con...</td>\n",
       "    </tr>\n",
       "    <tr>\n",
       "      <th>3</th>\n",
       "      <td>bolsonaro201803_n_00101.json</td>\n",
       "      <td>2018-03-30 10:21:21</td>\n",
       "      <td>tweet_00000005</td>\n",
       "      <td>convo_979664873788502016</td>\n",
       "      <td>id_2551060160</td>\n",
       "      <td>PauliGVivas</td>\n",
       "      <td>https://twitter.com/PauliGVivas/status/9796648...</td>\n",
       "      <td>RT @BohnGass: \"Nenhum apoiador de Bolsonaro ap...</td>\n",
       "    </tr>\n",
       "    <tr>\n",
       "      <th>4</th>\n",
       "      <td>bolsonaro201803_n_00101.json</td>\n",
       "      <td>2018-03-29 21:06:45</td>\n",
       "      <td>tweet_00000006</td>\n",
       "      <td>convo_979464906327158784</td>\n",
       "      <td>id_63127680</td>\n",
       "      <td>BohnGass</td>\n",
       "      <td>https://twitter.com/BohnGass/status/9794649063...</td>\n",
       "      <td>Nenhum apoiador de Bolsonaro apareceu no local...</td>\n",
       "    </tr>\n",
       "    <tr>\n",
       "      <th>...</th>\n",
       "      <td>...</td>\n",
       "      <td>...</td>\n",
       "      <td>...</td>\n",
       "      <td>...</td>\n",
       "      <td>...</td>\n",
       "      <td>...</td>\n",
       "      <td>...</td>\n",
       "      <td>...</td>\n",
       "    </tr>\n",
       "    <tr>\n",
       "      <th>1783133</th>\n",
       "      <td>bolsonaro202304_n_00206.json</td>\n",
       "      <td>2023-04-29 19:17:53</td>\n",
       "      <td>tweet_00480328</td>\n",
       "      <td>convo_1652391775812681728</td>\n",
       "      <td>id_1062737655954317312</td>\n",
       "      <td>unknown</td>\n",
       "      <td>unknown</td>\n",
       "      <td>RT @Jakelyneloiola_: Tarcísio replica política...</td>\n",
       "    </tr>\n",
       "    <tr>\n",
       "      <th>1783134</th>\n",
       "      <td>bolsonaro202304_n_00206.json</td>\n",
       "      <td>2023-04-29 01:32:46</td>\n",
       "      <td>tweet_00480329</td>\n",
       "      <td>convo_1652123726853337094</td>\n",
       "      <td>id_1114237991797522434</td>\n",
       "      <td>Jakelyneloiola_</td>\n",
       "      <td>https://twitter.com/Jakelyneloiola_/status/165...</td>\n",
       "      <td>Tarcísio replica política de Bolsonaro e distr...</td>\n",
       "    </tr>\n",
       "    <tr>\n",
       "      <th>1783135</th>\n",
       "      <td>bolsonaro202304_n_00206.json</td>\n",
       "      <td>2023-04-29 19:17:52</td>\n",
       "      <td>tweet_00480507</td>\n",
       "      <td>convo_1652391768954945541</td>\n",
       "      <td>id_1081423351057448960</td>\n",
       "      <td>GisleideZV</td>\n",
       "      <td>https://twitter.com/GisleideZV/status/16523917...</td>\n",
       "      <td>RT @Zoro_ZV: Passando só pra lembrar à Direta ...</td>\n",
       "    </tr>\n",
       "    <tr>\n",
       "      <th>1783136</th>\n",
       "      <td>bolsonaro202304_n_00206.json</td>\n",
       "      <td>2023-04-29 19:17:51</td>\n",
       "      <td>tweet_00487148</td>\n",
       "      <td>convo_1652389098881941507</td>\n",
       "      <td>id_1614107228805414913</td>\n",
       "      <td>unknown</td>\n",
       "      <td>unknown</td>\n",
       "      <td>@lucianoaugusto1 @choquei fds pega a filó e en...</td>\n",
       "    </tr>\n",
       "    <tr>\n",
       "      <th>1783137</th>\n",
       "      <td>bolsonaro202304_n_00206.json</td>\n",
       "      <td>2023-04-29 19:16:42</td>\n",
       "      <td>tweet_00487149</td>\n",
       "      <td>convo_1652389098881941507</td>\n",
       "      <td>id_22368103</td>\n",
       "      <td>lucianoaugusto1</td>\n",
       "      <td>https://twitter.com/lucianoaugusto1/status/165...</td>\n",
       "      <td>@choquei Fazuelli e chama a Luisa Mel... Lulis...</td>\n",
       "    </tr>\n",
       "  </tbody>\n",
       "</table>\n",
       "<p>1783138 rows × 8 columns</p>\n",
       "</div>"
      ],
      "text/plain": [
       "                                 file           created_at       text_uniq  \\\n",
       "0        bolsonaro201803_n_00101.json  2018-03-30 10:21:59  tweet_00000002   \n",
       "1        bolsonaro201803_n_00101.json  2018-03-30 10:21:32  tweet_00000003   \n",
       "2        bolsonaro201803_n_00101.json  2018-03-28 15:31:51  tweet_00000004   \n",
       "3        bolsonaro201803_n_00101.json  2018-03-30 10:21:21  tweet_00000005   \n",
       "4        bolsonaro201803_n_00101.json  2018-03-29 21:06:45  tweet_00000006   \n",
       "...                               ...                  ...             ...   \n",
       "1783133  bolsonaro202304_n_00206.json  2023-04-29 19:17:53  tweet_00480328   \n",
       "1783134  bolsonaro202304_n_00206.json  2023-04-29 01:32:46  tweet_00480329   \n",
       "1783135  bolsonaro202304_n_00206.json  2023-04-29 19:17:52  tweet_00480507   \n",
       "1783136  bolsonaro202304_n_00206.json  2023-04-29 19:17:51  tweet_00487148   \n",
       "1783137  bolsonaro202304_n_00206.json  2023-04-29 19:16:42  tweet_00487149   \n",
       "\n",
       "                   conversation_id               author_id         username  \\\n",
       "0         convo_979665031997612034   id_731971002817744896        gizelda_m   \n",
       "1         convo_979664919955214337             id_14372459          unknown   \n",
       "2         convo_979018234736373760            id_287765295      pelegrini65   \n",
       "3         convo_979664873788502016           id_2551060160      PauliGVivas   \n",
       "4         convo_979464906327158784             id_63127680         BohnGass   \n",
       "...                            ...                     ...              ...   \n",
       "1783133  convo_1652391775812681728  id_1062737655954317312          unknown   \n",
       "1783134  convo_1652123726853337094  id_1114237991797522434  Jakelyneloiola_   \n",
       "1783135  convo_1652391768954945541  id_1081423351057448960       GisleideZV   \n",
       "1783136  convo_1652389098881941507  id_1614107228805414913          unknown   \n",
       "1783137  convo_1652389098881941507             id_22368103  lucianoaugusto1   \n",
       "\n",
       "                                                 tweet_url  \\\n",
       "0        https://twitter.com/gizelda_m/status/979665031...   \n",
       "1                                                  unknown   \n",
       "2        https://twitter.com/pelegrini65/status/9790182...   \n",
       "3        https://twitter.com/PauliGVivas/status/9796648...   \n",
       "4        https://twitter.com/BohnGass/status/9794649063...   \n",
       "...                                                    ...   \n",
       "1783133                                            unknown   \n",
       "1783134  https://twitter.com/Jakelyneloiola_/status/165...   \n",
       "1783135  https://twitter.com/GisleideZV/status/16523917...   \n",
       "1783136                                            unknown   \n",
       "1783137  https://twitter.com/lucianoaugusto1/status/165...   \n",
       "\n",
       "                                                      text  \n",
       "0        RT @MendesOnca: Fracasso Bolsonaro só tem públ...  \n",
       "1        RT @pelegrini65: Após caluniar, ameaçar, incit...  \n",
       "2        Após caluniar, ameaçar, incitar as pessoas con...  \n",
       "3        RT @BohnGass: \"Nenhum apoiador de Bolsonaro ap...  \n",
       "4        Nenhum apoiador de Bolsonaro apareceu no local...  \n",
       "...                                                    ...  \n",
       "1783133  RT @Jakelyneloiola_: Tarcísio replica política...  \n",
       "1783134  Tarcísio replica política de Bolsonaro e distr...  \n",
       "1783135  RT @Zoro_ZV: Passando só pra lembrar à Direta ...  \n",
       "1783136  @lucianoaugusto1 @choquei fds pega a filó e en...  \n",
       "1783137  @choquei Fazuelli e chama a Luisa Mel... Lulis...  \n",
       "\n",
       "[1783138 rows x 8 columns]"
      ]
     },
     "execution_count": 6,
     "metadata": {},
     "output_type": "execute_result"
    }
   ],
   "source": [
    "df_tweets_raw_data"
   ]
  },
  {
   "cell_type": "markdown",
   "id": "4277d732-f65b-4e0c-868d-16d2d38ef04b",
   "metadata": {},
   "source": [
    "### Inspecting the dataset and eliminating malformed data"
   ]
  },
  {
   "cell_type": "markdown",
   "id": "fe6a369a-af13-45f0-99b2-6ce5b6388a1c",
   "metadata": {},
   "source": [
    "#### Checking if data types are consistent"
   ]
  },
  {
   "cell_type": "code",
   "execution_count": 7,
   "id": "6795c314-cc1f-4acd-86a1-a4eada8a9bcb",
   "metadata": {},
   "outputs": [
    {
     "data": {
      "text/plain": [
       "file               object\n",
       "created_at         object\n",
       "text_uniq          object\n",
       "conversation_id    object\n",
       "author_id          object\n",
       "username           object\n",
       "tweet_url          object\n",
       "text               object\n",
       "dtype: object"
      ]
     },
     "execution_count": 7,
     "metadata": {},
     "output_type": "execute_result"
    }
   ],
   "source": [
    "df_tweets_raw_data.dtypes"
   ]
  },
  {
   "cell_type": "markdown",
   "id": "30643060-8eaa-47e0-9a52-95f6fbd75515",
   "metadata": {},
   "source": [
    "#### Identifying rows that are empty in column `text`"
   ]
  },
  {
   "cell_type": "code",
   "execution_count": 8,
   "id": "e6de7bb2-56d3-41cb-9294-d19dbeca836b",
   "metadata": {},
   "outputs": [
    {
     "name": "stdout",
     "output_type": "stream",
     "text": [
      "24\n"
     ]
    }
   ],
   "source": [
    "print(df_tweets_raw_data['text'].isnull().sum())"
   ]
  },
  {
   "cell_type": "code",
   "execution_count": 9,
   "id": "ea9e9cf4-0f39-4cdc-84f0-84d8446eea53",
   "metadata": {},
   "outputs": [
    {
     "data": {
      "text/html": [
       "<div>\n",
       "<style scoped>\n",
       "    .dataframe tbody tr th:only-of-type {\n",
       "        vertical-align: middle;\n",
       "    }\n",
       "\n",
       "    .dataframe tbody tr th {\n",
       "        vertical-align: top;\n",
       "    }\n",
       "\n",
       "    .dataframe thead th {\n",
       "        text-align: right;\n",
       "    }\n",
       "</style>\n",
       "<table border=\"1\" class=\"dataframe\">\n",
       "  <thead>\n",
       "    <tr style=\"text-align: right;\">\n",
       "      <th></th>\n",
       "      <th>file</th>\n",
       "      <th>created_at</th>\n",
       "      <th>text_uniq</th>\n",
       "      <th>conversation_id</th>\n",
       "      <th>author_id</th>\n",
       "      <th>username</th>\n",
       "      <th>tweet_url</th>\n",
       "      <th>text</th>\n",
       "    </tr>\n",
       "  </thead>\n",
       "  <tbody>\n",
       "    <tr>\n",
       "      <th>18096</th>\n",
       "      <td>#Bolsonaro2018</td>\n",
       "      <td>@ultimosegundo Ahhhhhhhh.. Então tem q prender...</td>\n",
       "      <td>NaN</td>\n",
       "      <td>NaN</td>\n",
       "      <td>NaN</td>\n",
       "      <td>NaN</td>\n",
       "      <td>NaN</td>\n",
       "      <td>NaN</td>\n",
       "    </tr>\n",
       "    <tr>\n",
       "      <th>18097</th>\n",
       "      <td>#Bolsonaro2018</td>\n",
       "      <td>NaN</td>\n",
       "      <td>NaN</td>\n",
       "      <td>NaN</td>\n",
       "      <td>NaN</td>\n",
       "      <td>NaN</td>\n",
       "      <td>NaN</td>\n",
       "      <td>NaN</td>\n",
       "    </tr>\n",
       "    <tr>\n",
       "      <th>19543</th>\n",
       "      <td>Alguém no PT deve ter uma paixão platônica pel...</td>\n",
       "      <td>@analisdocsPF @paulo_x Foi o Bolsonaro! {{Emoj...</td>\n",
       "      <td>NaN</td>\n",
       "      <td>NaN</td>\n",
       "      <td>NaN</td>\n",
       "      <td>NaN</td>\n",
       "      <td>NaN</td>\n",
       "      <td>NaN</td>\n",
       "    </tr>\n",
       "    <tr>\n",
       "      <th>19544</th>\n",
       "      <td>Alguém no PT deve ter uma paixão platônica pel...</td>\n",
       "      <td>NaN</td>\n",
       "      <td>NaN</td>\n",
       "      <td>NaN</td>\n",
       "      <td>NaN</td>\n",
       "      <td>NaN</td>\n",
       "      <td>NaN</td>\n",
       "      <td>NaN</td>\n",
       "    </tr>\n",
       "    <tr>\n",
       "      <th>37888</th>\n",
       "      <td>Generalizando e rotulando tem que cortar mal p...</td>\n",
       "      <td>NaN</td>\n",
       "      <td>NaN</td>\n",
       "      <td>NaN</td>\n",
       "      <td>NaN</td>\n",
       "      <td>NaN</td>\n",
       "      <td>NaN</td>\n",
       "      <td>NaN</td>\n",
       "    </tr>\n",
       "    <tr>\n",
       "      <th>37889</th>\n",
       "      <td>Bolsonaro racista safado!</td>\n",
       "      <td>@Tilitelly2 @VEJA @MPF_PGR Ele falou que todos...</td>\n",
       "      <td>NaN</td>\n",
       "      <td>NaN</td>\n",
       "      <td>NaN</td>\n",
       "      <td>NaN</td>\n",
       "      <td>NaN</td>\n",
       "      <td>NaN</td>\n",
       "    </tr>\n",
       "    <tr>\n",
       "      <th>37890</th>\n",
       "      <td>Generalizando e rotulando tem que cortar mal p...</td>\n",
       "      <td>NaN</td>\n",
       "      <td>NaN</td>\n",
       "      <td>NaN</td>\n",
       "      <td>NaN</td>\n",
       "      <td>NaN</td>\n",
       "      <td>NaN</td>\n",
       "      <td>NaN</td>\n",
       "    </tr>\n",
       "    <tr>\n",
       "      <th>37891</th>\n",
       "      <td>Bolsonaro racista safado!</td>\n",
       "      <td>NaN</td>\n",
       "      <td>NaN</td>\n",
       "      <td>NaN</td>\n",
       "      <td>NaN</td>\n",
       "      <td>NaN</td>\n",
       "      <td>NaN</td>\n",
       "      <td>NaN</td>\n",
       "    </tr>\n",
       "    <tr>\n",
       "      <th>49732</th>\n",
       "      <td>Oportunista, irresponsável.</td>\n",
       "      <td>@jairbolsonaro</td>\n",
       "      <td>NaN</td>\n",
       "      <td>NaN</td>\n",
       "      <td>NaN</td>\n",
       "      <td>NaN</td>\n",
       "      <td>NaN</td>\n",
       "      <td>NaN</td>\n",
       "    </tr>\n",
       "    <tr>\n",
       "      <th>49733</th>\n",
       "      <td>Oportunista, irresponsável.</td>\n",
       "      <td>NaN</td>\n",
       "      <td>NaN</td>\n",
       "      <td>NaN</td>\n",
       "      <td>NaN</td>\n",
       "      <td>NaN</td>\n",
       "      <td>NaN</td>\n",
       "      <td>NaN</td>\n",
       "    </tr>\n",
       "    <tr>\n",
       "      <th>249421</th>\n",
       "      <td>I. divulgar ou fazer uso de informação privile...</td>\n",
       "      <td>Na Agenda do Governo Bolsonaro 100 dias na pág...</td>\n",
       "      <td>NaN</td>\n",
       "      <td>NaN</td>\n",
       "      <td>NaN</td>\n",
       "      <td>NaN</td>\n",
       "      <td>NaN</td>\n",
       "      <td>NaN</td>\n",
       "    </tr>\n",
       "    <tr>\n",
       "      <th>249422</th>\n",
       "      <td>I. divulgar ou fazer uso de informação privile...</td>\n",
       "      <td>NaN</td>\n",
       "      <td>NaN</td>\n",
       "      <td>NaN</td>\n",
       "      <td>NaN</td>\n",
       "      <td>NaN</td>\n",
       "      <td>NaN</td>\n",
       "      <td>NaN</td>\n",
       "    </tr>\n",
       "    <tr>\n",
       "      <th>292785</th>\n",
       "      <td>QUEM SABE MESMO É SEU PROFESSOR DE HISTORIA MA...</td>\n",
       "      <td>RT @JOAQUINTEIXElRA: JAIR BOLSONARO NÃO SABE N...</td>\n",
       "      <td>NaN</td>\n",
       "      <td>NaN</td>\n",
       "      <td>NaN</td>\n",
       "      <td>NaN</td>\n",
       "      <td>NaN</td>\n",
       "      <td>NaN</td>\n",
       "    </tr>\n",
       "    <tr>\n",
       "      <th>292786</th>\n",
       "      <td>QUEM SABE MESMO É SEU PROFESSOR DE HISTORIA MA...</td>\n",
       "      <td>NaN</td>\n",
       "      <td>NaN</td>\n",
       "      <td>NaN</td>\n",
       "      <td>NaN</td>\n",
       "      <td>NaN</td>\n",
       "      <td>NaN</td>\n",
       "      <td>NaN</td>\n",
       "    </tr>\n",
       "    <tr>\n",
       "      <th>292788</th>\n",
       "      <td>QUEM SABE MESMO É SEU PROFESSOR DE HISTORIA MA...</td>\n",
       "      <td>JAIR BOLSONARO NÃO SABE NADA DA DITADURA NA VE...</td>\n",
       "      <td>NaN</td>\n",
       "      <td>NaN</td>\n",
       "      <td>NaN</td>\n",
       "      <td>NaN</td>\n",
       "      <td>NaN</td>\n",
       "      <td>NaN</td>\n",
       "    </tr>\n",
       "    <tr>\n",
       "      <th>292789</th>\n",
       "      <td>QUEM SABE MESMO É SEU PROFESSOR DE HISTORIA MA...</td>\n",
       "      <td>NaN</td>\n",
       "      <td>NaN</td>\n",
       "      <td>NaN</td>\n",
       "      <td>NaN</td>\n",
       "      <td>NaN</td>\n",
       "      <td>NaN</td>\n",
       "      <td>NaN</td>\n",
       "    </tr>\n",
       "    <tr>\n",
       "      <th>357136</th>\n",
       "      <td>https://t.co/U5B8iiJq0x</td>\n",
       "      <td>Bolsonaro wants to end crime punishment in def...</td>\n",
       "      <td>NaN</td>\n",
       "      <td>NaN</td>\n",
       "      <td>NaN</td>\n",
       "      <td>NaN</td>\n",
       "      <td>NaN</td>\n",
       "      <td>NaN</td>\n",
       "    </tr>\n",
       "    <tr>\n",
       "      <th>357137</th>\n",
       "      <td>https://t.co/U5B8iiJq0x</td>\n",
       "      <td>NaN</td>\n",
       "      <td>NaN</td>\n",
       "      <td>NaN</td>\n",
       "      <td>NaN</td>\n",
       "      <td>NaN</td>\n",
       "      <td>NaN</td>\n",
       "      <td>NaN</td>\n",
       "    </tr>\n",
       "    <tr>\n",
       "      <th>451511</th>\n",
       "      <td>tvbolsonaro: https://t.co/l2uQoDhIwb</td>\n",
       "      <td>NaN</td>\n",
       "      <td>NaN</td>\n",
       "      <td>NaN</td>\n",
       "      <td>NaN</td>\n",
       "      <td>NaN</td>\n",
       "      <td>NaN</td>\n",
       "      <td>NaN</td>\n",
       "    </tr>\n",
       "    <tr>\n",
       "      <th>451512</th>\n",
       "      <td>Isso eu ja tinha certeza! Quem viu a entrevist...</td>\n",
       "      <td>tvbolsonaro: https://t.co/3zZAjgJj6B</td>\n",
       "      <td>NaN</td>\n",
       "      <td>NaN</td>\n",
       "      <td>NaN</td>\n",
       "      <td>NaN</td>\n",
       "      <td>NaN</td>\n",
       "      <td>NaN</td>\n",
       "    </tr>\n",
       "    <tr>\n",
       "      <th>451513</th>\n",
       "      <td>tvbolsonaro: https://t.co/l2uQoDhIwb</td>\n",
       "      <td>NaN</td>\n",
       "      <td>NaN</td>\n",
       "      <td>NaN</td>\n",
       "      <td>NaN</td>\n",
       "      <td>NaN</td>\n",
       "      <td>NaN</td>\n",
       "      <td>NaN</td>\n",
       "    </tr>\n",
       "    <tr>\n",
       "      <th>451514</th>\n",
       "      <td>Isso eu ja tinha certeza! Quem viu a entrevist...</td>\n",
       "      <td>NaN</td>\n",
       "      <td>NaN</td>\n",
       "      <td>NaN</td>\n",
       "      <td>NaN</td>\n",
       "      <td>NaN</td>\n",
       "      <td>NaN</td>\n",
       "      <td>NaN</td>\n",
       "    </tr>\n",
       "    <tr>\n",
       "      <th>999554</th>\n",
       "      <td>foi condicionado ao monitoramento das incertez...</td>\n",
       "      <td>@DePedrodel @ernestofaraujo Lembrando que aind...</td>\n",
       "      <td>NaN</td>\n",
       "      <td>NaN</td>\n",
       "      <td>NaN</td>\n",
       "      <td>NaN</td>\n",
       "      <td>NaN</td>\n",
       "      <td>NaN</td>\n",
       "    </tr>\n",
       "    <tr>\n",
       "      <th>999555</th>\n",
       "      <td>foi condicionado ao monitoramento das incertez...</td>\n",
       "      <td>NaN</td>\n",
       "      <td>NaN</td>\n",
       "      <td>NaN</td>\n",
       "      <td>NaN</td>\n",
       "      <td>NaN</td>\n",
       "      <td>NaN</td>\n",
       "      <td>NaN</td>\n",
       "    </tr>\n",
       "  </tbody>\n",
       "</table>\n",
       "</div>"
      ],
      "text/plain": [
       "                                                     file  \\\n",
       "18096                                      #Bolsonaro2018   \n",
       "18097                                      #Bolsonaro2018   \n",
       "19543   Alguém no PT deve ter uma paixão platônica pel...   \n",
       "19544   Alguém no PT deve ter uma paixão platônica pel...   \n",
       "37888   Generalizando e rotulando tem que cortar mal p...   \n",
       "37889                           Bolsonaro racista safado!   \n",
       "37890   Generalizando e rotulando tem que cortar mal p...   \n",
       "37891                           Bolsonaro racista safado!   \n",
       "49732                         Oportunista, irresponsável.   \n",
       "49733                         Oportunista, irresponsável.   \n",
       "249421  I. divulgar ou fazer uso de informação privile...   \n",
       "249422  I. divulgar ou fazer uso de informação privile...   \n",
       "292785  QUEM SABE MESMO É SEU PROFESSOR DE HISTORIA MA...   \n",
       "292786  QUEM SABE MESMO É SEU PROFESSOR DE HISTORIA MA...   \n",
       "292788  QUEM SABE MESMO É SEU PROFESSOR DE HISTORIA MA...   \n",
       "292789  QUEM SABE MESMO É SEU PROFESSOR DE HISTORIA MA...   \n",
       "357136                            https://t.co/U5B8iiJq0x   \n",
       "357137                            https://t.co/U5B8iiJq0x   \n",
       "451511              tvbolsonaro: https://t.co/l2uQoDhIwb    \n",
       "451512  Isso eu ja tinha certeza! Quem viu a entrevist...   \n",
       "451513              tvbolsonaro: https://t.co/l2uQoDhIwb    \n",
       "451514  Isso eu ja tinha certeza! Quem viu a entrevist...   \n",
       "999554  foi condicionado ao monitoramento das incertez...   \n",
       "999555  foi condicionado ao monitoramento das incertez...   \n",
       "\n",
       "                                               created_at text_uniq  \\\n",
       "18096   @ultimosegundo Ahhhhhhhh.. Então tem q prender...       NaN   \n",
       "18097                                                 NaN       NaN   \n",
       "19543   @analisdocsPF @paulo_x Foi o Bolsonaro! {{Emoj...       NaN   \n",
       "19544                                                 NaN       NaN   \n",
       "37888                                                 NaN       NaN   \n",
       "37889   @Tilitelly2 @VEJA @MPF_PGR Ele falou que todos...       NaN   \n",
       "37890                                                 NaN       NaN   \n",
       "37891                                                 NaN       NaN   \n",
       "49732                                     @jairbolsonaro        NaN   \n",
       "49733                                                 NaN       NaN   \n",
       "249421  Na Agenda do Governo Bolsonaro 100 dias na pág...       NaN   \n",
       "249422                                                NaN       NaN   \n",
       "292785  RT @JOAQUINTEIXElRA: JAIR BOLSONARO NÃO SABE N...       NaN   \n",
       "292786                                                NaN       NaN   \n",
       "292788  JAIR BOLSONARO NÃO SABE NADA DA DITADURA NA VE...       NaN   \n",
       "292789                                                NaN       NaN   \n",
       "357136  Bolsonaro wants to end crime punishment in def...       NaN   \n",
       "357137                                                NaN       NaN   \n",
       "451511                                                NaN       NaN   \n",
       "451512              tvbolsonaro: https://t.co/3zZAjgJj6B        NaN   \n",
       "451513                                                NaN       NaN   \n",
       "451514                                                NaN       NaN   \n",
       "999554  @DePedrodel @ernestofaraujo Lembrando que aind...       NaN   \n",
       "999555                                                NaN       NaN   \n",
       "\n",
       "       conversation_id author_id username tweet_url text  \n",
       "18096              NaN       NaN      NaN       NaN  NaN  \n",
       "18097              NaN       NaN      NaN       NaN  NaN  \n",
       "19543              NaN       NaN      NaN       NaN  NaN  \n",
       "19544              NaN       NaN      NaN       NaN  NaN  \n",
       "37888              NaN       NaN      NaN       NaN  NaN  \n",
       "37889              NaN       NaN      NaN       NaN  NaN  \n",
       "37890              NaN       NaN      NaN       NaN  NaN  \n",
       "37891              NaN       NaN      NaN       NaN  NaN  \n",
       "49732              NaN       NaN      NaN       NaN  NaN  \n",
       "49733              NaN       NaN      NaN       NaN  NaN  \n",
       "249421             NaN       NaN      NaN       NaN  NaN  \n",
       "249422             NaN       NaN      NaN       NaN  NaN  \n",
       "292785             NaN       NaN      NaN       NaN  NaN  \n",
       "292786             NaN       NaN      NaN       NaN  NaN  \n",
       "292788             NaN       NaN      NaN       NaN  NaN  \n",
       "292789             NaN       NaN      NaN       NaN  NaN  \n",
       "357136             NaN       NaN      NaN       NaN  NaN  \n",
       "357137             NaN       NaN      NaN       NaN  NaN  \n",
       "451511             NaN       NaN      NaN       NaN  NaN  \n",
       "451512             NaN       NaN      NaN       NaN  NaN  \n",
       "451513             NaN       NaN      NaN       NaN  NaN  \n",
       "451514             NaN       NaN      NaN       NaN  NaN  \n",
       "999554             NaN       NaN      NaN       NaN  NaN  \n",
       "999555             NaN       NaN      NaN       NaN  NaN  "
      ]
     },
     "execution_count": 9,
     "metadata": {},
     "output_type": "execute_result"
    }
   ],
   "source": [
    "df_tweets_raw_data[df_tweets_raw_data['text'].isnull()]"
   ]
  },
  {
   "cell_type": "markdown",
   "id": "c4bbc61e-77c5-4339-99ed-e8aea3a1ec42",
   "metadata": {},
   "source": [
    "#### Dropping the rows that are empty in the column `text`"
   ]
  },
  {
   "cell_type": "code",
   "execution_count": 10,
   "id": "db62e8de-5e85-4474-9bf4-4c9342c2640b",
   "metadata": {},
   "outputs": [],
   "source": [
    "# Drop the rows whose column 'text' is NaN\n",
    "df_tweets_raw_data = df_tweets_raw_data.dropna(subset=['text'])\n",
    "\n",
    "# Reset the index\n",
    "df_tweets_raw_data = df_tweets_raw_data.reset_index(drop=True)"
   ]
  },
  {
   "cell_type": "code",
   "execution_count": 11,
   "id": "c44d9a76-464b-41ca-842a-921beae1c6ad",
   "metadata": {},
   "outputs": [
    {
     "name": "stdout",
     "output_type": "stream",
     "text": [
      "0\n"
     ]
    }
   ],
   "source": [
    "print(df_tweets_raw_data['text'].isnull().sum())"
   ]
  },
  {
   "cell_type": "markdown",
   "id": "3cd59c55-0719-4485-ad8c-2f76fc5b21ee",
   "metadata": {},
   "source": [
    "#### Removing specific Unicode characters"
   ]
  },
  {
   "cell_type": "markdown",
   "id": "017cc0ca-8a41-4c78-a341-3622a22244a5",
   "metadata": {},
   "source": [
    "The dataset may need to be cleaned of invisible Unicode characters."
   ]
  },
  {
   "cell_type": "markdown",
   "id": "93248ba8-48c5-466a-ac42-f51705ecdf91",
   "metadata": {},
   "source": [
    "##### Detecting `U+2066` and `U+2069` characters"
   ]
  },
  {
   "cell_type": "markdown",
   "id": "ec7838b4-b5dd-4a45-ae3a-e4f3f8408a2b",
   "metadata": {},
   "source": [
    "- [U+2066](https://www.compart.com/en/unicode/U+2066)\n",
    "- [U+2069](https://www.compart.com/en/unicode/U+2069)"
   ]
  },
  {
   "cell_type": "markdown",
   "id": "d1feac56-081a-4197-85ec-363a958848fb",
   "metadata": {},
   "source": [
    "Please refer to:\n",
    "- [Python RegEx](https://www.w3schools.com/python/python_regex.asp)\n",
    "- [regex101](https://regex101.com/)\n",
    "- [RegExr](https://regexr.com/)"
   ]
  },
  {
   "cell_type": "code",
   "execution_count": 12,
   "id": "569db1bb-d6ee-4eca-8383-5dfb522f35aa",
   "metadata": {},
   "outputs": [
    {
     "name": "stdout",
     "output_type": "stream",
     "text": [
      "Character ⁦: Count = 986\n",
      "Character ⁩: Count = 822\n"
     ]
    }
   ],
   "source": [
    "# Defining a function to detect specific Unicode characters\n",
    "def extract_unicode_characters(df, column_name):\n",
    "    unicode_chars = Counter()  # Initialize a Counter to store Unicode character counts\n",
    "\n",
    "    for value in df[column_name]:\n",
    "        if isinstance(value, str):\n",
    "            # Use RegEx to find non-ASCII characters (Unicode)\n",
    "#            non_ascii_chars = re.findall(r'[^\\x00-\\x7F]+', value)\n",
    "            # Use RegEx to find specific Unicode characters - adjust the expression accordingly\n",
    "            specific_unicode_chars = re.findall(r'[\\u2066\\u2069]', value)\n",
    "            unicode_chars.update(specific_unicode_chars)\n",
    "\n",
    "    return unicode_chars\n",
    "\n",
    "# Inspect the dataframe for specific Unicode characters\n",
    "unicode_counts = extract_unicode_characters(df_tweets_raw_data, 'text')\n",
    "\n",
    "# Print the results\n",
    "for char, count in unicode_counts.items():\n",
    "    print(f'Character {char}: Count = {count}')"
   ]
  },
  {
   "cell_type": "markdown",
   "id": "b0c3a43b-31d1-47d2-8bc3-c701c5450b3a",
   "metadata": {},
   "source": [
    "##### Removing `U+2066` and `U+2069` characters"
   ]
  },
  {
   "cell_type": "code",
   "execution_count": 13,
   "id": "795d7929-bb59-4417-87e5-1448a3662264",
   "metadata": {},
   "outputs": [],
   "source": [
    "# Defining a function to remove specific Unicode characters\n",
    "def remove_specific_unicode(input_line):\n",
    "    # Using RegEx to replace specific Unicode characters - adjust the expression accordingly\n",
    "    cleaned_line = re.sub(r'[\\u2066\\u2069]', '', input_line)\n",
    "    return cleaned_line\n",
    "\n",
    "# Removing specific Unicode characters\n",
    "df_tweets_raw_data['text'] = df_tweets_raw_data['text'].apply(remove_specific_unicode)"
   ]
  },
  {
   "cell_type": "markdown",
   "id": "82c87ca3-d26d-450c-8a8e-669a3bc51afb",
   "metadata": {},
   "source": [
    "### Dropping duplicates"
   ]
  },
  {
   "cell_type": "markdown",
   "id": "c0eee4c7-06e1-4ac6-9fd6-0080e0aa3403",
   "metadata": {},
   "source": [
    "#### Retweets"
   ]
  },
  {
   "cell_type": "markdown",
   "id": "76a7b99f-669d-486a-a247-820c7066c45f",
   "metadata": {},
   "source": [
    "Retweets bear the RegEx pattern `/\\bRT @/gm` or `/\\brt @/gm` at the beginning of the column `text`"
   ]
  },
  {
   "cell_type": "code",
   "execution_count": 14,
   "id": "eb7bb1f9-796e-45ef-8ad6-e4adfe11c1c6",
   "metadata": {},
   "outputs": [],
   "source": [
    "# Creating a boolean mask for filtering - it is preceded by '~' to invert the selection\n",
    "mask = ~df_tweets_raw_data['text'].str.contains(r'\\bRT @|\\brt @', regex=True)\n",
    "\n",
    "# Applying the mask to overwrite the raw data dataframe with non retweeted tweets\n",
    "df_tweets_raw_data = df_tweets_raw_data[mask]\n",
    "df_tweets_raw_data = df_tweets_raw_data.reset_index(drop=True)"
   ]
  },
  {
   "cell_type": "markdown",
   "id": "0b71129d-96b8-48aa-be25-f7ff6f1d58f0",
   "metadata": {},
   "source": [
    "#### Duplicate tweets"
   ]
  },
  {
   "cell_type": "markdown",
   "id": "6e176ee8-41a6-457a-8df4-9b848e0f86a0",
   "metadata": {},
   "source": [
    "The dataset was build in a way that if a certain tweet had more than one photo, one copy of the tweet was included per unique photo. Since we are concerned with analysing just the text, those duplicates should be removed. Tweets that bear the same 'tweet_url' are duplicates - we are going to keep only the first."
   ]
  },
  {
   "cell_type": "code",
   "execution_count": 15,
   "id": "ed5a0b5e-d531-4e92-a16c-58d49cae2a37",
   "metadata": {},
   "outputs": [],
   "source": [
    "df_tweets_raw_data.drop_duplicates(subset='tweet_url', keep='first', inplace=True)\n",
    "df_tweets_raw_data = df_tweets_raw_data.reset_index(drop=True)"
   ]
  },
  {
   "cell_type": "markdown",
   "id": "c9c21782-713b-46dd-a8cb-c7a4bf590ae7",
   "metadata": {},
   "source": [
    "#### @mentioned tweets"
   ]
  },
  {
   "cell_type": "markdown",
   "id": "932b4c1c-d6b8-49f9-b88c-678c4ee4b61c",
   "metadata": {},
   "source": [
    "A few users @mention copies of tweets towards other specific users creating multiple copies of the same tweet - those duplicates should be removed."
   ]
  },
  {
   "cell_type": "code",
   "execution_count": 16,
   "id": "b8b6c3bb-2b2e-4086-bf4b-947e95796a69",
   "metadata": {},
   "outputs": [],
   "source": [
    "# Create a new column 'no_mention' containing the contents of the column 'text' without any preceding @mentions\n",
    "df_tweets_raw_data['no_mention'] = df_tweets_raw_data['text'].str.replace(r'@\\w+\\s*', '', regex=True)\n",
    "\n",
    "# Drop duplicate rows except the first occurrence based on 'no_mention'\n",
    "df_tweets_raw_data.drop_duplicates(subset='no_mention', keep='first', inplace=True)\n",
    "df_tweets_raw_data = df_tweets_raw_data.reset_index(drop=True)"
   ]
  },
  {
   "cell_type": "markdown",
   "id": "c0db3847-c807-4504-9324-b114074300f8",
   "metadata": {},
   "source": [
    "## Sampling the raw data according to filtering expressions"
   ]
  },
  {
   "cell_type": "code",
   "execution_count": 17,
   "id": "e818d364-65b5-40a1-aca8-30992032d0f7",
   "metadata": {},
   "outputs": [],
   "source": [
    "# Defining the filtering expressions\n",
    "filter_words = ['arma', 'pátria', 'ladrão', 'cristão', 'comunista', 'família', 'liberdade', 'conservador', 'deus']\n",
    "\n",
    "# Creating a boolean mask for filtering\n",
    "mask = df_tweets_raw_data['text'].str.contains('|'.join(filter_words), case=False)\n",
    "\n",
    "# Applying the mask to create 'df_tweets_filtered'\n",
    "df_tweets_filtered = df_tweets_raw_data[mask]\n",
    "df_tweets_filtered = df_tweets_filtered.reset_index(drop=True)"
   ]
  },
  {
   "cell_type": "code",
   "execution_count": 18,
   "id": "19db4718-37a5-4895-8f3c-cac12e4aa6c4",
   "metadata": {},
   "outputs": [
    {
     "data": {
      "text/html": [
       "<div>\n",
       "<style scoped>\n",
       "    .dataframe tbody tr th:only-of-type {\n",
       "        vertical-align: middle;\n",
       "    }\n",
       "\n",
       "    .dataframe tbody tr th {\n",
       "        vertical-align: top;\n",
       "    }\n",
       "\n",
       "    .dataframe thead th {\n",
       "        text-align: right;\n",
       "    }\n",
       "</style>\n",
       "<table border=\"1\" class=\"dataframe\">\n",
       "  <thead>\n",
       "    <tr style=\"text-align: right;\">\n",
       "      <th></th>\n",
       "      <th>file</th>\n",
       "      <th>created_at</th>\n",
       "      <th>text_uniq</th>\n",
       "      <th>conversation_id</th>\n",
       "      <th>author_id</th>\n",
       "      <th>username</th>\n",
       "      <th>tweet_url</th>\n",
       "      <th>text</th>\n",
       "      <th>no_mention</th>\n",
       "    </tr>\n",
       "  </thead>\n",
       "  <tbody>\n",
       "    <tr>\n",
       "      <th>0</th>\n",
       "      <td>bolsonaro201803_n_00101.json</td>\n",
       "      <td>2018-03-28 15:31:51</td>\n",
       "      <td>tweet_00000004</td>\n",
       "      <td>convo_979018234736373760</td>\n",
       "      <td>id_287765295</td>\n",
       "      <td>pelegrini65</td>\n",
       "      <td>https://twitter.com/pelegrini65/status/9790182...</td>\n",
       "      <td>Após caluniar, ameaçar, incitar as pessoas con...</td>\n",
       "      <td>Após caluniar, ameaçar, incitar as pessoas con...</td>\n",
       "    </tr>\n",
       "    <tr>\n",
       "      <th>1</th>\n",
       "      <td>bolsonaro201803_n_00101.json</td>\n",
       "      <td>2018-03-30 04:12:13</td>\n",
       "      <td>tweet_00000046</td>\n",
       "      <td>convo_979571975545872384</td>\n",
       "      <td>id_16794066</td>\n",
       "      <td>BlogdoNoblat</td>\n",
       "      <td>https://twitter.com/BlogdoNoblat/status/979571...</td>\n",
       "      <td>Bolsonaro deve saber o que está fazendo. Porqu...</td>\n",
       "      <td>Bolsonaro deve saber o que está fazendo. Porqu...</td>\n",
       "    </tr>\n",
       "    <tr>\n",
       "      <th>2</th>\n",
       "      <td>bolsonaro201803_n_00101.json</td>\n",
       "      <td>2018-03-30 10:16:00</td>\n",
       "      <td>tweet_00000051</td>\n",
       "      <td>convo_979363111089135617</td>\n",
       "      <td>id_955901617148235776</td>\n",
       "      <td>MariaOl25529153</td>\n",
       "      <td>https://twitter.com/MariaOl25529153/status/979...</td>\n",
       "      <td>@FlavioBolsonaro Mais um Romário na política ,...</td>\n",
       "      <td>Mais um Romário na política , que Deus ajude o...</td>\n",
       "    </tr>\n",
       "    <tr>\n",
       "      <th>3</th>\n",
       "      <td>bolsonaro201803_n_00102.json</td>\n",
       "      <td>2018-03-28 18:29:28</td>\n",
       "      <td>tweet_00000100</td>\n",
       "      <td>convo_979062935103459331</td>\n",
       "      <td>id_44449830</td>\n",
       "      <td>lucianagenro</td>\n",
       "      <td>https://twitter.com/lucianagenro/status/979062...</td>\n",
       "      <td>A esquerda não tem conseguido comunicar suas p...</td>\n",
       "      <td>A esquerda não tem conseguido comunicar suas p...</td>\n",
       "    </tr>\n",
       "    <tr>\n",
       "      <th>4</th>\n",
       "      <td>bolsonaro201803_n_00102.json</td>\n",
       "      <td>2018-03-30 07:02:08</td>\n",
       "      <td>tweet_00000111</td>\n",
       "      <td>convo_979494088041955328</td>\n",
       "      <td>id_2832082022</td>\n",
       "      <td>AurystellaS</td>\n",
       "      <td>https://twitter.com/AurystellaS/status/9794940...</td>\n",
       "      <td>@BlogdoNoblat Vc sabe informar quantas vezes B...</td>\n",
       "      <td>Vc sabe informar quantas vezes Bolsonaro respi...</td>\n",
       "    </tr>\n",
       "    <tr>\n",
       "      <th>...</th>\n",
       "      <td>...</td>\n",
       "      <td>...</td>\n",
       "      <td>...</td>\n",
       "      <td>...</td>\n",
       "      <td>...</td>\n",
       "      <td>...</td>\n",
       "      <td>...</td>\n",
       "      <td>...</td>\n",
       "      <td>...</td>\n",
       "    </tr>\n",
       "    <tr>\n",
       "      <th>17174</th>\n",
       "      <td>bolsonaro202304_n_00205.json</td>\n",
       "      <td>2023-04-29 19:20:14</td>\n",
       "      <td>tweet_00487107</td>\n",
       "      <td>convo_1652060609674969091</td>\n",
       "      <td>id_1608481812707250176</td>\n",
       "      <td>diniz_benedicto</td>\n",
       "      <td>https://twitter.com/diniz_benedicto/status/165...</td>\n",
       "      <td>@RogerioCorreia_ Rogério Correia. Estou lendo ...</td>\n",
       "      <td>Rogério Correia. Estou lendo \"Os Demônios Desc...</td>\n",
       "    </tr>\n",
       "    <tr>\n",
       "      <th>17175</th>\n",
       "      <td>bolsonaro202304_n_00205.json</td>\n",
       "      <td>2023-04-29 19:19:18</td>\n",
       "      <td>tweet_00487120</td>\n",
       "      <td>convo_1652359568280678401</td>\n",
       "      <td>id_1547227306913153026</td>\n",
       "      <td>LuccaSo44679209</td>\n",
       "      <td>https://twitter.com/LuccaSo44679209/status/165...</td>\n",
       "      <td>@CiresCanisio Não, o Lula não da uma refinaria...</td>\n",
       "      <td>Não, o Lula não da uma refinaria atroca de pro...</td>\n",
       "    </tr>\n",
       "    <tr>\n",
       "      <th>17176</th>\n",
       "      <td>bolsonaro202304_n_00205.json</td>\n",
       "      <td>2023-04-29 19:19:14</td>\n",
       "      <td>tweet_00487123</td>\n",
       "      <td>convo_1652308555968532481</td>\n",
       "      <td>id_1554492869825683457</td>\n",
       "      <td>Andre19lll</td>\n",
       "      <td>https://twitter.com/Andre19lll/status/16523085...</td>\n",
       "      <td>@eunaovoupararde @CarlosZarattini Os índices d...</td>\n",
       "      <td>Os índices de desemprego, PIB, inflação e qual...</td>\n",
       "    </tr>\n",
       "    <tr>\n",
       "      <th>17177</th>\n",
       "      <td>bolsonaro202304_n_00206.json</td>\n",
       "      <td>2023-04-29 19:18:59</td>\n",
       "      <td>tweet_00487127</td>\n",
       "      <td>convo_1651881289497149440</td>\n",
       "      <td>id_1585200142440882179</td>\n",
       "      <td>priscila19865</td>\n",
       "      <td>https://twitter.com/priscila19865/status/16518...</td>\n",
       "      <td>@ValS265451870 @Guthbsb @marcia_miami Tá errad...</td>\n",
       "      <td>Tá errado,EU podendo m.a.t.a.v.a um FDP desse,...</td>\n",
       "    </tr>\n",
       "    <tr>\n",
       "      <th>17178</th>\n",
       "      <td>bolsonaro202304_n_00206.json</td>\n",
       "      <td>2023-04-29 19:18:25</td>\n",
       "      <td>tweet_00487132</td>\n",
       "      <td>convo_1651912640837349377</td>\n",
       "      <td>id_1236078194878541824</td>\n",
       "      <td>JDB33858086</td>\n",
       "      <td>https://twitter.com/JDB33858086/status/1651912...</td>\n",
       "      <td>@Joovito81551003 @odilabueno1 @ORenanxD @Senso...</td>\n",
       "      <td>Se for montagem, então, chumbo trocado não dói...</td>\n",
       "    </tr>\n",
       "  </tbody>\n",
       "</table>\n",
       "<p>17179 rows × 9 columns</p>\n",
       "</div>"
      ],
      "text/plain": [
       "                               file           created_at       text_uniq  \\\n",
       "0      bolsonaro201803_n_00101.json  2018-03-28 15:31:51  tweet_00000004   \n",
       "1      bolsonaro201803_n_00101.json  2018-03-30 04:12:13  tweet_00000046   \n",
       "2      bolsonaro201803_n_00101.json  2018-03-30 10:16:00  tweet_00000051   \n",
       "3      bolsonaro201803_n_00102.json  2018-03-28 18:29:28  tweet_00000100   \n",
       "4      bolsonaro201803_n_00102.json  2018-03-30 07:02:08  tweet_00000111   \n",
       "...                             ...                  ...             ...   \n",
       "17174  bolsonaro202304_n_00205.json  2023-04-29 19:20:14  tweet_00487107   \n",
       "17175  bolsonaro202304_n_00205.json  2023-04-29 19:19:18  tweet_00487120   \n",
       "17176  bolsonaro202304_n_00205.json  2023-04-29 19:19:14  tweet_00487123   \n",
       "17177  bolsonaro202304_n_00206.json  2023-04-29 19:18:59  tweet_00487127   \n",
       "17178  bolsonaro202304_n_00206.json  2023-04-29 19:18:25  tweet_00487132   \n",
       "\n",
       "                 conversation_id               author_id         username  \\\n",
       "0       convo_979018234736373760            id_287765295      pelegrini65   \n",
       "1       convo_979571975545872384             id_16794066     BlogdoNoblat   \n",
       "2       convo_979363111089135617   id_955901617148235776  MariaOl25529153   \n",
       "3       convo_979062935103459331             id_44449830     lucianagenro   \n",
       "4       convo_979494088041955328           id_2832082022      AurystellaS   \n",
       "...                          ...                     ...              ...   \n",
       "17174  convo_1652060609674969091  id_1608481812707250176  diniz_benedicto   \n",
       "17175  convo_1652359568280678401  id_1547227306913153026  LuccaSo44679209   \n",
       "17176  convo_1652308555968532481  id_1554492869825683457       Andre19lll   \n",
       "17177  convo_1651881289497149440  id_1585200142440882179    priscila19865   \n",
       "17178  convo_1651912640837349377  id_1236078194878541824      JDB33858086   \n",
       "\n",
       "                                               tweet_url  \\\n",
       "0      https://twitter.com/pelegrini65/status/9790182...   \n",
       "1      https://twitter.com/BlogdoNoblat/status/979571...   \n",
       "2      https://twitter.com/MariaOl25529153/status/979...   \n",
       "3      https://twitter.com/lucianagenro/status/979062...   \n",
       "4      https://twitter.com/AurystellaS/status/9794940...   \n",
       "...                                                  ...   \n",
       "17174  https://twitter.com/diniz_benedicto/status/165...   \n",
       "17175  https://twitter.com/LuccaSo44679209/status/165...   \n",
       "17176  https://twitter.com/Andre19lll/status/16523085...   \n",
       "17177  https://twitter.com/priscila19865/status/16518...   \n",
       "17178  https://twitter.com/JDB33858086/status/1651912...   \n",
       "\n",
       "                                                    text  \\\n",
       "0      Após caluniar, ameaçar, incitar as pessoas con...   \n",
       "1      Bolsonaro deve saber o que está fazendo. Porqu...   \n",
       "2      @FlavioBolsonaro Mais um Romário na política ,...   \n",
       "3      A esquerda não tem conseguido comunicar suas p...   \n",
       "4      @BlogdoNoblat Vc sabe informar quantas vezes B...   \n",
       "...                                                  ...   \n",
       "17174  @RogerioCorreia_ Rogério Correia. Estou lendo ...   \n",
       "17175  @CiresCanisio Não, o Lula não da uma refinaria...   \n",
       "17176  @eunaovoupararde @CarlosZarattini Os índices d...   \n",
       "17177  @ValS265451870 @Guthbsb @marcia_miami Tá errad...   \n",
       "17178  @Joovito81551003 @odilabueno1 @ORenanxD @Senso...   \n",
       "\n",
       "                                              no_mention  \n",
       "0      Após caluniar, ameaçar, incitar as pessoas con...  \n",
       "1      Bolsonaro deve saber o que está fazendo. Porqu...  \n",
       "2      Mais um Romário na política , que Deus ajude o...  \n",
       "3      A esquerda não tem conseguido comunicar suas p...  \n",
       "4      Vc sabe informar quantas vezes Bolsonaro respi...  \n",
       "...                                                  ...  \n",
       "17174  Rogério Correia. Estou lendo \"Os Demônios Desc...  \n",
       "17175  Não, o Lula não da uma refinaria atroca de pro...  \n",
       "17176  Os índices de desemprego, PIB, inflação e qual...  \n",
       "17177  Tá errado,EU podendo m.a.t.a.v.a um FDP desse,...  \n",
       "17178  Se for montagem, então, chumbo trocado não dói...  \n",
       "\n",
       "[17179 rows x 9 columns]"
      ]
     },
     "execution_count": 18,
     "metadata": {},
     "output_type": "execute_result"
    }
   ],
   "source": [
    "df_tweets_filtered"
   ]
  },
  {
   "cell_type": "markdown",
   "id": "128b9f3a-5604-4efa-82a5-780b9b1f7837",
   "metadata": {},
   "source": [
    "### Exporting the filtered data into a file for inspection"
   ]
  },
  {
   "cell_type": "code",
   "execution_count": 19,
   "id": "c99e0e64-6977-47d0-a15a-9ea1abce8951",
   "metadata": {},
   "outputs": [],
   "source": [
    "df_tweets_filtered.to_csv('tweets_emojified.tsv', sep='\\t', index=False)"
   ]
  },
  {
   "cell_type": "markdown",
   "id": "268d8c1a-2600-4b18-a1c7-0141fdcd40ea",
   "metadata": {},
   "source": [
    "## Replacing emojis"
   ]
  },
  {
   "cell_type": "markdown",
   "id": "3478255c-a7a8-48f0-9608-999dc92464a4",
   "metadata": {},
   "source": [
    "### Demojifying the column `text`"
   ]
  },
  {
   "cell_type": "code",
   "execution_count": 20,
   "id": "2341baec-2fa0-4ee8-82cf-1522257ab02f",
   "metadata": {},
   "outputs": [],
   "source": [
    "# Defining a function to demojify a string\n",
    "def demojify_line(input_line):\n",
    "    demojified_line = demoji.replace_with_desc(input_line, sep='<em>')\n",
    "    return demojified_line\n",
    "\n",
    "df_tweets_filtered['text'] = df_tweets_filtered['text'].apply(demojify_line)"
   ]
  },
  {
   "cell_type": "markdown",
   "id": "08405272-4072-4cbe-92c0-c221d3848181",
   "metadata": {},
   "source": [
    "#### Exporting the filtered data into a file for inspection"
   ]
  },
  {
   "cell_type": "code",
   "execution_count": 21,
   "id": "19a2453a-9a6a-4811-ad67-4a7ad495d95d",
   "metadata": {},
   "outputs": [],
   "source": [
    "df_tweets_filtered.to_csv('tweets_demojified1.tsv', sep='\\t', index=False)"
   ]
  },
  {
   "cell_type": "markdown",
   "id": "820ee493-3e57-4d46-817d-b7a4af0b0722",
   "metadata": {},
   "source": [
    "### Separating the demojified strings with spaces"
   ]
  },
  {
   "cell_type": "code",
   "execution_count": 22,
   "id": "9d55d111-b676-4569-89a0-a1c4ec2e57be",
   "metadata": {},
   "outputs": [],
   "source": [
    "# Defining a function to separate the demojified strings with spaces\n",
    "def preprocess_line(input_line):\n",
    "    # Add a space before the first delimiter '<em>', if it is not already preceded by one\n",
    "    preprocessed_line = re.sub(r'(?<! )<em>', ' <em>', input_line)\n",
    "    # Add a space after the first delimiter '<em>', if it is not already followed by one\n",
    "    preprocessed_line = re.sub(r'<em>(?! )', '<em> ', preprocessed_line)\n",
    "    return preprocessed_line\n",
    "\n",
    "# Separating the demojified strings with spaces\n",
    "df_tweets_filtered['text'] = df_tweets_filtered['text'].apply(preprocess_line)"
   ]
  },
  {
   "cell_type": "markdown",
   "id": "6acb282a-30a2-4401-80ac-305aa5f9d7c5",
   "metadata": {},
   "source": [
    "#### Exporting the filtered data into a file for inspection"
   ]
  },
  {
   "cell_type": "code",
   "execution_count": 23,
   "id": "fa3fce08-90f6-4e6a-97f7-ae69517a3689",
   "metadata": {},
   "outputs": [],
   "source": [
    "df_tweets_filtered.to_csv('tweets_demojified2.tsv', sep='\\t', index=False)"
   ]
  },
  {
   "cell_type": "markdown",
   "id": "2b2b2004-f565-44f9-9d43-31bf393170d8",
   "metadata": {},
   "source": [
    "### Formatting the demojified strings"
   ]
  },
  {
   "cell_type": "code",
   "execution_count": 24,
   "id": "2357ac57-bf81-4377-9a21-90fb79d1fcd8",
   "metadata": {},
   "outputs": [],
   "source": [
    "# Defining a function to format the demojified string\n",
    "def format_demojified_string(input_line):\n",
    "    # Defining a function to format the demojified string using RegEx\n",
    "    def process_demojified_string(s):\n",
    "            # Lowercase the string\n",
    "            s = s.lower()\n",
    "            # Replace spaces and colons followed by a space with underscores\n",
    "            s = re.sub(r'(: )| ', '_', s)\n",
    "            # Add the appropriate prefixes and suffixes\n",
    "            s = f'EMOJI{s}e'\n",
    "            return s\n",
    "\n",
    "    # Use RegEx to find and process each demojified string\n",
    "    processed_line = re.sub(r'<em>(.*?)<em>', lambda match: process_demojified_string(match.group(1)), input_line)\n",
    "    return processed_line\n",
    "\n",
    "# Formatting the demojified strings\n",
    "df_tweets_filtered['text'] = df_tweets_filtered['text'].apply(format_demojified_string)"
   ]
  },
  {
   "cell_type": "markdown",
   "id": "e743b0db-02a0-4e0b-b0b5-d6659960bc30",
   "metadata": {},
   "source": [
    "### Replacing the `pipe` character by the `-` character in the `text` column"
   ]
  },
  {
   "cell_type": "markdown",
   "id": "bc943030-7448-4d4d-98b8-b03c40e113e2",
   "metadata": {},
   "source": [
    "Further on, a few columns of the dataframe are going to be exported into the file `tweets.txt` whose columns need to be delimited by the `pipe` character. Therefore, it is recommended that any occurrences of the `pipe` character in the `text` column are replaced by another character."
   ]
  },
  {
   "cell_type": "code",
   "execution_count": 25,
   "id": "ab1c3584-ae80-41fc-b03a-4286a564a798",
   "metadata": {},
   "outputs": [],
   "source": [
    "# Defining a function to replace the 'pipe' character by the '-' character\n",
    "def replace_pipe_with_hyphen(input_string):\n",
    "    modified_string = re.sub(r'\\|', '-', input_string)\n",
    "    return modified_string\n",
    "\n",
    "# Replacing the 'pipe' character by the '-' character\n",
    "df_tweets_filtered['text'] = df_tweets_filtered['text'].apply(replace_pipe_with_hyphen)\n"
   ]
  },
  {
   "cell_type": "markdown",
   "id": "5a3d28f3-7d63-4c02-ba55-0dbc957a4291",
   "metadata": {},
   "source": [
    "#### Exporting the filtered data into a file for inspection"
   ]
  },
  {
   "cell_type": "code",
   "execution_count": 26,
   "id": "aab47cc6-5888-418a-8e4f-97daaf2ac3ac",
   "metadata": {},
   "outputs": [],
   "source": [
    "df_tweets_filtered.to_csv('tweets_demojified3.tsv', sep='\\t', index=False)"
   ]
  },
  {
   "cell_type": "markdown",
   "id": "776d4ca4-2999-47d3-ae97-b4f3a7599d84",
   "metadata": {},
   "source": [
    "## Tokenising"
   ]
  },
  {
   "cell_type": "markdown",
   "id": "1f950bc7-9ffa-4d96-9ce0-439643f90a55",
   "metadata": {},
   "source": [
    "Please refer to [What is tokenization in NLP?](https://www.analyticsvidhya.com/blog/2020/05/what-is-tokenization-nlp/)."
   ]
  },
  {
   "cell_type": "code",
   "execution_count": 27,
   "id": "9c1d393e-e85d-48f8-93f2-d7dfec6a2062",
   "metadata": {},
   "outputs": [],
   "source": [
    "# Defining a function to tokenise a string\n",
    "def tokenise_string(input_line):\n",
    "    # Replace URLs with placeholders\n",
    "    url_pattern = r'http[s]?://(?:[a-zA-Z]|[0-9]|[$-_@.&+]|[!*\\\\(\\\\),]|(?:%[0-9a-fA-F][0-9a-fA-F]))+\\b'\n",
    "    placeholder = '<URL>'  # Choose a unique placeholder\n",
    "    urls = re.findall(url_pattern, input_line)\n",
    "    tokenised_line = re.sub(url_pattern, placeholder, input_line)  # Replace URLs with placeholders\n",
    "    \n",
    "    # Replace curly quotes with straight ones\n",
    "    tokenised_line = tokenised_line.replace('“', '\"').replace('”', '\"').replace(\"‘\", \"'\").replace(\"’\", \"'\")\n",
    "    # Separate common punctuation marks with spaces\n",
    "    tokenised_line = re.sub(r'([.\\!?,\"\\'/()])', r' \\1 ', tokenised_line)\n",
    "    # Add a space before '#'\n",
    "    tokenised_line = re.sub(r'(?<!\\s)#', r' #', tokenised_line)  # Add a space before '#' if it is not already preceded by one\n",
    "    # Reduce extra spaces by a single space\n",
    "    tokenised_line = re.sub(r'\\s+', ' ', tokenised_line)\n",
    "    \n",
    "    # Replace the placeholders with the respective URLs\n",
    "    for url in urls:\n",
    "        tokenised_line = tokenised_line.replace(placeholder, url, 1)\n",
    "    \n",
    "    return tokenised_line\n",
    "\n",
    "# Tokenising the strings\n",
    "df_tweets_filtered['text'] = df_tweets_filtered['text'].apply(tokenise_string)"
   ]
  },
  {
   "cell_type": "markdown",
   "id": "edad8cc4-bd36-4d7a-905e-55173081cd85",
   "metadata": {},
   "source": [
    "## Creating the files `file_index.txt` and `tweets.txt`"
   ]
  },
  {
   "cell_type": "markdown",
   "id": "d9a908ea-85cd-4ded-b752-2ce8ccee6f62",
   "metadata": {},
   "source": [
    "### Creating column `text_id`"
   ]
  },
  {
   "cell_type": "code",
   "execution_count": 28,
   "id": "e69b8a02-8d66-4227-838a-020f8e458225",
   "metadata": {},
   "outputs": [],
   "source": [
    "df_tweets_filtered['text_id'] = 't' + df_tweets_filtered.index.astype(str).str.zfill(6)"
   ]
  },
  {
   "cell_type": "markdown",
   "id": "b08ecbc7-802a-4546-b770-bd94372e58f7",
   "metadata": {},
   "source": [
    "### Creating column `conversation`"
   ]
  },
  {
   "cell_type": "code",
   "execution_count": 29,
   "id": "2ad070c7-3caf-4eb8-8dfe-eba469fe0ed2",
   "metadata": {},
   "outputs": [],
   "source": [
    "df_tweets_filtered['conversation'] = 'v:' + df_tweets_filtered['author_id'].str.replace('id_', '')"
   ]
  },
  {
   "cell_type": "markdown",
   "id": "b85be5b3-f3ec-4061-a9c7-6d29591a8efd",
   "metadata": {},
   "source": [
    "### Creating column `date`"
   ]
  },
  {
   "cell_type": "code",
   "execution_count": 30,
   "id": "dc30acc9-8d7d-41ef-9e33-2367d4c1462e",
   "metadata": {},
   "outputs": [],
   "source": [
    "# Convert 'created_at' to datetime format\n",
    "df_tweets_filtered['created_at'] = pd.to_datetime(df_tweets_filtered['created_at'])\n",
    "\n",
    "# Extract the date part (without time) into a new column 'date'\n",
    "df_tweets_filtered['date'] = df_tweets_filtered['created_at'].dt.date\n",
    "\n",
    "# Add the prefix 'd:' to the 'date' values\n",
    "df_tweets_filtered['date'] = 'd:' + df_tweets_filtered['date'].astype(str)"
   ]
  },
  {
   "cell_type": "markdown",
   "id": "1067eec7-aedb-4bba-8241-5d5d000f6226",
   "metadata": {},
   "source": [
    "### Creating column `text_url`"
   ]
  },
  {
   "cell_type": "code",
   "execution_count": 31,
   "id": "6a5dec9e-0791-4b40-b59e-b46b62d400ec",
   "metadata": {},
   "outputs": [],
   "source": [
    "df_tweets_filtered['text_url'] = 'url:' + df_tweets_filtered['tweet_url']"
   ]
  },
  {
   "cell_type": "markdown",
   "id": "d27c35b3-69bc-4039-aa13-6b496f81c729",
   "metadata": {},
   "source": [
    "### Creating column `user`"
   ]
  },
  {
   "cell_type": "code",
   "execution_count": 32,
   "id": "5700d8af-3be8-4a60-bd3d-1ddf3df356ca",
   "metadata": {},
   "outputs": [],
   "source": [
    "df_tweets_filtered['user'] = 'u:' + df_tweets_filtered['username']"
   ]
  },
  {
   "cell_type": "markdown",
   "id": "ba1d2a83-b1a0-4db7-b9d3-e6d91202402c",
   "metadata": {},
   "source": [
    "### Creating column `content`"
   ]
  },
  {
   "cell_type": "code",
   "execution_count": 33,
   "id": "cd9313bd-6cbe-487c-a152-de678559260d",
   "metadata": {},
   "outputs": [],
   "source": [
    "df_tweets_filtered['content'] = 'c:' + df_tweets_filtered['text']"
   ]
  },
  {
   "cell_type": "markdown",
   "id": "d11872fa-2b44-4302-ab43-f98f64692eaf",
   "metadata": {},
   "source": [
    "### Reordering the created columns"
   ]
  },
  {
   "cell_type": "markdown",
   "id": "1538070e-1838-454f-a761-549e2bd5bc36",
   "metadata": {},
   "source": [
    "Please refer to:\n",
    "- [Python - List Comprehension 1](https://www.w3schools.com/python/python_lists_comprehension.asp)\n",
    "- [Python - List Comprehension 2](https://treyhunner.com/2015/12/python-list-comprehensions-now-in-color/)"
   ]
  },
  {
   "cell_type": "code",
   "execution_count": 34,
   "id": "afc325f4-43c7-4ba8-b10f-130974d8c191",
   "metadata": {},
   "outputs": [],
   "source": [
    "# Reorder the columns (we use list comprehension to create a list of all columns except 'text_id', 'variable', 'date' and 'text_url')\n",
    "df_tweets_filtered = df_tweets_filtered[['text_id', 'conversation', 'date', 'text_url', 'user', 'content'] + [col for col in df_tweets_filtered.columns if col not in ['text_id', 'conversation', 'date', 'text_url', 'user', 'content']]]"
   ]
  },
  {
   "cell_type": "code",
   "execution_count": 35,
   "id": "1217907f-187c-4d64-a97a-e7a9c607f6dc",
   "metadata": {},
   "outputs": [
    {
     "data": {
      "text/html": [
       "<div>\n",
       "<style scoped>\n",
       "    .dataframe tbody tr th:only-of-type {\n",
       "        vertical-align: middle;\n",
       "    }\n",
       "\n",
       "    .dataframe tbody tr th {\n",
       "        vertical-align: top;\n",
       "    }\n",
       "\n",
       "    .dataframe thead th {\n",
       "        text-align: right;\n",
       "    }\n",
       "</style>\n",
       "<table border=\"1\" class=\"dataframe\">\n",
       "  <thead>\n",
       "    <tr style=\"text-align: right;\">\n",
       "      <th></th>\n",
       "      <th>text_id</th>\n",
       "      <th>conversation</th>\n",
       "      <th>date</th>\n",
       "      <th>text_url</th>\n",
       "      <th>user</th>\n",
       "      <th>content</th>\n",
       "      <th>file</th>\n",
       "      <th>created_at</th>\n",
       "      <th>text_uniq</th>\n",
       "      <th>conversation_id</th>\n",
       "      <th>author_id</th>\n",
       "      <th>username</th>\n",
       "      <th>tweet_url</th>\n",
       "      <th>text</th>\n",
       "      <th>no_mention</th>\n",
       "    </tr>\n",
       "  </thead>\n",
       "  <tbody>\n",
       "    <tr>\n",
       "      <th>0</th>\n",
       "      <td>t000000</td>\n",
       "      <td>v:287765295</td>\n",
       "      <td>d:2018-03-28</td>\n",
       "      <td>url:https://twitter.com/pelegrini65/status/979...</td>\n",
       "      <td>u:pelegrini65</td>\n",
       "      <td>c:Após caluniar , ameaçar , incitar as pessoas...</td>\n",
       "      <td>bolsonaro201803_n_00101.json</td>\n",
       "      <td>2018-03-28 15:31:51</td>\n",
       "      <td>tweet_00000004</td>\n",
       "      <td>convo_979018234736373760</td>\n",
       "      <td>id_287765295</td>\n",
       "      <td>pelegrini65</td>\n",
       "      <td>https://twitter.com/pelegrini65/status/9790182...</td>\n",
       "      <td>Após caluniar , ameaçar , incitar as pessoas c...</td>\n",
       "      <td>Após caluniar, ameaçar, incitar as pessoas con...</td>\n",
       "    </tr>\n",
       "    <tr>\n",
       "      <th>1</th>\n",
       "      <td>t000001</td>\n",
       "      <td>v:16794066</td>\n",
       "      <td>d:2018-03-30</td>\n",
       "      <td>url:https://twitter.com/BlogdoNoblat/status/97...</td>\n",
       "      <td>u:BlogdoNoblat</td>\n",
       "      <td>c:Bolsonaro deve saber o que está fazendo . Po...</td>\n",
       "      <td>bolsonaro201803_n_00101.json</td>\n",
       "      <td>2018-03-30 04:12:13</td>\n",
       "      <td>tweet_00000046</td>\n",
       "      <td>convo_979571975545872384</td>\n",
       "      <td>id_16794066</td>\n",
       "      <td>BlogdoNoblat</td>\n",
       "      <td>https://twitter.com/BlogdoNoblat/status/979571...</td>\n",
       "      <td>Bolsonaro deve saber o que está fazendo . Porq...</td>\n",
       "      <td>Bolsonaro deve saber o que está fazendo. Porqu...</td>\n",
       "    </tr>\n",
       "    <tr>\n",
       "      <th>2</th>\n",
       "      <td>t000002</td>\n",
       "      <td>v:955901617148235776</td>\n",
       "      <td>d:2018-03-30</td>\n",
       "      <td>url:https://twitter.com/MariaOl25529153/status...</td>\n",
       "      <td>u:MariaOl25529153</td>\n",
       "      <td>c:@FlavioBolsonaro Mais um Romário na política...</td>\n",
       "      <td>bolsonaro201803_n_00101.json</td>\n",
       "      <td>2018-03-30 10:16:00</td>\n",
       "      <td>tweet_00000051</td>\n",
       "      <td>convo_979363111089135617</td>\n",
       "      <td>id_955901617148235776</td>\n",
       "      <td>MariaOl25529153</td>\n",
       "      <td>https://twitter.com/MariaOl25529153/status/979...</td>\n",
       "      <td>@FlavioBolsonaro Mais um Romário na política ,...</td>\n",
       "      <td>Mais um Romário na política , que Deus ajude o...</td>\n",
       "    </tr>\n",
       "    <tr>\n",
       "      <th>3</th>\n",
       "      <td>t000003</td>\n",
       "      <td>v:44449830</td>\n",
       "      <td>d:2018-03-28</td>\n",
       "      <td>url:https://twitter.com/lucianagenro/status/97...</td>\n",
       "      <td>u:lucianagenro</td>\n",
       "      <td>c:A esquerda não tem conseguido comunicar suas...</td>\n",
       "      <td>bolsonaro201803_n_00102.json</td>\n",
       "      <td>2018-03-28 18:29:28</td>\n",
       "      <td>tweet_00000100</td>\n",
       "      <td>convo_979062935103459331</td>\n",
       "      <td>id_44449830</td>\n",
       "      <td>lucianagenro</td>\n",
       "      <td>https://twitter.com/lucianagenro/status/979062...</td>\n",
       "      <td>A esquerda não tem conseguido comunicar suas p...</td>\n",
       "      <td>A esquerda não tem conseguido comunicar suas p...</td>\n",
       "    </tr>\n",
       "    <tr>\n",
       "      <th>4</th>\n",
       "      <td>t000004</td>\n",
       "      <td>v:2832082022</td>\n",
       "      <td>d:2018-03-30</td>\n",
       "      <td>url:https://twitter.com/AurystellaS/status/979...</td>\n",
       "      <td>u:AurystellaS</td>\n",
       "      <td>c:@BlogdoNoblat Vc sabe informar quantas vezes...</td>\n",
       "      <td>bolsonaro201803_n_00102.json</td>\n",
       "      <td>2018-03-30 07:02:08</td>\n",
       "      <td>tweet_00000111</td>\n",
       "      <td>convo_979494088041955328</td>\n",
       "      <td>id_2832082022</td>\n",
       "      <td>AurystellaS</td>\n",
       "      <td>https://twitter.com/AurystellaS/status/9794940...</td>\n",
       "      <td>@BlogdoNoblat Vc sabe informar quantas vezes B...</td>\n",
       "      <td>Vc sabe informar quantas vezes Bolsonaro respi...</td>\n",
       "    </tr>\n",
       "    <tr>\n",
       "      <th>...</th>\n",
       "      <td>...</td>\n",
       "      <td>...</td>\n",
       "      <td>...</td>\n",
       "      <td>...</td>\n",
       "      <td>...</td>\n",
       "      <td>...</td>\n",
       "      <td>...</td>\n",
       "      <td>...</td>\n",
       "      <td>...</td>\n",
       "      <td>...</td>\n",
       "      <td>...</td>\n",
       "      <td>...</td>\n",
       "      <td>...</td>\n",
       "      <td>...</td>\n",
       "      <td>...</td>\n",
       "    </tr>\n",
       "    <tr>\n",
       "      <th>17174</th>\n",
       "      <td>t017174</td>\n",
       "      <td>v:1608481812707250176</td>\n",
       "      <td>d:2023-04-29</td>\n",
       "      <td>url:https://twitter.com/diniz_benedicto/status...</td>\n",
       "      <td>u:diniz_benedicto</td>\n",
       "      <td>c:@RogerioCorreia_ Rogério Correia . Estou len...</td>\n",
       "      <td>bolsonaro202304_n_00205.json</td>\n",
       "      <td>2023-04-29 19:20:14</td>\n",
       "      <td>tweet_00487107</td>\n",
       "      <td>convo_1652060609674969091</td>\n",
       "      <td>id_1608481812707250176</td>\n",
       "      <td>diniz_benedicto</td>\n",
       "      <td>https://twitter.com/diniz_benedicto/status/165...</td>\n",
       "      <td>@RogerioCorreia_ Rogério Correia . Estou lendo...</td>\n",
       "      <td>Rogério Correia. Estou lendo \"Os Demônios Desc...</td>\n",
       "    </tr>\n",
       "    <tr>\n",
       "      <th>17175</th>\n",
       "      <td>t017175</td>\n",
       "      <td>v:1547227306913153026</td>\n",
       "      <td>d:2023-04-29</td>\n",
       "      <td>url:https://twitter.com/LuccaSo44679209/status...</td>\n",
       "      <td>u:LuccaSo44679209</td>\n",
       "      <td>c:@CiresCanisio Não , o Lula não da uma refina...</td>\n",
       "      <td>bolsonaro202304_n_00205.json</td>\n",
       "      <td>2023-04-29 19:19:18</td>\n",
       "      <td>tweet_00487120</td>\n",
       "      <td>convo_1652359568280678401</td>\n",
       "      <td>id_1547227306913153026</td>\n",
       "      <td>LuccaSo44679209</td>\n",
       "      <td>https://twitter.com/LuccaSo44679209/status/165...</td>\n",
       "      <td>@CiresCanisio Não , o Lula não da uma refinari...</td>\n",
       "      <td>Não, o Lula não da uma refinaria atroca de pro...</td>\n",
       "    </tr>\n",
       "    <tr>\n",
       "      <th>17176</th>\n",
       "      <td>t017176</td>\n",
       "      <td>v:1554492869825683457</td>\n",
       "      <td>d:2023-04-29</td>\n",
       "      <td>url:https://twitter.com/Andre19lll/status/1652...</td>\n",
       "      <td>u:Andre19lll</td>\n",
       "      <td>c:@eunaovoupararde @CarlosZarattini Os índices...</td>\n",
       "      <td>bolsonaro202304_n_00205.json</td>\n",
       "      <td>2023-04-29 19:19:14</td>\n",
       "      <td>tweet_00487123</td>\n",
       "      <td>convo_1652308555968532481</td>\n",
       "      <td>id_1554492869825683457</td>\n",
       "      <td>Andre19lll</td>\n",
       "      <td>https://twitter.com/Andre19lll/status/16523085...</td>\n",
       "      <td>@eunaovoupararde @CarlosZarattini Os índices d...</td>\n",
       "      <td>Os índices de desemprego, PIB, inflação e qual...</td>\n",
       "    </tr>\n",
       "    <tr>\n",
       "      <th>17177</th>\n",
       "      <td>t017177</td>\n",
       "      <td>v:1585200142440882179</td>\n",
       "      <td>d:2023-04-29</td>\n",
       "      <td>url:https://twitter.com/priscila19865/status/1...</td>\n",
       "      <td>u:priscila19865</td>\n",
       "      <td>c:@ValS265451870 @Guthbsb @marcia_miami Tá err...</td>\n",
       "      <td>bolsonaro202304_n_00206.json</td>\n",
       "      <td>2023-04-29 19:18:59</td>\n",
       "      <td>tweet_00487127</td>\n",
       "      <td>convo_1651881289497149440</td>\n",
       "      <td>id_1585200142440882179</td>\n",
       "      <td>priscila19865</td>\n",
       "      <td>https://twitter.com/priscila19865/status/16518...</td>\n",
       "      <td>@ValS265451870 @Guthbsb @marcia_miami Tá errad...</td>\n",
       "      <td>Tá errado,EU podendo m.a.t.a.v.a um FDP desse,...</td>\n",
       "    </tr>\n",
       "    <tr>\n",
       "      <th>17178</th>\n",
       "      <td>t017178</td>\n",
       "      <td>v:1236078194878541824</td>\n",
       "      <td>d:2023-04-29</td>\n",
       "      <td>url:https://twitter.com/JDB33858086/status/165...</td>\n",
       "      <td>u:JDB33858086</td>\n",
       "      <td>c:@Joovito81551003 @odilabueno1 @ORenanxD @Sen...</td>\n",
       "      <td>bolsonaro202304_n_00206.json</td>\n",
       "      <td>2023-04-29 19:18:25</td>\n",
       "      <td>tweet_00487132</td>\n",
       "      <td>convo_1651912640837349377</td>\n",
       "      <td>id_1236078194878541824</td>\n",
       "      <td>JDB33858086</td>\n",
       "      <td>https://twitter.com/JDB33858086/status/1651912...</td>\n",
       "      <td>@Joovito81551003 @odilabueno1 @ORenanxD @Senso...</td>\n",
       "      <td>Se for montagem, então, chumbo trocado não dói...</td>\n",
       "    </tr>\n",
       "  </tbody>\n",
       "</table>\n",
       "<p>17179 rows × 15 columns</p>\n",
       "</div>"
      ],
      "text/plain": [
       "       text_id           conversation          date  \\\n",
       "0      t000000            v:287765295  d:2018-03-28   \n",
       "1      t000001             v:16794066  d:2018-03-30   \n",
       "2      t000002   v:955901617148235776  d:2018-03-30   \n",
       "3      t000003             v:44449830  d:2018-03-28   \n",
       "4      t000004           v:2832082022  d:2018-03-30   \n",
       "...        ...                    ...           ...   \n",
       "17174  t017174  v:1608481812707250176  d:2023-04-29   \n",
       "17175  t017175  v:1547227306913153026  d:2023-04-29   \n",
       "17176  t017176  v:1554492869825683457  d:2023-04-29   \n",
       "17177  t017177  v:1585200142440882179  d:2023-04-29   \n",
       "17178  t017178  v:1236078194878541824  d:2023-04-29   \n",
       "\n",
       "                                                text_url               user  \\\n",
       "0      url:https://twitter.com/pelegrini65/status/979...      u:pelegrini65   \n",
       "1      url:https://twitter.com/BlogdoNoblat/status/97...     u:BlogdoNoblat   \n",
       "2      url:https://twitter.com/MariaOl25529153/status...  u:MariaOl25529153   \n",
       "3      url:https://twitter.com/lucianagenro/status/97...     u:lucianagenro   \n",
       "4      url:https://twitter.com/AurystellaS/status/979...      u:AurystellaS   \n",
       "...                                                  ...                ...   \n",
       "17174  url:https://twitter.com/diniz_benedicto/status...  u:diniz_benedicto   \n",
       "17175  url:https://twitter.com/LuccaSo44679209/status...  u:LuccaSo44679209   \n",
       "17176  url:https://twitter.com/Andre19lll/status/1652...       u:Andre19lll   \n",
       "17177  url:https://twitter.com/priscila19865/status/1...    u:priscila19865   \n",
       "17178  url:https://twitter.com/JDB33858086/status/165...      u:JDB33858086   \n",
       "\n",
       "                                                 content  \\\n",
       "0      c:Após caluniar , ameaçar , incitar as pessoas...   \n",
       "1      c:Bolsonaro deve saber o que está fazendo . Po...   \n",
       "2      c:@FlavioBolsonaro Mais um Romário na política...   \n",
       "3      c:A esquerda não tem conseguido comunicar suas...   \n",
       "4      c:@BlogdoNoblat Vc sabe informar quantas vezes...   \n",
       "...                                                  ...   \n",
       "17174  c:@RogerioCorreia_ Rogério Correia . Estou len...   \n",
       "17175  c:@CiresCanisio Não , o Lula não da uma refina...   \n",
       "17176  c:@eunaovoupararde @CarlosZarattini Os índices...   \n",
       "17177  c:@ValS265451870 @Guthbsb @marcia_miami Tá err...   \n",
       "17178  c:@Joovito81551003 @odilabueno1 @ORenanxD @Sen...   \n",
       "\n",
       "                               file          created_at       text_uniq  \\\n",
       "0      bolsonaro201803_n_00101.json 2018-03-28 15:31:51  tweet_00000004   \n",
       "1      bolsonaro201803_n_00101.json 2018-03-30 04:12:13  tweet_00000046   \n",
       "2      bolsonaro201803_n_00101.json 2018-03-30 10:16:00  tweet_00000051   \n",
       "3      bolsonaro201803_n_00102.json 2018-03-28 18:29:28  tweet_00000100   \n",
       "4      bolsonaro201803_n_00102.json 2018-03-30 07:02:08  tweet_00000111   \n",
       "...                             ...                 ...             ...   \n",
       "17174  bolsonaro202304_n_00205.json 2023-04-29 19:20:14  tweet_00487107   \n",
       "17175  bolsonaro202304_n_00205.json 2023-04-29 19:19:18  tweet_00487120   \n",
       "17176  bolsonaro202304_n_00205.json 2023-04-29 19:19:14  tweet_00487123   \n",
       "17177  bolsonaro202304_n_00206.json 2023-04-29 19:18:59  tweet_00487127   \n",
       "17178  bolsonaro202304_n_00206.json 2023-04-29 19:18:25  tweet_00487132   \n",
       "\n",
       "                 conversation_id               author_id         username  \\\n",
       "0       convo_979018234736373760            id_287765295      pelegrini65   \n",
       "1       convo_979571975545872384             id_16794066     BlogdoNoblat   \n",
       "2       convo_979363111089135617   id_955901617148235776  MariaOl25529153   \n",
       "3       convo_979062935103459331             id_44449830     lucianagenro   \n",
       "4       convo_979494088041955328           id_2832082022      AurystellaS   \n",
       "...                          ...                     ...              ...   \n",
       "17174  convo_1652060609674969091  id_1608481812707250176  diniz_benedicto   \n",
       "17175  convo_1652359568280678401  id_1547227306913153026  LuccaSo44679209   \n",
       "17176  convo_1652308555968532481  id_1554492869825683457       Andre19lll   \n",
       "17177  convo_1651881289497149440  id_1585200142440882179    priscila19865   \n",
       "17178  convo_1651912640837349377  id_1236078194878541824      JDB33858086   \n",
       "\n",
       "                                               tweet_url  \\\n",
       "0      https://twitter.com/pelegrini65/status/9790182...   \n",
       "1      https://twitter.com/BlogdoNoblat/status/979571...   \n",
       "2      https://twitter.com/MariaOl25529153/status/979...   \n",
       "3      https://twitter.com/lucianagenro/status/979062...   \n",
       "4      https://twitter.com/AurystellaS/status/9794940...   \n",
       "...                                                  ...   \n",
       "17174  https://twitter.com/diniz_benedicto/status/165...   \n",
       "17175  https://twitter.com/LuccaSo44679209/status/165...   \n",
       "17176  https://twitter.com/Andre19lll/status/16523085...   \n",
       "17177  https://twitter.com/priscila19865/status/16518...   \n",
       "17178  https://twitter.com/JDB33858086/status/1651912...   \n",
       "\n",
       "                                                    text  \\\n",
       "0      Após caluniar , ameaçar , incitar as pessoas c...   \n",
       "1      Bolsonaro deve saber o que está fazendo . Porq...   \n",
       "2      @FlavioBolsonaro Mais um Romário na política ,...   \n",
       "3      A esquerda não tem conseguido comunicar suas p...   \n",
       "4      @BlogdoNoblat Vc sabe informar quantas vezes B...   \n",
       "...                                                  ...   \n",
       "17174  @RogerioCorreia_ Rogério Correia . Estou lendo...   \n",
       "17175  @CiresCanisio Não , o Lula não da uma refinari...   \n",
       "17176  @eunaovoupararde @CarlosZarattini Os índices d...   \n",
       "17177  @ValS265451870 @Guthbsb @marcia_miami Tá errad...   \n",
       "17178  @Joovito81551003 @odilabueno1 @ORenanxD @Senso...   \n",
       "\n",
       "                                              no_mention  \n",
       "0      Após caluniar, ameaçar, incitar as pessoas con...  \n",
       "1      Bolsonaro deve saber o que está fazendo. Porqu...  \n",
       "2      Mais um Romário na política , que Deus ajude o...  \n",
       "3      A esquerda não tem conseguido comunicar suas p...  \n",
       "4      Vc sabe informar quantas vezes Bolsonaro respi...  \n",
       "...                                                  ...  \n",
       "17174  Rogério Correia. Estou lendo \"Os Demônios Desc...  \n",
       "17175  Não, o Lula não da uma refinaria atroca de pro...  \n",
       "17176  Os índices de desemprego, PIB, inflação e qual...  \n",
       "17177  Tá errado,EU podendo m.a.t.a.v.a um FDP desse,...  \n",
       "17178  Se for montagem, então, chumbo trocado não dói...  \n",
       "\n",
       "[17179 rows x 15 columns]"
      ]
     },
     "execution_count": 35,
     "metadata": {},
     "output_type": "execute_result"
    }
   ],
   "source": [
    "df_tweets_filtered"
   ]
  },
  {
   "cell_type": "markdown",
   "id": "921f23e3-bc12-4150-8bf1-557184b40d1b",
   "metadata": {},
   "source": [
    "### Creating the file `file_index.txt`"
   ]
  },
  {
   "cell_type": "code",
   "execution_count": 36,
   "id": "199bbbe5-a366-4fde-9314-f0de3d49c379",
   "metadata": {},
   "outputs": [],
   "source": [
    "df_tweets_filtered[['text_id', 'conversation', 'date', 'text_url']].to_csv('file_index.txt', sep=' ', index=False, header=False, encoding='utf-8', lineterminator='\\n')"
   ]
  },
  {
   "cell_type": "markdown",
   "id": "fd415c21-39dc-4083-9632-e5cd92fa6948",
   "metadata": {},
   "source": [
    "### Creating the file `tweets.txt`"
   ]
  },
  {
   "cell_type": "code",
   "execution_count": 37,
   "id": "5445fc96-0b9f-4283-80b3-09b1bddeab91",
   "metadata": {},
   "outputs": [
    {
     "name": "stdout",
     "output_type": "stream",
     "text": [
      "Folder tweets already exists\n"
     ]
    }
   ],
   "source": [
    "folder = 'tweets'\n",
    "try:\n",
    "    os.mkdir(folder)\n",
    "    print(f'Folder {folder} created!')\n",
    "except FileExistsError:\n",
    "    print(f'Folder {folder} already exists')"
   ]
  },
  {
   "cell_type": "markdown",
   "id": "8de49e26-5efe-472f-9952-cef41fcda082",
   "metadata": {},
   "source": [
    "Note: The parameters `doublequote=False` and `escapechar=' '` are required to avoid that the column content is doublequoted with '\"' in sentences that use characters that need to be escaped such as double quote '\"' itself - this causes a malformed response from TreeTagger."
   ]
  },
  {
   "cell_type": "code",
   "execution_count": 38,
   "id": "3b566e03-56e4-44a8-8558-b6e940bb6193",
   "metadata": {},
   "outputs": [],
   "source": [
    "df_tweets_filtered[['text_id', 'conversation', 'date', 'user', 'content']].to_csv(f'{folder}/tweets.txt', sep='|', index=False, header=False, encoding='utf-8', lineterminator='\\n', doublequote=False, escapechar=' ')"
   ]
  },
  {
   "cell_type": "markdown",
   "id": "2f769843-4ff9-4436-a2e0-d61e2c391e9d",
   "metadata": {},
   "source": [
    "## Tagging with TreeTagger"
   ]
  },
  {
   "cell_type": "markdown",
   "id": "f3877be9-6317-42ee-8e8d-c15c48f77996",
   "metadata": {},
   "source": [
    "- On Visual Studio Code (VS Code), open the folder where your project is located with `Open Folder...`\n",
    "- Open a WSL Ubuntu Terminal on VS Code\n",
    "- **Important**: Activate the `my_env` Python environment by executing `source \"$HOME\"/my_env/bin/activate`\n",
    "- Proceed as indicated"
   ]
  },
  {
   "cell_type": "markdown",
   "id": "720724ab-5e77-4e9e-b05a-24cf73259cd0",
   "metadata": {},
   "source": [
    "Purpose: Annotate the texts in `tweets/tweets.txt` with part-of-speech and lemma information.\n",
    "- Input\n",
    "    - `file_index.txt`\n",
    "    - `tweets/tweets.txt`\n",
    "- Output\n",
    "    - `tweets/tagged.txt`"
   ]
  },
  {
   "cell_type": "markdown",
   "id": "9005cc09-f5ef-454f-9b74-4d7ca9fe4f10",
   "metadata": {
    "vscode": {
     "languageId": "raw"
    }
   },
   "source": [
    "```\n",
    "eyamrog@Rog-ASUS:/mnt/c/Users/eyamr/Downloads$ source \"$HOME\"/my_env/bin/activate\n",
    "(my_env) eyamrog@Rog-ASUS:/mnt/c/Users/eyamr/Downloads$ bash treetagging.sh\n",
    "--- treetagging t000000 / t018205 ---\n",
    "        reading parameters ...\n",
    "        tagging ...\n",
    "         finished.\n",
    "--- treetagging t000001 / t018205 ---\n",
    "        reading parameters ...\n",
    "        tagging ...\n",
    "         finished.\n",
    "--- treetagging t000002 / t018205 ---\n",
    "        reading parameters ...\n",
    "        tagging ...\n",
    "         finished.\n",
    "--- treetagging t000003 / t018205 ---\n",
    "        reading parameters ...\n",
    "        tagging ...\n",
    "         finished.\n",
    "<omitted>\n",
    "```"
   ]
  },
  {
   "cell_type": "markdown",
   "id": "fa0060ba-d01c-4e48-a353-8c9ba0fc456e",
   "metadata": {},
   "source": [
    "## Processing `tokenstypes`"
   ]
  },
  {
   "cell_type": "markdown",
   "id": "93351bf2-3457-4b47-8a47-7ff13c4e0e1a",
   "metadata": {},
   "source": [
    "Purpose: Capture the content tokens (specific occurrences of words) and the content types (general concept of words) from `tweets/tagged.txt`.\n",
    "- Input\n",
    "    - `file_index.txt`\n",
    "    - `tweets/tagged.txt`\n",
    "- Output\n",
    "    - `tweets/tokens.txt`\n",
    "    - `tweets/types.txt`"
   ]
  },
  {
   "cell_type": "markdown",
   "id": "6cddc717-8ff2-4f38-ae10-8d6616de6a6c",
   "metadata": {
    "vscode": {
     "languageId": "raw"
    }
   },
   "source": [
    "```\n",
    "eyamrog@Rog-ASUS:/mnt/c/Users/eyamr/Downloads$ source \"$HOME\"/my_env/bin/activate\n",
    "(my_env) eyamrog@Rog-ASUS:/mnt/c/Users/eyamr/Downloads$ bash tokenstypes.sh\n",
    "--- tokenstypes t000000 / 18206 ---\n",
    "--- tokenstypes t000001 / 18206 ---\n",
    "--- tokenstypes t000002 / 18206 ---\n",
    "--- tokenstypes t000003 / 18206 ---\n",
    "--- tokenstypes t000004 / 18206 ---\n",
    "--- tokenstypes t000005 / 18206 ---\n",
    "<omitted>\n",
    "```"
   ]
  },
  {
   "cell_type": "markdown",
   "id": "ef598329-fb5a-4b07-8799-b2bbb55847f1",
   "metadata": {},
   "source": [
    "## Processing `toplemmas`"
   ]
  },
  {
   "cell_type": "markdown",
   "id": "79ce5796-0434-44d5-88e2-8f934a6cebc8",
   "metadata": {},
   "source": [
    "Purpose: Determine the 1.000 top lemmas. **Important**: This process requires manual inspection. Non-meaningful lemmas should be excluded by updating `stoplist.sed` and reiterating the processing.\n",
    "- Input\n",
    "    - `tweets/types.txt`\n",
    "    - `stoplist.sed`: List of rules that allows the exclusion of a certain lemmas\n",
    "- Output\n",
    "    - `selectedwords` = `var_index.txt`"
   ]
  },
  {
   "cell_type": "markdown",
   "id": "13b0fc8e-73e2-4e2d-9e2f-73068e4132fc",
   "metadata": {
    "vscode": {
     "languageId": "raw"
    }
   },
   "source": [
    "```\n",
    "eyamrog@Rog-ASUS:/mnt/c/Users/eyamr/Downloads$ source \"$HOME\"/my_env/bin/activate\n",
    "(my_env) eyamrog@Rog-ASUS:/mnt/c/Users/eyamr/Downloads$ bash toplemmas.sh\n",
    "```"
   ]
  },
  {
   "cell_type": "markdown",
   "id": "eb0a4675-5067-4e8b-8ca8-baf9f1b915c1",
   "metadata": {},
   "source": [
    "## Processing `sas`"
   ]
  },
  {
   "cell_type": "markdown",
   "id": "b0d158b2-73d7-477e-a7a7-2b87216a19ae",
   "metadata": {},
   "source": [
    "Purpose: Prepare input data for processing in SAS.\n",
    "- Input\n",
    "    - `tweets/types.txt`\n",
    "    - `selectedwords`\n",
    "    - `file_index.txt`\n",
    "- Output\n",
    "    - `columns`\n",
    "    - `sas/data.txt`\n",
    "    - `sas/dates.txt`\n",
    "    - `sas/wcount.txt`"
   ]
  },
  {
   "cell_type": "markdown",
   "id": "0d250d29-861c-41a6-9793-e0df758100e0",
   "metadata": {
    "vscode": {
     "languageId": "raw"
    }
   },
   "source": [
    "```\n",
    "eyamrog@Rog-ASUS:/mnt/c/Users/eyamr/Downloads$ source \"$HOME\"/my_env/bin/activate\n",
    "(my_env) eyamrog@Rog-ASUS:/mnt/c/Users/eyamr/Downloads$ bash sas.sh\n",
    "--- v000001 ---\n",
    "--- v000002 ---\n",
    "--- v000003 ---\n",
    "--- v000004 ---\n",
    "--- v000005 ---\n",
    "<omitted>\n",
    "--- v001000 ---\n",
    "[nltk_data] Downloading package punkt to /home/eyamrog/nltk_data...\n",
    "[nltk_data]   Package punkt is already up-to-date!\n",
    "Word counts written to sas/wcount.txt\n",
    "```"
   ]
  },
  {
   "cell_type": "markdown",
   "id": "0e8087ea-ffd4-43b9-8eda-4444b931c319",
   "metadata": {},
   "source": [
    "## Processing `datamatrix`"
   ]
  },
  {
   "cell_type": "markdown",
   "id": "b4374f48-04b6-48af-a31d-125ef0e85972",
   "metadata": {},
   "source": [
    "Purpose: Prepares input data for calculating the correlation matrix.\n",
    "- Input\n",
    "    - `file_index.txt`\n",
    "    - `columns`\n",
    "    - `selectedwords`\n",
    "- Output\n",
    "    - `file_ids.txt`\n",
    "    - `data.csv`"
   ]
  },
  {
   "cell_type": "markdown",
   "id": "23925f09-05ef-44a5-ba48-78cac1dedc76",
   "metadata": {
    "vscode": {
     "languageId": "raw"
    }
   },
   "source": [
    "```\n",
    "eyamrog@Rog-ASUS:/mnt/c/Users/eyamr/Downloads$ source \"$HOME\"/my_env/bin/activate\n",
    "(my_env) eyamrog@Rog-ASUS:/mnt/c/Users/eyamr/Downloads$ bash datamatrix.sh\n",
    "--- v000001 ---\n",
    "--- v000002 ---\n",
    "--- v000003 ---\n",
    "--- v000004 ---\n",
    "--- v000005 ---\n",
    "<omitted>\n",
    "--- v001000 ---\n",
    "--- data.csv ...---\n",
    "```"
   ]
  },
  {
   "cell_type": "markdown",
   "id": "6130e8f0-a7e5-4f6e-b427-090f7cda4856",
   "metadata": {},
   "source": [
    "## Processing `correlationmatrix`"
   ]
  },
  {
   "cell_type": "markdown",
   "id": "8bddbb87-b4de-4c41-8177-b2f677d803b6",
   "metadata": {},
   "source": [
    "Purpose: Calculates the correlation matrix.\n",
    "- Input\n",
    "    - `data.csv`\n",
    "- Output\n",
    "    - `correlation`"
   ]
  },
  {
   "cell_type": "markdown",
   "id": "42927846-5d87-4f5f-8ce6-8beb4ef733a4",
   "metadata": {
    "vscode": {
     "languageId": "raw"
    }
   },
   "source": [
    "```\n",
    "eyamrog@Rog-ASUS:/mnt/c/Users/eyamr/Downloads$ source \"$HOME\"/my_env/bin/activate\n",
    "(my_env) eyamrog@Rog-ASUS:/mnt/c/Users/eyamr/Downloads$ bash correlationmatrix.sh\n",
    "--- python correlation ... ---\n",
    "```"
   ]
  },
  {
   "cell_type": "markdown",
   "id": "86e9203f-e9e1-4a73-8bed-7dec1ad8617e",
   "metadata": {},
   "source": [
    "## Processing `formats`"
   ]
  },
  {
   "cell_type": "markdown",
   "id": "69517100-c28d-44ba-90a7-37988e3df8ad",
   "metadata": {},
   "source": [
    "Purpose: Prepare input data for processing in SAS.\n",
    "- Input\n",
    "    - `data.csv`\n",
    "    - `selectedwords`\n",
    "- Output\n",
    "    - `sas/corr.txt`\n",
    "    - `sas/word_labels_format.sas`"
   ]
  },
  {
   "cell_type": "markdown",
   "id": "96f9b02f-fd33-4ff2-bf57-463fac9743e6",
   "metadata": {
    "vscode": {
     "languageId": "raw"
    }
   },
   "source": [
    "```\n",
    "eyamrog@Rog-ASUS:/mnt/c/Users/eyamr/Downloads$ source \"$HOME\"/my_env/bin/activate\n",
    "(my_env) eyamrog@Rog-ASUS:/mnt/c/Users/eyamr/Downloads$ bash formats.sh\n",
    "--- sas/sas/corr.txt ---\n",
    "--- sas/word_labels_format.sas ---\n",
    "```"
   ]
  },
  {
   "cell_type": "markdown",
   "id": "c322cbac-cd18-4420-a4b1-6bdcab8d880e",
   "metadata": {},
   "source": [
    "## Processing the statistical procedures on SAS"
   ]
  },
  {
   "cell_type": "markdown",
   "id": "f1e61189-3aa3-4d7a-b8f2-ca9e78465ddc",
   "metadata": {},
   "source": [
    "- Log in to your [SAS OnDemand for Academics](https://welcome.oda.sas.com/) account\n",
    "- Proceed as indicated in this [video tutorial](https://youtu.be/I3u9zD3jyOA?si=68uIKVc2iusGG2KY)"
   ]
  },
  {
   "cell_type": "markdown",
   "id": "4d656a17-6cc2-409a-8cc0-b500a11b2581",
   "metadata": {},
   "source": [
    "## Processing `examples`"
   ]
  },
  {
   "cell_type": "markdown",
   "id": "74fe92f1-8083-46d7-b31d-1c43c35fe488",
   "metadata": {},
   "source": [
    "Purpose: Extract examples for analysis.\n",
    "- Input\n",
    "    - `sas/output_\"$project\"/loadtable.html`\n",
    "    - `sas/output_\"$project\"/\"$project\"_scores.tsv`\n",
    "    - `sas/output_\"$project\"/\"$project\"_scores_only.tsv`\n",
    "- Output\n",
    "    - `examples/factors`\n",
    "    - `example files`"
   ]
  },
  {
   "cell_type": "markdown",
   "id": "530850e1-a9ba-43f8-b542-ad5a0e3a4534",
   "metadata": {
    "vscode": {
     "languageId": "raw"
    }
   },
   "source": [
    "```\n",
    "(my_env) eyamrog@Rog-ASUS:/mnt/c/Users/eyamr/Downloads$ bash examples.sh\n",
    "6780\n",
    "1246\n",
    "698\n",
    "123\n",
    "--- examples f1pos ---\n",
    "--- factor 1 pos # 000001 ---\n",
    "tr: warning: an unescaped backslash at end of string is not portable\n",
    "--- factor 1 pos # 000002 ---\n",
    "tr: warning: an unescaped backslash at end of string is not portable\n",
    "--- factor 1 pos # 000003 ---\n",
    "tr: warning: an unescaped backslash at end of string is not portable\n",
    "--- factor 1 pos # 000004 ---\n",
    "tr: warning: an unescaped backslash at end of string is not portable\n",
    "--- factor 1 pos # 000005 ---\n",
    "tr: warning: an unescaped backslash at end of string is not portable\n",
    "<ommitted>\n",
    "```"
   ]
  },
  {
   "cell_type": "markdown",
   "id": "cd38617b-0487-4ba2-b619-d9b78aba9f2c",
   "metadata": {},
   "source": [
    "## Results"
   ]
  },
  {
   "cell_type": "markdown",
   "id": "cf501e4a-1193-4999-bdc0-88c08d2840f7",
   "metadata": {},
   "source": [
    "Right-click on the link and choose `Open link in a new tab` to download the corresponding file."
   ]
  },
  {
   "cell_type": "markdown",
   "id": "4e73ba45-9d6c-4578-b14e-c80c3ccaafe4",
   "metadata": {},
   "source": [
    "- [CL_St1_Querem_Results.zip](https://pucsp-my.sharepoint.com/:u:/g/personal/ra00341729_pucsp_edu_br/ERbP8OEqscBJlh4l6s6_UFgBTUGtnR6PDI1NXZwVBh6Dyg?e=W8YXpq)"
   ]
  },
  {
   "cell_type": "code",
   "execution_count": null,
   "id": "bb169464-4f29-4513-b272-46f201deff17",
   "metadata": {},
   "outputs": [],
   "source": []
  }
 ],
 "metadata": {
  "kernelspec": {
   "display_name": "Python 3 (ipykernel)",
   "language": "python",
   "name": "python3"
  },
  "language_info": {
   "codemirror_mode": {
    "name": "ipython",
    "version": 3
   },
   "file_extension": ".py",
   "mimetype": "text/x-python",
   "name": "python",
   "nbconvert_exporter": "python",
   "pygments_lexer": "ipython3",
   "version": "3.10.12"
  }
 },
 "nbformat": 4,
 "nbformat_minor": 5
}
