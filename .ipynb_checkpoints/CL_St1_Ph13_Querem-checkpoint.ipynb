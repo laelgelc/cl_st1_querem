{
 "cells": [
  {
   "cell_type": "markdown",
   "id": "810d9f10-ec19-4b09-8f90-e983e460b319",
   "metadata": {},
   "source": [
    "<center>\n",
    "<img src=\"https://laelgelcpublic.s3.sa-east-1.amazonaws.com/lael_50_years_narrow_white.png.no_years.400px_96dpi.png\" width=\"300\" alt=\"LAEL 50 years logo\">\n",
    "<h3>APPLIED LINGUISTICS GRADUATE PROGRAMME (LAEL)</h3>\n",
    "</center>\n",
    "<hr>"
   ]
  },
  {
   "cell_type": "markdown",
   "id": "888c2c96-2fc3-4a1a-995b-c388036a2a15",
   "metadata": {},
   "source": [
    "# Corpus Linguistics - Study 1 - Phase 1_3 - Querem"
   ]
  },
  {
   "cell_type": "markdown",
   "id": "efff8d8b-6456-4379-974e-d85ffe03bc6e",
   "metadata": {},
   "source": [
    "This solution calculates the figures that describe the design of the Target Corpus:\n",
    "\n",
    "- The `Year` when the tweets were posted;\n",
    "- The `Quantity of tweets per year`;\n",
    "- The `Quantity of lemmas per year`."
   ]
  },
  {
   "cell_type": "markdown",
   "id": "a221bd29-61ab-45b2-af5f-ae37f8b7bf7a",
   "metadata": {},
   "source": [
    "## Required Python packages"
   ]
  },
  {
   "cell_type": "markdown",
   "id": "90eb4c2c-012b-4ea1-9a45-2a2d717133a5",
   "metadata": {},
   "source": [
    "- pandas"
   ]
  },
  {
   "cell_type": "markdown",
   "id": "d81a22bd-0059-4578-bfc6-29ecef3d2a6d",
   "metadata": {},
   "source": [
    "## Importing the required libraries"
   ]
  },
  {
   "cell_type": "code",
   "execution_count": 1,
   "id": "80dde47b-60e9-4001-9587-cac5fac2cdfe",
   "metadata": {},
   "outputs": [],
   "source": [
    "import pandas as pd"
   ]
  },
  {
   "cell_type": "markdown",
   "id": "6ff7c5e9-a6e9-4c02-8294-1db661b05518",
   "metadata": {},
   "source": [
    "## Defining input variables"
   ]
  },
  {
   "cell_type": "code",
   "execution_count": 2,
   "id": "cd9b9ca5-0cff-4d28-b120-8105c5b5ef47",
   "metadata": {},
   "outputs": [],
   "source": [
    "input_directory = 'sas'"
   ]
  },
  {
   "cell_type": "markdown",
   "id": "b301ddf9-3758-42ba-9a6f-c1dd316ded08",
   "metadata": {},
   "source": [
    "## Importing `sas/wcount.txt` into a DataFrame"
   ]
  },
  {
   "cell_type": "code",
   "execution_count": 3,
   "id": "8fb8f459-ed95-4a13-86e3-6f933ca4f10a",
   "metadata": {},
   "outputs": [],
   "source": [
    "# Defining the column names\n",
    "column_names = ['Text ID', 'Quantity of Words']\n",
    "\n",
    "# Importing the file\n",
    "df_wcount = pd.read_csv(f\"{input_directory}/wcount.txt\", sep=' ', header=None, names=column_names)"
   ]
  },
  {
   "cell_type": "code",
   "execution_count": 4,
   "id": "27649345-825e-4012-82e6-6f845de163ef",
   "metadata": {},
   "outputs": [
    {
     "data": {
      "text/html": [
       "<div>\n",
       "<style scoped>\n",
       "    .dataframe tbody tr th:only-of-type {\n",
       "        vertical-align: middle;\n",
       "    }\n",
       "\n",
       "    .dataframe tbody tr th {\n",
       "        vertical-align: top;\n",
       "    }\n",
       "\n",
       "    .dataframe thead th {\n",
       "        text-align: right;\n",
       "    }\n",
       "</style>\n",
       "<table border=\"1\" class=\"dataframe\">\n",
       "  <thead>\n",
       "    <tr style=\"text-align: right;\">\n",
       "      <th></th>\n",
       "      <th>Text ID</th>\n",
       "      <th>Quantity of Words</th>\n",
       "    </tr>\n",
       "  </thead>\n",
       "  <tbody>\n",
       "    <tr>\n",
       "      <th>0</th>\n",
       "      <td>t000000</td>\n",
       "      <td>47</td>\n",
       "    </tr>\n",
       "    <tr>\n",
       "      <th>1</th>\n",
       "      <td>t000001</td>\n",
       "      <td>37</td>\n",
       "    </tr>\n",
       "    <tr>\n",
       "      <th>2</th>\n",
       "      <td>t000002</td>\n",
       "      <td>42</td>\n",
       "    </tr>\n",
       "    <tr>\n",
       "      <th>3</th>\n",
       "      <td>t000003</td>\n",
       "      <td>43</td>\n",
       "    </tr>\n",
       "    <tr>\n",
       "      <th>4</th>\n",
       "      <td>t000004</td>\n",
       "      <td>22</td>\n",
       "    </tr>\n",
       "    <tr>\n",
       "      <th>...</th>\n",
       "      <td>...</td>\n",
       "      <td>...</td>\n",
       "    </tr>\n",
       "    <tr>\n",
       "      <th>20596</th>\n",
       "      <td>t020596</td>\n",
       "      <td>23</td>\n",
       "    </tr>\n",
       "    <tr>\n",
       "      <th>20597</th>\n",
       "      <td>t020597</td>\n",
       "      <td>51</td>\n",
       "    </tr>\n",
       "    <tr>\n",
       "      <th>20598</th>\n",
       "      <td>t020598</td>\n",
       "      <td>51</td>\n",
       "    </tr>\n",
       "    <tr>\n",
       "      <th>20599</th>\n",
       "      <td>t020599</td>\n",
       "      <td>67</td>\n",
       "    </tr>\n",
       "    <tr>\n",
       "      <th>20600</th>\n",
       "      <td>t020600</td>\n",
       "      <td>38</td>\n",
       "    </tr>\n",
       "  </tbody>\n",
       "</table>\n",
       "<p>20601 rows × 2 columns</p>\n",
       "</div>"
      ],
      "text/plain": [
       "       Text ID  Quantity of Words\n",
       "0      t000000                 47\n",
       "1      t000001                 37\n",
       "2      t000002                 42\n",
       "3      t000003                 43\n",
       "4      t000004                 22\n",
       "...        ...                ...\n",
       "20596  t020596                 23\n",
       "20597  t020597                 51\n",
       "20598  t020598                 51\n",
       "20599  t020599                 67\n",
       "20600  t020600                 38\n",
       "\n",
       "[20601 rows x 2 columns]"
      ]
     },
     "execution_count": 4,
     "metadata": {},
     "output_type": "execute_result"
    }
   ],
   "source": [
    "df_wcount"
   ]
  },
  {
   "cell_type": "code",
   "execution_count": 5,
   "id": "e582fe15-3b12-4966-9036-86460e0df513",
   "metadata": {},
   "outputs": [
    {
     "data": {
      "text/plain": [
       "Text ID              object\n",
       "Quantity of Words     int64\n",
       "dtype: object"
      ]
     },
     "execution_count": 5,
     "metadata": {},
     "output_type": "execute_result"
    }
   ],
   "source": [
    "df_wcount.dtypes"
   ]
  },
  {
   "cell_type": "markdown",
   "id": "368d5601-503e-45b3-885d-ea85d0d08bc0",
   "metadata": {},
   "source": [
    "### Checking how many rows are equal to zero and to NaN in all of the columns"
   ]
  },
  {
   "cell_type": "code",
   "execution_count": 6,
   "id": "c923c99f-42f7-4630-a25b-8df468996ba4",
   "metadata": {},
   "outputs": [
    {
     "name": "stdout",
     "output_type": "stream",
     "text": [
      "Rows where the columns are equal to zero: \n",
      "Text ID              0\n",
      "Quantity of Words    0\n",
      "dtype: int64\n",
      "Rows where the columns are equal to NaN: \n",
      "Text ID              0\n",
      "Quantity of Words    0\n",
      "dtype: int64\n"
     ]
    }
   ],
   "source": [
    "# Counting rows where the columns are equal to zero\n",
    "zero_count = (df_wcount == 0).sum()\n",
    "\n",
    "# Counting rows where the columns are equal to NaN\n",
    "nan_count = df_wcount.isna().sum()\n",
    "\n",
    "print(f\"Rows where the columns are equal to zero: \\n{zero_count}\")\n",
    "print(f\"Rows where the columns are equal to NaN: \\n{nan_count}\")"
   ]
  },
  {
   "cell_type": "markdown",
   "id": "a3e1153a-dd24-43a2-aec5-4875cba981bd",
   "metadata": {},
   "source": [
    "## Importing `sas/dates.txt` into a DataFrame"
   ]
  },
  {
   "cell_type": "code",
   "execution_count": 7,
   "id": "dbc55cc7-6f9d-4d77-90e9-48645a58ca9f",
   "metadata": {},
   "outputs": [],
   "source": [
    "# Defining the column names\n",
    "column_names = ['Text ID', 'Year', 'Month', 'Day']\n",
    "\n",
    "# Importing the file\n",
    "df_dates = pd.read_csv(f\"{input_directory}/dates.txt\", sep=' ', header=None, names=column_names)"
   ]
  },
  {
   "cell_type": "code",
   "execution_count": 8,
   "id": "0b93334a-81eb-46f3-9b14-36ee143389b2",
   "metadata": {},
   "outputs": [
    {
     "data": {
      "text/html": [
       "<div>\n",
       "<style scoped>\n",
       "    .dataframe tbody tr th:only-of-type {\n",
       "        vertical-align: middle;\n",
       "    }\n",
       "\n",
       "    .dataframe tbody tr th {\n",
       "        vertical-align: top;\n",
       "    }\n",
       "\n",
       "    .dataframe thead th {\n",
       "        text-align: right;\n",
       "    }\n",
       "</style>\n",
       "<table border=\"1\" class=\"dataframe\">\n",
       "  <thead>\n",
       "    <tr style=\"text-align: right;\">\n",
       "      <th></th>\n",
       "      <th>Text ID</th>\n",
       "      <th>Year</th>\n",
       "      <th>Month</th>\n",
       "      <th>Day</th>\n",
       "    </tr>\n",
       "  </thead>\n",
       "  <tbody>\n",
       "    <tr>\n",
       "      <th>0</th>\n",
       "      <td>t000000</td>\n",
       "      <td>2018</td>\n",
       "      <td>3</td>\n",
       "      <td>28</td>\n",
       "    </tr>\n",
       "    <tr>\n",
       "      <th>1</th>\n",
       "      <td>t000001</td>\n",
       "      <td>2018</td>\n",
       "      <td>3</td>\n",
       "      <td>30</td>\n",
       "    </tr>\n",
       "    <tr>\n",
       "      <th>2</th>\n",
       "      <td>t000002</td>\n",
       "      <td>2018</td>\n",
       "      <td>3</td>\n",
       "      <td>30</td>\n",
       "    </tr>\n",
       "    <tr>\n",
       "      <th>3</th>\n",
       "      <td>t000003</td>\n",
       "      <td>2018</td>\n",
       "      <td>3</td>\n",
       "      <td>28</td>\n",
       "    </tr>\n",
       "    <tr>\n",
       "      <th>4</th>\n",
       "      <td>t000004</td>\n",
       "      <td>2018</td>\n",
       "      <td>3</td>\n",
       "      <td>30</td>\n",
       "    </tr>\n",
       "    <tr>\n",
       "      <th>...</th>\n",
       "      <td>...</td>\n",
       "      <td>...</td>\n",
       "      <td>...</td>\n",
       "      <td>...</td>\n",
       "    </tr>\n",
       "    <tr>\n",
       "      <th>20596</th>\n",
       "      <td>t020596</td>\n",
       "      <td>2023</td>\n",
       "      <td>4</td>\n",
       "      <td>29</td>\n",
       "    </tr>\n",
       "    <tr>\n",
       "      <th>20597</th>\n",
       "      <td>t020597</td>\n",
       "      <td>2023</td>\n",
       "      <td>4</td>\n",
       "      <td>29</td>\n",
       "    </tr>\n",
       "    <tr>\n",
       "      <th>20598</th>\n",
       "      <td>t020598</td>\n",
       "      <td>2023</td>\n",
       "      <td>4</td>\n",
       "      <td>29</td>\n",
       "    </tr>\n",
       "    <tr>\n",
       "      <th>20599</th>\n",
       "      <td>t020599</td>\n",
       "      <td>2023</td>\n",
       "      <td>4</td>\n",
       "      <td>29</td>\n",
       "    </tr>\n",
       "    <tr>\n",
       "      <th>20600</th>\n",
       "      <td>t020600</td>\n",
       "      <td>2023</td>\n",
       "      <td>4</td>\n",
       "      <td>29</td>\n",
       "    </tr>\n",
       "  </tbody>\n",
       "</table>\n",
       "<p>20601 rows × 4 columns</p>\n",
       "</div>"
      ],
      "text/plain": [
       "       Text ID  Year  Month  Day\n",
       "0      t000000  2018      3   28\n",
       "1      t000001  2018      3   30\n",
       "2      t000002  2018      3   30\n",
       "3      t000003  2018      3   28\n",
       "4      t000004  2018      3   30\n",
       "...        ...   ...    ...  ...\n",
       "20596  t020596  2023      4   29\n",
       "20597  t020597  2023      4   29\n",
       "20598  t020598  2023      4   29\n",
       "20599  t020599  2023      4   29\n",
       "20600  t020600  2023      4   29\n",
       "\n",
       "[20601 rows x 4 columns]"
      ]
     },
     "execution_count": 8,
     "metadata": {},
     "output_type": "execute_result"
    }
   ],
   "source": [
    "df_dates"
   ]
  },
  {
   "cell_type": "code",
   "execution_count": 9,
   "id": "367ae927-22c9-4f6c-a514-819782ab9cf2",
   "metadata": {},
   "outputs": [
    {
     "data": {
      "text/plain": [
       "Text ID    object\n",
       "Year        int64\n",
       "Month       int64\n",
       "Day         int64\n",
       "dtype: object"
      ]
     },
     "execution_count": 9,
     "metadata": {},
     "output_type": "execute_result"
    }
   ],
   "source": [
    "df_dates.dtypes"
   ]
  },
  {
   "cell_type": "markdown",
   "id": "12072e00-1323-4353-93e6-7c11d9531fb0",
   "metadata": {},
   "source": [
    "### Checking how many rows are equal to zero and to NaN in all of the columns"
   ]
  },
  {
   "cell_type": "code",
   "execution_count": 10,
   "id": "277f662d-da05-4eb1-89db-aee73242a3ab",
   "metadata": {},
   "outputs": [
    {
     "name": "stdout",
     "output_type": "stream",
     "text": [
      "Rows where the columns are equal to zero: \n",
      "Text ID    0\n",
      "Year       0\n",
      "Month      0\n",
      "Day        0\n",
      "dtype: int64\n",
      "Rows where the columns are equal to NaN: \n",
      "Text ID    0\n",
      "Year       0\n",
      "Month      0\n",
      "Day        0\n",
      "dtype: int64\n"
     ]
    }
   ],
   "source": [
    "# Counting rows where the columns are equal to zero\n",
    "zero_count = (df_dates == 0).sum()\n",
    "\n",
    "# Counting rows where the columns are equal to NaN\n",
    "nan_count = df_dates.isna().sum()\n",
    "\n",
    "print(f\"Rows where the columns are equal to zero: \\n{zero_count}\")\n",
    "print(f\"Rows where the columns are equal to NaN: \\n{nan_count}\")"
   ]
  },
  {
   "cell_type": "markdown",
   "id": "c51c8d68-d643-49fa-ba53-0be67e7dbd49",
   "metadata": {},
   "source": [
    "## Combining DataFrame `df_dates` and `df_wcount` into DataFrame `df_corpus_design`"
   ]
  },
  {
   "cell_type": "code",
   "execution_count": 11,
   "id": "ad1a8480-f8d4-4af8-8eae-6c7769df08b8",
   "metadata": {},
   "outputs": [],
   "source": [
    "# Merging the DataFrames on 'Text ID'\n",
    "merged_df = pd.merge(df_dates, df_wcount, on='Text ID')\n",
    "\n",
    "# Grouping by 'Year' to get 'Quantity of Texts' and 'Quantity of Words'\n",
    "df_corpus_design = merged_df.groupby('Year').agg({\n",
    "    'Text ID': 'count',\n",
    "    'Quantity of Words': 'sum'\n",
    "}).reset_index()\n",
    "\n",
    "# Renaming columns to match the requirements\n",
    "df_corpus_design.rename(columns={'Year': 'Ano'}, inplace=True)\n",
    "df_corpus_design.rename(columns={'Text ID': 'Tuítes'}, inplace=True)\n",
    "df_corpus_design.rename(columns={'Quantity of Words': 'Formas lexicais'}, inplace=True)"
   ]
  },
  {
   "cell_type": "code",
   "execution_count": 12,
   "id": "40abf672-2562-4b6b-bca6-74f1e5093f95",
   "metadata": {},
   "outputs": [
    {
     "data": {
      "text/html": [
       "<div>\n",
       "<style scoped>\n",
       "    .dataframe tbody tr th:only-of-type {\n",
       "        vertical-align: middle;\n",
       "    }\n",
       "\n",
       "    .dataframe tbody tr th {\n",
       "        vertical-align: top;\n",
       "    }\n",
       "\n",
       "    .dataframe thead th {\n",
       "        text-align: right;\n",
       "    }\n",
       "</style>\n",
       "<table border=\"1\" class=\"dataframe\">\n",
       "  <thead>\n",
       "    <tr style=\"text-align: right;\">\n",
       "      <th></th>\n",
       "      <th>Ano</th>\n",
       "      <th>Tuítes</th>\n",
       "      <th>Formas lexicais</th>\n",
       "    </tr>\n",
       "  </thead>\n",
       "  <tbody>\n",
       "    <tr>\n",
       "      <th>0</th>\n",
       "      <td>2016</td>\n",
       "      <td>6</td>\n",
       "      <td>115</td>\n",
       "    </tr>\n",
       "    <tr>\n",
       "      <th>1</th>\n",
       "      <td>2017</td>\n",
       "      <td>5</td>\n",
       "      <td>131</td>\n",
       "    </tr>\n",
       "    <tr>\n",
       "      <th>2</th>\n",
       "      <td>2018</td>\n",
       "      <td>2641</td>\n",
       "      <td>77425</td>\n",
       "    </tr>\n",
       "    <tr>\n",
       "      <th>3</th>\n",
       "      <td>2019</td>\n",
       "      <td>3064</td>\n",
       "      <td>90223</td>\n",
       "    </tr>\n",
       "    <tr>\n",
       "      <th>4</th>\n",
       "      <td>2020</td>\n",
       "      <td>4034</td>\n",
       "      <td>120599</td>\n",
       "    </tr>\n",
       "    <tr>\n",
       "      <th>5</th>\n",
       "      <td>2021</td>\n",
       "      <td>4095</td>\n",
       "      <td>120869</td>\n",
       "    </tr>\n",
       "    <tr>\n",
       "      <th>6</th>\n",
       "      <td>2022</td>\n",
       "      <td>5358</td>\n",
       "      <td>156241</td>\n",
       "    </tr>\n",
       "    <tr>\n",
       "      <th>7</th>\n",
       "      <td>2023</td>\n",
       "      <td>1398</td>\n",
       "      <td>40899</td>\n",
       "    </tr>\n",
       "  </tbody>\n",
       "</table>\n",
       "</div>"
      ],
      "text/plain": [
       "    Ano  Tuítes  Formas lexicais\n",
       "0  2016       6              115\n",
       "1  2017       5              131\n",
       "2  2018    2641            77425\n",
       "3  2019    3064            90223\n",
       "4  2020    4034           120599\n",
       "5  2021    4095           120869\n",
       "6  2022    5358           156241\n",
       "7  2023    1398            40899"
      ]
     },
     "execution_count": 12,
     "metadata": {},
     "output_type": "execute_result"
    }
   ],
   "source": [
    "df_corpus_design"
   ]
  },
  {
   "cell_type": "code",
   "execution_count": 13,
   "id": "87bbe8a2-fa88-409f-a4e1-7d04102a6a18",
   "metadata": {},
   "outputs": [],
   "source": [
    "total_texts = df_corpus_design['Tuítes'].sum()\n",
    "total_words = df_corpus_design['Formas lexicais'].sum()"
   ]
  },
  {
   "cell_type": "code",
   "execution_count": 14,
   "id": "7aa30595-6650-49fb-a38a-df4a66d1392a",
   "metadata": {},
   "outputs": [
    {
     "name": "stdout",
     "output_type": "stream",
     "text": [
      "O total de tuítes é 20601 e o total de formas lexicais é 606502.\n"
     ]
    }
   ],
   "source": [
    "print(f\"O total de tuítes é {total_texts} e o total de formas lexicais é {total_words}.\")"
   ]
  },
  {
   "cell_type": "markdown",
   "id": "0fbd3d58-c100-44e9-947a-8c29e451d3c8",
   "metadata": {},
   "source": [
    "## Appendices"
   ]
  },
  {
   "cell_type": "markdown",
   "id": "c09ad351-361c-42f3-ae58-de1a7192607a",
   "metadata": {},
   "source": [
    "`df_tweets` ended up not needed in the solution. The process of importing it into a DataFrame is kept here for future reference."
   ]
  },
  {
   "cell_type": "markdown",
   "id": "a05a24b9-6f49-4182-a10a-59b08bad5c46",
   "metadata": {},
   "source": [
    "### Defining input variables"
   ]
  },
  {
   "cell_type": "code",
   "execution_count": 15,
   "id": "812b8d57-16cc-4aec-a469-4c9f47be1de5",
   "metadata": {},
   "outputs": [],
   "source": [
    "input_directory1 = 'tweets'"
   ]
  },
  {
   "cell_type": "markdown",
   "id": "838640f5-97b4-4fa3-aa44-9b8702d5d82a",
   "metadata": {},
   "source": [
    "### Importing `tweets/tweets.txt` into a DataFrame"
   ]
  },
  {
   "cell_type": "code",
   "execution_count": 16,
   "id": "45e991c4-dba6-4ba7-83f3-249363fb1edc",
   "metadata": {},
   "outputs": [],
   "source": [
    "# Defining the column names\n",
    "column_names = ['Text ID', 'Conversation', 'Date', 'User', 'Content']\n",
    "\n",
    "# Importing the file\n",
    "df_tweets = pd.read_csv(f\"{input_directory1}/tweets.txt\", sep='|', header=None, names=column_names)"
   ]
  },
  {
   "cell_type": "markdown",
   "id": "88c31ea9-48a9-4c73-afbe-5d2458570e49",
   "metadata": {},
   "source": [
    "### Checking how many rows are equal to zero and to NaN in all of the columns"
   ]
  },
  {
   "cell_type": "code",
   "execution_count": 17,
   "id": "5cbdf755-fbe4-41d4-81be-7bb2c5128bbd",
   "metadata": {},
   "outputs": [
    {
     "name": "stdout",
     "output_type": "stream",
     "text": [
      "Rows where the columns are equal to zero: \n",
      "Text ID         0\n",
      "Conversation    0\n",
      "Date            0\n",
      "User            0\n",
      "Content         0\n",
      "dtype: int64\n",
      "Rows where the columns are equal to NaN: \n",
      "Text ID         0\n",
      "Conversation    0\n",
      "Date            0\n",
      "User            0\n",
      "Content         0\n",
      "dtype: int64\n"
     ]
    }
   ],
   "source": [
    "# Counting rows where the columns are equal to zero\n",
    "zero_count = (df_tweets == 0).sum()\n",
    "\n",
    "# Counting rows where the columns are equal to NaN\n",
    "nan_count = df_tweets.isna().sum()\n",
    "\n",
    "print(f\"Rows where the columns are equal to zero: \\n{zero_count}\")\n",
    "print(f\"Rows where the columns are equal to NaN: \\n{nan_count}\")"
   ]
  },
  {
   "cell_type": "markdown",
   "id": "42ab1f04-083b-464e-882b-70304a85765e",
   "metadata": {},
   "source": [
    "### Extracting the `Year` column from the `Date` column"
   ]
  },
  {
   "cell_type": "code",
   "execution_count": 18,
   "id": "1b6561cb-26f5-4fd8-975c-f195ed0a4fe5",
   "metadata": {},
   "outputs": [],
   "source": [
    "# Extract year using RegEx\n",
    "df_tweets['Year'] = df_tweets['Date'].str.extract(r'^d:(\\d{4})-\\d{2}-\\d{2}')"
   ]
  },
  {
   "cell_type": "code",
   "execution_count": 19,
   "id": "9c1eb06d-0989-4482-9ce5-107a276e82a1",
   "metadata": {},
   "outputs": [
    {
     "data": {
      "text/html": [
       "<div>\n",
       "<style scoped>\n",
       "    .dataframe tbody tr th:only-of-type {\n",
       "        vertical-align: middle;\n",
       "    }\n",
       "\n",
       "    .dataframe tbody tr th {\n",
       "        vertical-align: top;\n",
       "    }\n",
       "\n",
       "    .dataframe thead th {\n",
       "        text-align: right;\n",
       "    }\n",
       "</style>\n",
       "<table border=\"1\" class=\"dataframe\">\n",
       "  <thead>\n",
       "    <tr style=\"text-align: right;\">\n",
       "      <th></th>\n",
       "      <th>Text ID</th>\n",
       "      <th>Conversation</th>\n",
       "      <th>Date</th>\n",
       "      <th>User</th>\n",
       "      <th>Content</th>\n",
       "      <th>Year</th>\n",
       "    </tr>\n",
       "  </thead>\n",
       "  <tbody>\n",
       "    <tr>\n",
       "      <th>0</th>\n",
       "      <td>t000000</td>\n",
       "      <td>v:287765295</td>\n",
       "      <td>d:2018-03-28</td>\n",
       "      <td>u:pelegrini65</td>\n",
       "      <td>c:Após  caluniar  ,  ameaçar  ,  incitar  as  ...</td>\n",
       "      <td>2018</td>\n",
       "    </tr>\n",
       "    <tr>\n",
       "      <th>1</th>\n",
       "      <td>t000001</td>\n",
       "      <td>v:16794066</td>\n",
       "      <td>d:2018-03-30</td>\n",
       "      <td>u:BlogdoNoblat</td>\n",
       "      <td>c:Bolsonaro  deve  saber  o  que  está  fazend...</td>\n",
       "      <td>2018</td>\n",
       "    </tr>\n",
       "    <tr>\n",
       "      <th>2</th>\n",
       "      <td>t000002</td>\n",
       "      <td>v:955901617148235776</td>\n",
       "      <td>d:2018-03-30</td>\n",
       "      <td>u:MariaOl25529153</td>\n",
       "      <td>c:@FlavioBolsonaro  Mais  um  Romário  na  pol...</td>\n",
       "      <td>2018</td>\n",
       "    </tr>\n",
       "    <tr>\n",
       "      <th>3</th>\n",
       "      <td>t000003</td>\n",
       "      <td>v:44449830</td>\n",
       "      <td>d:2018-03-28</td>\n",
       "      <td>u:lucianagenro</td>\n",
       "      <td>c:A  esquerda  não  tem  conseguido  comunicar...</td>\n",
       "      <td>2018</td>\n",
       "    </tr>\n",
       "    <tr>\n",
       "      <th>4</th>\n",
       "      <td>t000004</td>\n",
       "      <td>v:912132396</td>\n",
       "      <td>d:2018-03-30</td>\n",
       "      <td>u:rocoguima</td>\n",
       "      <td>c:RT  @AurystellaS:  @BlogdoNoblat  Vc  sabe  ...</td>\n",
       "      <td>2018</td>\n",
       "    </tr>\n",
       "    <tr>\n",
       "      <th>...</th>\n",
       "      <td>...</td>\n",
       "      <td>...</td>\n",
       "      <td>...</td>\n",
       "      <td>...</td>\n",
       "      <td>...</td>\n",
       "      <td>...</td>\n",
       "    </tr>\n",
       "    <tr>\n",
       "      <th>20596</th>\n",
       "      <td>t020596</td>\n",
       "      <td>v:1547227306913153026</td>\n",
       "      <td>d:2023-04-29</td>\n",
       "      <td>u:LuccaSo44679209</td>\n",
       "      <td>c:RT  @LuccaSo44679209:  @CiresCanisio  Não  ,...</td>\n",
       "      <td>2023</td>\n",
       "    </tr>\n",
       "    <tr>\n",
       "      <th>20597</th>\n",
       "      <td>t020597</td>\n",
       "      <td>v:1547227306913153026</td>\n",
       "      <td>d:2023-04-29</td>\n",
       "      <td>u:LuccaSo44679209</td>\n",
       "      <td>c:@CiresCanisio  Não  ,  o  Lula  não  da  uma...</td>\n",
       "      <td>2023</td>\n",
       "    </tr>\n",
       "    <tr>\n",
       "      <th>20598</th>\n",
       "      <td>t020598</td>\n",
       "      <td>v:1554492869825683457</td>\n",
       "      <td>d:2023-04-29</td>\n",
       "      <td>u:Andre19lll</td>\n",
       "      <td>c:@eunaovoupararde  @CarlosZarattini  Os  índi...</td>\n",
       "      <td>2023</td>\n",
       "    </tr>\n",
       "    <tr>\n",
       "      <th>20599</th>\n",
       "      <td>t020599</td>\n",
       "      <td>v:1585200142440882179</td>\n",
       "      <td>d:2023-04-29</td>\n",
       "      <td>u:priscila19865</td>\n",
       "      <td>c:@ValS265451870  @Guthbsb  @marcia_miami  Tá ...</td>\n",
       "      <td>2023</td>\n",
       "    </tr>\n",
       "    <tr>\n",
       "      <th>20600</th>\n",
       "      <td>t020600</td>\n",
       "      <td>v:1236078194878541824</td>\n",
       "      <td>d:2023-04-29</td>\n",
       "      <td>u:JDB33858086</td>\n",
       "      <td>c:@Joovito81551003  @odilabueno1  @ORenanxD  @...</td>\n",
       "      <td>2023</td>\n",
       "    </tr>\n",
       "  </tbody>\n",
       "</table>\n",
       "<p>20601 rows × 6 columns</p>\n",
       "</div>"
      ],
      "text/plain": [
       "       Text ID           Conversation          Date               User  \\\n",
       "0      t000000            v:287765295  d:2018-03-28      u:pelegrini65   \n",
       "1      t000001             v:16794066  d:2018-03-30     u:BlogdoNoblat   \n",
       "2      t000002   v:955901617148235776  d:2018-03-30  u:MariaOl25529153   \n",
       "3      t000003             v:44449830  d:2018-03-28     u:lucianagenro   \n",
       "4      t000004            v:912132396  d:2018-03-30        u:rocoguima   \n",
       "...        ...                    ...           ...                ...   \n",
       "20596  t020596  v:1547227306913153026  d:2023-04-29  u:LuccaSo44679209   \n",
       "20597  t020597  v:1547227306913153026  d:2023-04-29  u:LuccaSo44679209   \n",
       "20598  t020598  v:1554492869825683457  d:2023-04-29       u:Andre19lll   \n",
       "20599  t020599  v:1585200142440882179  d:2023-04-29    u:priscila19865   \n",
       "20600  t020600  v:1236078194878541824  d:2023-04-29      u:JDB33858086   \n",
       "\n",
       "                                                 Content  Year  \n",
       "0      c:Após  caluniar  ,  ameaçar  ,  incitar  as  ...  2018  \n",
       "1      c:Bolsonaro  deve  saber  o  que  está  fazend...  2018  \n",
       "2      c:@FlavioBolsonaro  Mais  um  Romário  na  pol...  2018  \n",
       "3      c:A  esquerda  não  tem  conseguido  comunicar...  2018  \n",
       "4      c:RT  @AurystellaS:  @BlogdoNoblat  Vc  sabe  ...  2018  \n",
       "...                                                  ...   ...  \n",
       "20596  c:RT  @LuccaSo44679209:  @CiresCanisio  Não  ,...  2023  \n",
       "20597  c:@CiresCanisio  Não  ,  o  Lula  não  da  uma...  2023  \n",
       "20598  c:@eunaovoupararde  @CarlosZarattini  Os  índi...  2023  \n",
       "20599  c:@ValS265451870  @Guthbsb  @marcia_miami  Tá ...  2023  \n",
       "20600  c:@Joovito81551003  @odilabueno1  @ORenanxD  @...  2023  \n",
       "\n",
       "[20601 rows x 6 columns]"
      ]
     },
     "execution_count": 19,
     "metadata": {},
     "output_type": "execute_result"
    }
   ],
   "source": [
    "df_tweets"
   ]
  },
  {
   "cell_type": "code",
   "execution_count": 20,
   "id": "63a3887f-0e97-4f2a-8391-a8786395a9e6",
   "metadata": {},
   "outputs": [
    {
     "data": {
      "text/plain": [
       "Text ID         object\n",
       "Conversation    object\n",
       "Date            object\n",
       "User            object\n",
       "Content         object\n",
       "Year            object\n",
       "dtype: object"
      ]
     },
     "execution_count": 20,
     "metadata": {},
     "output_type": "execute_result"
    }
   ],
   "source": [
    "df_tweets.dtypes"
   ]
  },
  {
   "cell_type": "code",
   "execution_count": null,
   "id": "7ccee629-e1a7-49b6-b2e9-666d53bf4f5f",
   "metadata": {},
   "outputs": [],
   "source": []
  }
 ],
 "metadata": {
  "kernelspec": {
   "display_name": "Python 3 (ipykernel)",
   "language": "python",
   "name": "python3"
  },
  "language_info": {
   "codemirror_mode": {
    "name": "ipython",
    "version": 3
   },
   "file_extension": ".py",
   "mimetype": "text/x-python",
   "name": "python",
   "nbconvert_exporter": "python",
   "pygments_lexer": "ipython3",
   "version": "3.10.12"
  }
 },
 "nbformat": 4,
 "nbformat_minor": 5
}
