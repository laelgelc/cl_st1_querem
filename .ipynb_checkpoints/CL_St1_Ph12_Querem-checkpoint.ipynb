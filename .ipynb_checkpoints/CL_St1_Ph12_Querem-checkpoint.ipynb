{
 "cells": [
  {
   "cell_type": "markdown",
   "id": "810d9f10-ec19-4b09-8f90-e983e460b319",
   "metadata": {},
   "source": [
    "<center>\n",
    "<img src=\"https://laelgelcpublic.s3.sa-east-1.amazonaws.com/lael_50_years_narrow_white.png.no_years.400px_96dpi.png\" width=\"300\" alt=\"LAEL 50 years logo\">\n",
    "<h3>APPLIED LINGUISTICS GRADUATE PROGRAMME (LAEL)</h3>\n",
    "</center>\n",
    "<hr>"
   ]
  },
  {
   "cell_type": "markdown",
   "id": "888c2c96-2fc3-4a1a-995b-c388036a2a15",
   "metadata": {},
   "source": [
    "# Corpus Linguistics - Study 1 - Phase 1_2 - Querem"
   ]
  },
  {
   "cell_type": "markdown",
   "id": "efff8d8b-6456-4379-974e-d85ffe03bc6e",
   "metadata": {},
   "source": [
    "This solution calculates:\n",
    "\n",
    "- The `Total Quantity of Words` in the Target Corpus;\n",
    "- The `Average (mean) Quantity of Words per Text` in the Target Corpus."
   ]
  },
  {
   "cell_type": "markdown",
   "id": "a221bd29-61ab-45b2-af5f-ae37f8b7bf7a",
   "metadata": {},
   "source": [
    "## Required Python packages"
   ]
  },
  {
   "cell_type": "markdown",
   "id": "90eb4c2c-012b-4ea1-9a45-2a2d717133a5",
   "metadata": {},
   "source": [
    "- pandas"
   ]
  },
  {
   "cell_type": "markdown",
   "id": "d81a22bd-0059-4578-bfc6-29ecef3d2a6d",
   "metadata": {},
   "source": [
    "## Importing the required libraries"
   ]
  },
  {
   "cell_type": "code",
   "execution_count": 1,
   "id": "80dde47b-60e9-4001-9587-cac5fac2cdfe",
   "metadata": {},
   "outputs": [],
   "source": [
    "import pandas as pd"
   ]
  },
  {
   "cell_type": "markdown",
   "id": "6ff7c5e9-a6e9-4c02-8294-1db661b05518",
   "metadata": {},
   "source": [
    "## Defining input variables"
   ]
  },
  {
   "cell_type": "code",
   "execution_count": 2,
   "id": "cd9b9ca5-0cff-4d28-b120-8105c5b5ef47",
   "metadata": {},
   "outputs": [],
   "source": [
    "input_directory = 'sas'\n",
    "output_directory = 'sas'"
   ]
  },
  {
   "cell_type": "markdown",
   "id": "b301ddf9-3758-42ba-9a6f-c1dd316ded08",
   "metadata": {},
   "source": [
    "## Importing `sas/wcount.txt` into a DataFrame"
   ]
  },
  {
   "cell_type": "code",
   "execution_count": 3,
   "id": "8fb8f459-ed95-4a13-86e3-6f933ca4f10a",
   "metadata": {},
   "outputs": [],
   "source": [
    "# Defining the column names\n",
    "column_names = ['Text ID', 'Quantity of Words']\n",
    "\n",
    "# Importing the file\n",
    "df_wcount = pd.read_csv(f\"{input_directory}/wcount.txt\", sep=' ', header=None, names=column_names)"
   ]
  },
  {
   "cell_type": "code",
   "execution_count": 4,
   "id": "27649345-825e-4012-82e6-6f845de163ef",
   "metadata": {},
   "outputs": [
    {
     "data": {
      "text/html": [
       "<div>\n",
       "<style scoped>\n",
       "    .dataframe tbody tr th:only-of-type {\n",
       "        vertical-align: middle;\n",
       "    }\n",
       "\n",
       "    .dataframe tbody tr th {\n",
       "        vertical-align: top;\n",
       "    }\n",
       "\n",
       "    .dataframe thead th {\n",
       "        text-align: right;\n",
       "    }\n",
       "</style>\n",
       "<table border=\"1\" class=\"dataframe\">\n",
       "  <thead>\n",
       "    <tr style=\"text-align: right;\">\n",
       "      <th></th>\n",
       "      <th>Text ID</th>\n",
       "      <th>Quantity of Words</th>\n",
       "    </tr>\n",
       "  </thead>\n",
       "  <tbody>\n",
       "    <tr>\n",
       "      <th>0</th>\n",
       "      <td>t000000</td>\n",
       "      <td>47</td>\n",
       "    </tr>\n",
       "    <tr>\n",
       "      <th>1</th>\n",
       "      <td>t000001</td>\n",
       "      <td>37</td>\n",
       "    </tr>\n",
       "    <tr>\n",
       "      <th>2</th>\n",
       "      <td>t000002</td>\n",
       "      <td>42</td>\n",
       "    </tr>\n",
       "    <tr>\n",
       "      <th>3</th>\n",
       "      <td>t000003</td>\n",
       "      <td>43</td>\n",
       "    </tr>\n",
       "    <tr>\n",
       "      <th>4</th>\n",
       "      <td>t000004</td>\n",
       "      <td>22</td>\n",
       "    </tr>\n",
       "    <tr>\n",
       "      <th>...</th>\n",
       "      <td>...</td>\n",
       "      <td>...</td>\n",
       "    </tr>\n",
       "    <tr>\n",
       "      <th>20596</th>\n",
       "      <td>t020596</td>\n",
       "      <td>23</td>\n",
       "    </tr>\n",
       "    <tr>\n",
       "      <th>20597</th>\n",
       "      <td>t020597</td>\n",
       "      <td>51</td>\n",
       "    </tr>\n",
       "    <tr>\n",
       "      <th>20598</th>\n",
       "      <td>t020598</td>\n",
       "      <td>51</td>\n",
       "    </tr>\n",
       "    <tr>\n",
       "      <th>20599</th>\n",
       "      <td>t020599</td>\n",
       "      <td>67</td>\n",
       "    </tr>\n",
       "    <tr>\n",
       "      <th>20600</th>\n",
       "      <td>t020600</td>\n",
       "      <td>38</td>\n",
       "    </tr>\n",
       "  </tbody>\n",
       "</table>\n",
       "<p>20601 rows × 2 columns</p>\n",
       "</div>"
      ],
      "text/plain": [
       "       Text ID  Quantity of Words\n",
       "0      t000000                 47\n",
       "1      t000001                 37\n",
       "2      t000002                 42\n",
       "3      t000003                 43\n",
       "4      t000004                 22\n",
       "...        ...                ...\n",
       "20596  t020596                 23\n",
       "20597  t020597                 51\n",
       "20598  t020598                 51\n",
       "20599  t020599                 67\n",
       "20600  t020600                 38\n",
       "\n",
       "[20601 rows x 2 columns]"
      ]
     },
     "execution_count": 4,
     "metadata": {},
     "output_type": "execute_result"
    }
   ],
   "source": [
    "df_wcount"
   ]
  },
  {
   "cell_type": "code",
   "execution_count": 5,
   "id": "e582fe15-3b12-4966-9036-86460e0df513",
   "metadata": {},
   "outputs": [
    {
     "data": {
      "text/plain": [
       "Text ID              object\n",
       "Quantity of Words     int64\n",
       "dtype: object"
      ]
     },
     "execution_count": 5,
     "metadata": {},
     "output_type": "execute_result"
    }
   ],
   "source": [
    "df_wcount.dtypes"
   ]
  },
  {
   "cell_type": "markdown",
   "id": "368d5601-503e-45b3-885d-ea85d0d08bc0",
   "metadata": {},
   "source": [
    "## Checking how many rows are equal to zero and to NaN in column `Quantity of Words`"
   ]
  },
  {
   "cell_type": "code",
   "execution_count": 6,
   "id": "c923c99f-42f7-4630-a25b-8df468996ba4",
   "metadata": {},
   "outputs": [
    {
     "name": "stdout",
     "output_type": "stream",
     "text": [
      "Rows where 'Quantity of Words' is zero: 0\n",
      "Rows where 'Quantity of Words' is NaN: 0\n"
     ]
    }
   ],
   "source": [
    "# Counting rows where 'Quantity of Words' is equal to zero\n",
    "zero_count = (df_wcount['Quantity of Words'] == 0).sum()\n",
    "\n",
    "# Counting rows where 'Quantity of Words' is NaN\n",
    "nan_count = df_wcount['Quantity of Words'].isna().sum()\n",
    "\n",
    "print(f\"Rows where 'Quantity of Words' is zero: {zero_count}\")\n",
    "print(f\"Rows where 'Quantity of Words' is NaN: {nan_count}\")"
   ]
  },
  {
   "cell_type": "markdown",
   "id": "c51c8d68-d643-49fa-ba53-0be67e7dbd49",
   "metadata": {},
   "source": [
    "## Calculating `Total Quantity of Words` and `Average (mean) Quantity of Words per Text`"
   ]
  },
  {
   "cell_type": "code",
   "execution_count": 7,
   "id": "df30cf8b-6e88-4d70-bc8d-9b03badff921",
   "metadata": {},
   "outputs": [],
   "source": [
    "total_words = df_wcount['Quantity of Words'].sum()\n",
    "average_words = df_wcount['Quantity of Words'].mean()"
   ]
  },
  {
   "cell_type": "code",
   "execution_count": 8,
   "id": "f8935485-d897-42d4-b72e-bd71c14f2744",
   "metadata": {},
   "outputs": [
    {
     "name": "stdout",
     "output_type": "stream",
     "text": [
      "The Total Quantity of Words is 606502 and the Average (mean) Quantity of Words per Text is 29.44.\n"
     ]
    }
   ],
   "source": [
    "print(f\"The Total Quantity of Words is {total_words} and the Average (mean) Quantity of Words per Text is {average_words:.2f}.\")"
   ]
  },
  {
   "cell_type": "code",
   "execution_count": null,
   "id": "ad1a8480-f8d4-4af8-8eae-6c7769df08b8",
   "metadata": {},
   "outputs": [],
   "source": []
  }
 ],
 "metadata": {
  "kernelspec": {
   "display_name": "Python 3 (ipykernel)",
   "language": "python",
   "name": "python3"
  },
  "language_info": {
   "codemirror_mode": {
    "name": "ipython",
    "version": 3
   },
   "file_extension": ".py",
   "mimetype": "text/x-python",
   "name": "python",
   "nbconvert_exporter": "python",
   "pygments_lexer": "ipython3",
   "version": "3.10.12"
  }
 },
 "nbformat": 4,
 "nbformat_minor": 5
}
