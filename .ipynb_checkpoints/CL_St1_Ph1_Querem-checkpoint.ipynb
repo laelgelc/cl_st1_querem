{
 "cells": [
  {
   "cell_type": "markdown",
   "id": "810d9f10-ec19-4b09-8f90-e983e460b319",
   "metadata": {},
   "source": [
    "<center>\n",
    "<img src=\"https://laelgelcpublic.s3.sa-east-1.amazonaws.com/lael_50_years_narrow_white.png.no_years.400px_96dpi.png\" width=\"300\" alt=\"LAEL 50 years logo\">\n",
    "<h3>APPLIED LINGUISTICS GRADUATE PROGRAMME (LAEL)</h3>\n",
    "</center>\n",
    "<hr>"
   ]
  },
  {
   "cell_type": "markdown",
   "id": "888c2c96-2fc3-4a1a-995b-c388036a2a15",
   "metadata": {},
   "source": [
    "# Corpus Linguistics - Study 1 - Phase 1 - Quérem"
   ]
  },
  {
   "cell_type": "markdown",
   "id": "0f3ad8a7-2d34-476b-be69-5d896b27d3ed",
   "metadata": {},
   "source": [
    "## Prerequisites"
   ]
  },
  {
   "cell_type": "markdown",
   "id": "0f1209cf-0515-45b3-8856-275ac692943e",
   "metadata": {},
   "source": [
    "Make sure the prerequisites in [CL_LMDA_prerequisites](https://github.com/laelgelc/laelgelc/blob/main/CL_LMDA_prerequisites.ipynb) are satisfied."
   ]
  },
  {
   "cell_type": "markdown",
   "id": "28897518-a858-4dc5-b510-49c9131da966",
   "metadata": {},
   "source": [
    "## Dataset"
   ]
  },
  {
   "cell_type": "markdown",
   "id": "a6f58941-1578-42c0-8933-d8ebef369245",
   "metadata": {},
   "source": [
    "Please download the following dataset (Right-click on the link and choose `Open link in a new tab` to download the corresponding file):\n",
    "- [tweets_all2.tsv](https://pucsp-my.sharepoint.com/:u:/g/personal/ra00341729_pucsp_edu_br/Edr0Gb9w9s1CsLhz8bpGVn8BGQwPRoXeiM01wpCDWpN5qA?e=g1WZwE)"
   ]
  },
  {
   "cell_type": "markdown",
   "id": "7a9c2af7-9fc1-4f51-a4f5-2ed915b93039",
   "metadata": {},
   "source": [
    "## Importing the required libraries"
   ]
  },
  {
   "cell_type": "code",
   "execution_count": 1,
   "id": "e6689499-d19d-4b0c-befd-f88926b7105d",
   "metadata": {},
   "outputs": [],
   "source": [
    "import pandas as pd\n",
    "import demoji\n",
    "import re\n",
    "import os\n",
    "from collections import Counter\n",
    "import html"
   ]
  },
  {
   "cell_type": "markdown",
   "id": "9a79a002-c182-4021-9b77-99ad470582af",
   "metadata": {},
   "source": [
    "## Data wrangling"
   ]
  },
  {
   "cell_type": "markdown",
   "id": "66e37aae-8cee-42ca-91ff-10f882fc45c6",
   "metadata": {},
   "source": [
    "### Importing the tweet raw data into a DataFrame"
   ]
  },
  {
   "cell_type": "code",
   "execution_count": 2,
   "id": "8a762708-07e4-472d-b3e9-bb0cea14438c",
   "metadata": {},
   "outputs": [],
   "source": [
    "df_tweets_raw_data = pd.read_csv('tweets_all2.tsv', sep='\\t')"
   ]
  },
  {
   "cell_type": "code",
   "execution_count": 3,
   "id": "623ddacd-5a20-4d89-a48e-98849a0644e9",
   "metadata": {},
   "outputs": [
    {
     "data": {
      "text/html": [
       "<div>\n",
       "<style scoped>\n",
       "    .dataframe tbody tr th:only-of-type {\n",
       "        vertical-align: middle;\n",
       "    }\n",
       "\n",
       "    .dataframe tbody tr th {\n",
       "        vertical-align: top;\n",
       "    }\n",
       "\n",
       "    .dataframe thead th {\n",
       "        text-align: right;\n",
       "    }\n",
       "</style>\n",
       "<table border=\"1\" class=\"dataframe\">\n",
       "  <thead>\n",
       "    <tr style=\"text-align: right;\">\n",
       "      <th></th>\n",
       "      <th>file</th>\n",
       "      <th>created_at</th>\n",
       "      <th>text_uniq</th>\n",
       "      <th>conversation_id</th>\n",
       "      <th>author_id</th>\n",
       "      <th>username</th>\n",
       "      <th>tweet_url</th>\n",
       "      <th>text</th>\n",
       "      <th>text_emojified</th>\n",
       "      <th>photo_uniq_id</th>\n",
       "    </tr>\n",
       "  </thead>\n",
       "  <tbody>\n",
       "    <tr>\n",
       "      <th>0</th>\n",
       "      <td>file</td>\n",
       "      <td>created_at</td>\n",
       "      <td>tweet_00000001</td>\n",
       "      <td>conversation_id</td>\n",
       "      <td>author_id</td>\n",
       "      <td>username</td>\n",
       "      <td>tweet_url</td>\n",
       "      <td>text</td>\n",
       "      <td>text_emojified</td>\n",
       "      <td>file00000001.url</td>\n",
       "    </tr>\n",
       "    <tr>\n",
       "      <th>1</th>\n",
       "      <td>bolsonaro201803_n_00101.json</td>\n",
       "      <td>2018-03-30 10:21:59</td>\n",
       "      <td>tweet_00000002</td>\n",
       "      <td>convo_979665031997612034</td>\n",
       "      <td>id_731971002817744896</td>\n",
       "      <td>gizelda_m</td>\n",
       "      <td>https://twitter.com/gizelda_m/status/979665031...</td>\n",
       "      <td>RT @MendesOnca: Fracasso Bolsonaro só tem públ...</td>\n",
       "      <td>RT @MendesOnca: Fracasso Bolsonaro só tem públ...</td>\n",
       "      <td>NaN</td>\n",
       "    </tr>\n",
       "    <tr>\n",
       "      <th>2</th>\n",
       "      <td>bolsonaro201803_n_00101.json</td>\n",
       "      <td>2018-03-30 10:21:32</td>\n",
       "      <td>tweet_00000003</td>\n",
       "      <td>convo_979664919955214337</td>\n",
       "      <td>id_14372459</td>\n",
       "      <td>unknown</td>\n",
       "      <td>unknown</td>\n",
       "      <td>RT @pelegrini65: Após caluniar, ameaçar, incit...</td>\n",
       "      <td>RT @pelegrini65: Após caluniar, ameaçar, incit...</td>\n",
       "      <td>NaN</td>\n",
       "    </tr>\n",
       "    <tr>\n",
       "      <th>3</th>\n",
       "      <td>bolsonaro201803_n_00101.json</td>\n",
       "      <td>2018-03-28 15:31:51</td>\n",
       "      <td>tweet_00000004</td>\n",
       "      <td>convo_979018234736373760</td>\n",
       "      <td>id_287765295</td>\n",
       "      <td>pelegrini65</td>\n",
       "      <td>https://twitter.com/pelegrini65/status/9790182...</td>\n",
       "      <td>Após caluniar, ameaçar, incitar as pessoas con...</td>\n",
       "      <td>Após caluniar, ameaçar, incitar as pessoas con...</td>\n",
       "      <td>NaN</td>\n",
       "    </tr>\n",
       "    <tr>\n",
       "      <th>4</th>\n",
       "      <td>bolsonaro201803_n_00101.json</td>\n",
       "      <td>2018-03-30 10:21:21</td>\n",
       "      <td>tweet_00000005</td>\n",
       "      <td>convo_979664873788502016</td>\n",
       "      <td>id_2551060160</td>\n",
       "      <td>PauliGVivas</td>\n",
       "      <td>https://twitter.com/PauliGVivas/status/9796648...</td>\n",
       "      <td>RT @BohnGass: \"Nenhum apoiador de Bolsonaro ap...</td>\n",
       "      <td>RT @BohnGass: \"Nenhum apoiador de Bolsonaro ap...</td>\n",
       "      <td>NaN</td>\n",
       "    </tr>\n",
       "  </tbody>\n",
       "</table>\n",
       "</div>"
      ],
      "text/plain": [
       "                           file           created_at       text_uniq  \\\n",
       "0                          file           created_at  tweet_00000001   \n",
       "1  bolsonaro201803_n_00101.json  2018-03-30 10:21:59  tweet_00000002   \n",
       "2  bolsonaro201803_n_00101.json  2018-03-30 10:21:32  tweet_00000003   \n",
       "3  bolsonaro201803_n_00101.json  2018-03-28 15:31:51  tweet_00000004   \n",
       "4  bolsonaro201803_n_00101.json  2018-03-30 10:21:21  tweet_00000005   \n",
       "\n",
       "            conversation_id              author_id     username  \\\n",
       "0           conversation_id              author_id     username   \n",
       "1  convo_979665031997612034  id_731971002817744896    gizelda_m   \n",
       "2  convo_979664919955214337            id_14372459      unknown   \n",
       "3  convo_979018234736373760           id_287765295  pelegrini65   \n",
       "4  convo_979664873788502016          id_2551060160  PauliGVivas   \n",
       "\n",
       "                                           tweet_url  \\\n",
       "0                                          tweet_url   \n",
       "1  https://twitter.com/gizelda_m/status/979665031...   \n",
       "2                                            unknown   \n",
       "3  https://twitter.com/pelegrini65/status/9790182...   \n",
       "4  https://twitter.com/PauliGVivas/status/9796648...   \n",
       "\n",
       "                                                text  \\\n",
       "0                                               text   \n",
       "1  RT @MendesOnca: Fracasso Bolsonaro só tem públ...   \n",
       "2  RT @pelegrini65: Após caluniar, ameaçar, incit...   \n",
       "3  Após caluniar, ameaçar, incitar as pessoas con...   \n",
       "4  RT @BohnGass: \"Nenhum apoiador de Bolsonaro ap...   \n",
       "\n",
       "                                      text_emojified     photo_uniq_id  \n",
       "0                                     text_emojified  file00000001.url  \n",
       "1  RT @MendesOnca: Fracasso Bolsonaro só tem públ...               NaN  \n",
       "2  RT @pelegrini65: Após caluniar, ameaçar, incit...               NaN  \n",
       "3  Após caluniar, ameaçar, incitar as pessoas con...               NaN  \n",
       "4  RT @BohnGass: \"Nenhum apoiador de Bolsonaro ap...               NaN  "
      ]
     },
     "execution_count": 3,
     "metadata": {},
     "output_type": "execute_result"
    }
   ],
   "source": [
    "df_tweets_raw_data.head(5)"
   ]
  },
  {
   "cell_type": "code",
   "execution_count": 4,
   "id": "ab42f211-52ad-4b10-9a41-70ba437684b7",
   "metadata": {},
   "outputs": [],
   "source": [
    "# Dropping the first row, which contains no useful data, and resetting the index\n",
    "df_tweets_raw_data = df_tweets_raw_data.drop(index=0).reset_index(drop=True)"
   ]
  },
  {
   "cell_type": "code",
   "execution_count": 5,
   "id": "cbbbcd20-97cb-48c6-9908-b633804e5745",
   "metadata": {},
   "outputs": [],
   "source": [
    "# Dropping the columns 'text_emojified' and 'photo_uniq_id' which are not used in this analysis\n",
    "df_tweets_raw_data = df_tweets_raw_data.drop(columns=['text_emojified', 'photo_uniq_id'])"
   ]
  },
  {
   "cell_type": "code",
   "execution_count": 6,
   "id": "376d20eb-453c-4818-9906-69bbffe3a0ab",
   "metadata": {},
   "outputs": [
    {
     "data": {
      "text/plain": [
       "(1783138, 8)"
      ]
     },
     "execution_count": 6,
     "metadata": {},
     "output_type": "execute_result"
    }
   ],
   "source": [
    "df_tweets_raw_data.shape"
   ]
  },
  {
   "cell_type": "markdown",
   "id": "f234d179-6361-4b27-9488-e95b6e9e34b2",
   "metadata": {},
   "source": [
    "#### Inspecting a few tweets"
   ]
  },
  {
   "cell_type": "code",
   "execution_count": 7,
   "id": "149bfc3f-7310-4d45-99bb-548e7ccc46f6",
   "metadata": {},
   "outputs": [
    {
     "name": "stdout",
     "output_type": "stream",
     "text": [
      "username:gizelda_m\n",
      "text:RT @MendesOnca: Fracasso Bolsonaro só tem público nas redes sociais. De robôs e fakes, e todos cafajestes https://t.co/B6trtJrQ7v https://…\n",
      "tweet_url:https://twitter.com/gizelda_m/status/979665031997612034\n"
     ]
    }
   ],
   "source": [
    "inspected_row = 0\n",
    "print('username:' + df_tweets_raw_data.loc[inspected_row, 'username'])\n",
    "print('text:' + df_tweets_raw_data.loc[inspected_row, 'text'])\n",
    "print('tweet_url:' + df_tweets_raw_data.loc[inspected_row, 'tweet_url'])"
   ]
  },
  {
   "cell_type": "markdown",
   "id": "4277d732-f65b-4e0c-868d-16d2d38ef04b",
   "metadata": {},
   "source": [
    "### Inspecting the dataset and eliminating malformed data"
   ]
  },
  {
   "cell_type": "markdown",
   "id": "30643060-8eaa-47e0-9a52-95f6fbd75515",
   "metadata": {},
   "source": [
    "#### Identifying rows that are empty in column `text`"
   ]
  },
  {
   "cell_type": "code",
   "execution_count": 8,
   "id": "e6de7bb2-56d3-41cb-9294-d19dbeca836b",
   "metadata": {},
   "outputs": [
    {
     "name": "stdout",
     "output_type": "stream",
     "text": [
      "24\n"
     ]
    }
   ],
   "source": [
    "print(df_tweets_raw_data['text'].isnull().sum())"
   ]
  },
  {
   "cell_type": "code",
   "execution_count": 9,
   "id": "ea9e9cf4-0f39-4cdc-84f0-84d8446eea53",
   "metadata": {},
   "outputs": [
    {
     "data": {
      "text/html": [
       "<div>\n",
       "<style scoped>\n",
       "    .dataframe tbody tr th:only-of-type {\n",
       "        vertical-align: middle;\n",
       "    }\n",
       "\n",
       "    .dataframe tbody tr th {\n",
       "        vertical-align: top;\n",
       "    }\n",
       "\n",
       "    .dataframe thead th {\n",
       "        text-align: right;\n",
       "    }\n",
       "</style>\n",
       "<table border=\"1\" class=\"dataframe\">\n",
       "  <thead>\n",
       "    <tr style=\"text-align: right;\">\n",
       "      <th></th>\n",
       "      <th>file</th>\n",
       "      <th>created_at</th>\n",
       "      <th>text_uniq</th>\n",
       "      <th>conversation_id</th>\n",
       "      <th>author_id</th>\n",
       "      <th>username</th>\n",
       "      <th>tweet_url</th>\n",
       "      <th>text</th>\n",
       "    </tr>\n",
       "  </thead>\n",
       "  <tbody>\n",
       "    <tr>\n",
       "      <th>18096</th>\n",
       "      <td>#Bolsonaro2018</td>\n",
       "      <td>@ultimosegundo Ahhhhhhhh.. Então tem q prender...</td>\n",
       "      <td>NaN</td>\n",
       "      <td>NaN</td>\n",
       "      <td>NaN</td>\n",
       "      <td>NaN</td>\n",
       "      <td>NaN</td>\n",
       "      <td>NaN</td>\n",
       "    </tr>\n",
       "    <tr>\n",
       "      <th>18097</th>\n",
       "      <td>#Bolsonaro2018</td>\n",
       "      <td>NaN</td>\n",
       "      <td>NaN</td>\n",
       "      <td>NaN</td>\n",
       "      <td>NaN</td>\n",
       "      <td>NaN</td>\n",
       "      <td>NaN</td>\n",
       "      <td>NaN</td>\n",
       "    </tr>\n",
       "    <tr>\n",
       "      <th>19543</th>\n",
       "      <td>Alguém no PT deve ter uma paixão platônica pel...</td>\n",
       "      <td>@analisdocsPF @paulo_x Foi o Bolsonaro! {{Emoj...</td>\n",
       "      <td>NaN</td>\n",
       "      <td>NaN</td>\n",
       "      <td>NaN</td>\n",
       "      <td>NaN</td>\n",
       "      <td>NaN</td>\n",
       "      <td>NaN</td>\n",
       "    </tr>\n",
       "    <tr>\n",
       "      <th>19544</th>\n",
       "      <td>Alguém no PT deve ter uma paixão platônica pel...</td>\n",
       "      <td>NaN</td>\n",
       "      <td>NaN</td>\n",
       "      <td>NaN</td>\n",
       "      <td>NaN</td>\n",
       "      <td>NaN</td>\n",
       "      <td>NaN</td>\n",
       "      <td>NaN</td>\n",
       "    </tr>\n",
       "    <tr>\n",
       "      <th>37888</th>\n",
       "      <td>Generalizando e rotulando tem que cortar mal p...</td>\n",
       "      <td>NaN</td>\n",
       "      <td>NaN</td>\n",
       "      <td>NaN</td>\n",
       "      <td>NaN</td>\n",
       "      <td>NaN</td>\n",
       "      <td>NaN</td>\n",
       "      <td>NaN</td>\n",
       "    </tr>\n",
       "    <tr>\n",
       "      <th>37889</th>\n",
       "      <td>Bolsonaro racista safado!</td>\n",
       "      <td>@Tilitelly2 @VEJA @MPF_PGR Ele falou que todos...</td>\n",
       "      <td>NaN</td>\n",
       "      <td>NaN</td>\n",
       "      <td>NaN</td>\n",
       "      <td>NaN</td>\n",
       "      <td>NaN</td>\n",
       "      <td>NaN</td>\n",
       "    </tr>\n",
       "    <tr>\n",
       "      <th>37890</th>\n",
       "      <td>Generalizando e rotulando tem que cortar mal p...</td>\n",
       "      <td>NaN</td>\n",
       "      <td>NaN</td>\n",
       "      <td>NaN</td>\n",
       "      <td>NaN</td>\n",
       "      <td>NaN</td>\n",
       "      <td>NaN</td>\n",
       "      <td>NaN</td>\n",
       "    </tr>\n",
       "    <tr>\n",
       "      <th>37891</th>\n",
       "      <td>Bolsonaro racista safado!</td>\n",
       "      <td>NaN</td>\n",
       "      <td>NaN</td>\n",
       "      <td>NaN</td>\n",
       "      <td>NaN</td>\n",
       "      <td>NaN</td>\n",
       "      <td>NaN</td>\n",
       "      <td>NaN</td>\n",
       "    </tr>\n",
       "    <tr>\n",
       "      <th>49732</th>\n",
       "      <td>Oportunista, irresponsável.</td>\n",
       "      <td>@jairbolsonaro</td>\n",
       "      <td>NaN</td>\n",
       "      <td>NaN</td>\n",
       "      <td>NaN</td>\n",
       "      <td>NaN</td>\n",
       "      <td>NaN</td>\n",
       "      <td>NaN</td>\n",
       "    </tr>\n",
       "    <tr>\n",
       "      <th>49733</th>\n",
       "      <td>Oportunista, irresponsável.</td>\n",
       "      <td>NaN</td>\n",
       "      <td>NaN</td>\n",
       "      <td>NaN</td>\n",
       "      <td>NaN</td>\n",
       "      <td>NaN</td>\n",
       "      <td>NaN</td>\n",
       "      <td>NaN</td>\n",
       "    </tr>\n",
       "    <tr>\n",
       "      <th>249421</th>\n",
       "      <td>I. divulgar ou fazer uso de informação privile...</td>\n",
       "      <td>Na Agenda do Governo Bolsonaro 100 dias na pág...</td>\n",
       "      <td>NaN</td>\n",
       "      <td>NaN</td>\n",
       "      <td>NaN</td>\n",
       "      <td>NaN</td>\n",
       "      <td>NaN</td>\n",
       "      <td>NaN</td>\n",
       "    </tr>\n",
       "    <tr>\n",
       "      <th>249422</th>\n",
       "      <td>I. divulgar ou fazer uso de informação privile...</td>\n",
       "      <td>NaN</td>\n",
       "      <td>NaN</td>\n",
       "      <td>NaN</td>\n",
       "      <td>NaN</td>\n",
       "      <td>NaN</td>\n",
       "      <td>NaN</td>\n",
       "      <td>NaN</td>\n",
       "    </tr>\n",
       "    <tr>\n",
       "      <th>292785</th>\n",
       "      <td>QUEM SABE MESMO É SEU PROFESSOR DE HISTORIA MA...</td>\n",
       "      <td>RT @JOAQUINTEIXElRA: JAIR BOLSONARO NÃO SABE N...</td>\n",
       "      <td>NaN</td>\n",
       "      <td>NaN</td>\n",
       "      <td>NaN</td>\n",
       "      <td>NaN</td>\n",
       "      <td>NaN</td>\n",
       "      <td>NaN</td>\n",
       "    </tr>\n",
       "    <tr>\n",
       "      <th>292786</th>\n",
       "      <td>QUEM SABE MESMO É SEU PROFESSOR DE HISTORIA MA...</td>\n",
       "      <td>NaN</td>\n",
       "      <td>NaN</td>\n",
       "      <td>NaN</td>\n",
       "      <td>NaN</td>\n",
       "      <td>NaN</td>\n",
       "      <td>NaN</td>\n",
       "      <td>NaN</td>\n",
       "    </tr>\n",
       "    <tr>\n",
       "      <th>292788</th>\n",
       "      <td>QUEM SABE MESMO É SEU PROFESSOR DE HISTORIA MA...</td>\n",
       "      <td>JAIR BOLSONARO NÃO SABE NADA DA DITADURA NA VE...</td>\n",
       "      <td>NaN</td>\n",
       "      <td>NaN</td>\n",
       "      <td>NaN</td>\n",
       "      <td>NaN</td>\n",
       "      <td>NaN</td>\n",
       "      <td>NaN</td>\n",
       "    </tr>\n",
       "    <tr>\n",
       "      <th>292789</th>\n",
       "      <td>QUEM SABE MESMO É SEU PROFESSOR DE HISTORIA MA...</td>\n",
       "      <td>NaN</td>\n",
       "      <td>NaN</td>\n",
       "      <td>NaN</td>\n",
       "      <td>NaN</td>\n",
       "      <td>NaN</td>\n",
       "      <td>NaN</td>\n",
       "      <td>NaN</td>\n",
       "    </tr>\n",
       "    <tr>\n",
       "      <th>357136</th>\n",
       "      <td>https://t.co/U5B8iiJq0x</td>\n",
       "      <td>Bolsonaro wants to end crime punishment in def...</td>\n",
       "      <td>NaN</td>\n",
       "      <td>NaN</td>\n",
       "      <td>NaN</td>\n",
       "      <td>NaN</td>\n",
       "      <td>NaN</td>\n",
       "      <td>NaN</td>\n",
       "    </tr>\n",
       "    <tr>\n",
       "      <th>357137</th>\n",
       "      <td>https://t.co/U5B8iiJq0x</td>\n",
       "      <td>NaN</td>\n",
       "      <td>NaN</td>\n",
       "      <td>NaN</td>\n",
       "      <td>NaN</td>\n",
       "      <td>NaN</td>\n",
       "      <td>NaN</td>\n",
       "      <td>NaN</td>\n",
       "    </tr>\n",
       "    <tr>\n",
       "      <th>451511</th>\n",
       "      <td>tvbolsonaro: https://t.co/l2uQoDhIwb</td>\n",
       "      <td>NaN</td>\n",
       "      <td>NaN</td>\n",
       "      <td>NaN</td>\n",
       "      <td>NaN</td>\n",
       "      <td>NaN</td>\n",
       "      <td>NaN</td>\n",
       "      <td>NaN</td>\n",
       "    </tr>\n",
       "    <tr>\n",
       "      <th>451512</th>\n",
       "      <td>Isso eu ja tinha certeza! Quem viu a entrevist...</td>\n",
       "      <td>tvbolsonaro: https://t.co/3zZAjgJj6B</td>\n",
       "      <td>NaN</td>\n",
       "      <td>NaN</td>\n",
       "      <td>NaN</td>\n",
       "      <td>NaN</td>\n",
       "      <td>NaN</td>\n",
       "      <td>NaN</td>\n",
       "    </tr>\n",
       "    <tr>\n",
       "      <th>451513</th>\n",
       "      <td>tvbolsonaro: https://t.co/l2uQoDhIwb</td>\n",
       "      <td>NaN</td>\n",
       "      <td>NaN</td>\n",
       "      <td>NaN</td>\n",
       "      <td>NaN</td>\n",
       "      <td>NaN</td>\n",
       "      <td>NaN</td>\n",
       "      <td>NaN</td>\n",
       "    </tr>\n",
       "    <tr>\n",
       "      <th>451514</th>\n",
       "      <td>Isso eu ja tinha certeza! Quem viu a entrevist...</td>\n",
       "      <td>NaN</td>\n",
       "      <td>NaN</td>\n",
       "      <td>NaN</td>\n",
       "      <td>NaN</td>\n",
       "      <td>NaN</td>\n",
       "      <td>NaN</td>\n",
       "      <td>NaN</td>\n",
       "    </tr>\n",
       "    <tr>\n",
       "      <th>999554</th>\n",
       "      <td>foi condicionado ao monitoramento das incertez...</td>\n",
       "      <td>@DePedrodel @ernestofaraujo Lembrando que aind...</td>\n",
       "      <td>NaN</td>\n",
       "      <td>NaN</td>\n",
       "      <td>NaN</td>\n",
       "      <td>NaN</td>\n",
       "      <td>NaN</td>\n",
       "      <td>NaN</td>\n",
       "    </tr>\n",
       "    <tr>\n",
       "      <th>999555</th>\n",
       "      <td>foi condicionado ao monitoramento das incertez...</td>\n",
       "      <td>NaN</td>\n",
       "      <td>NaN</td>\n",
       "      <td>NaN</td>\n",
       "      <td>NaN</td>\n",
       "      <td>NaN</td>\n",
       "      <td>NaN</td>\n",
       "      <td>NaN</td>\n",
       "    </tr>\n",
       "  </tbody>\n",
       "</table>\n",
       "</div>"
      ],
      "text/plain": [
       "                                                     file  \\\n",
       "18096                                      #Bolsonaro2018   \n",
       "18097                                      #Bolsonaro2018   \n",
       "19543   Alguém no PT deve ter uma paixão platônica pel...   \n",
       "19544   Alguém no PT deve ter uma paixão platônica pel...   \n",
       "37888   Generalizando e rotulando tem que cortar mal p...   \n",
       "37889                           Bolsonaro racista safado!   \n",
       "37890   Generalizando e rotulando tem que cortar mal p...   \n",
       "37891                           Bolsonaro racista safado!   \n",
       "49732                         Oportunista, irresponsável.   \n",
       "49733                         Oportunista, irresponsável.   \n",
       "249421  I. divulgar ou fazer uso de informação privile...   \n",
       "249422  I. divulgar ou fazer uso de informação privile...   \n",
       "292785  QUEM SABE MESMO É SEU PROFESSOR DE HISTORIA MA...   \n",
       "292786  QUEM SABE MESMO É SEU PROFESSOR DE HISTORIA MA...   \n",
       "292788  QUEM SABE MESMO É SEU PROFESSOR DE HISTORIA MA...   \n",
       "292789  QUEM SABE MESMO É SEU PROFESSOR DE HISTORIA MA...   \n",
       "357136                            https://t.co/U5B8iiJq0x   \n",
       "357137                            https://t.co/U5B8iiJq0x   \n",
       "451511              tvbolsonaro: https://t.co/l2uQoDhIwb    \n",
       "451512  Isso eu ja tinha certeza! Quem viu a entrevist...   \n",
       "451513              tvbolsonaro: https://t.co/l2uQoDhIwb    \n",
       "451514  Isso eu ja tinha certeza! Quem viu a entrevist...   \n",
       "999554  foi condicionado ao monitoramento das incertez...   \n",
       "999555  foi condicionado ao monitoramento das incertez...   \n",
       "\n",
       "                                               created_at text_uniq  \\\n",
       "18096   @ultimosegundo Ahhhhhhhh.. Então tem q prender...       NaN   \n",
       "18097                                                 NaN       NaN   \n",
       "19543   @analisdocsPF @paulo_x Foi o Bolsonaro! {{Emoj...       NaN   \n",
       "19544                                                 NaN       NaN   \n",
       "37888                                                 NaN       NaN   \n",
       "37889   @Tilitelly2 @VEJA @MPF_PGR Ele falou que todos...       NaN   \n",
       "37890                                                 NaN       NaN   \n",
       "37891                                                 NaN       NaN   \n",
       "49732                                     @jairbolsonaro        NaN   \n",
       "49733                                                 NaN       NaN   \n",
       "249421  Na Agenda do Governo Bolsonaro 100 dias na pág...       NaN   \n",
       "249422                                                NaN       NaN   \n",
       "292785  RT @JOAQUINTEIXElRA: JAIR BOLSONARO NÃO SABE N...       NaN   \n",
       "292786                                                NaN       NaN   \n",
       "292788  JAIR BOLSONARO NÃO SABE NADA DA DITADURA NA VE...       NaN   \n",
       "292789                                                NaN       NaN   \n",
       "357136  Bolsonaro wants to end crime punishment in def...       NaN   \n",
       "357137                                                NaN       NaN   \n",
       "451511                                                NaN       NaN   \n",
       "451512              tvbolsonaro: https://t.co/3zZAjgJj6B        NaN   \n",
       "451513                                                NaN       NaN   \n",
       "451514                                                NaN       NaN   \n",
       "999554  @DePedrodel @ernestofaraujo Lembrando que aind...       NaN   \n",
       "999555                                                NaN       NaN   \n",
       "\n",
       "       conversation_id author_id username tweet_url text  \n",
       "18096              NaN       NaN      NaN       NaN  NaN  \n",
       "18097              NaN       NaN      NaN       NaN  NaN  \n",
       "19543              NaN       NaN      NaN       NaN  NaN  \n",
       "19544              NaN       NaN      NaN       NaN  NaN  \n",
       "37888              NaN       NaN      NaN       NaN  NaN  \n",
       "37889              NaN       NaN      NaN       NaN  NaN  \n",
       "37890              NaN       NaN      NaN       NaN  NaN  \n",
       "37891              NaN       NaN      NaN       NaN  NaN  \n",
       "49732              NaN       NaN      NaN       NaN  NaN  \n",
       "49733              NaN       NaN      NaN       NaN  NaN  \n",
       "249421             NaN       NaN      NaN       NaN  NaN  \n",
       "249422             NaN       NaN      NaN       NaN  NaN  \n",
       "292785             NaN       NaN      NaN       NaN  NaN  \n",
       "292786             NaN       NaN      NaN       NaN  NaN  \n",
       "292788             NaN       NaN      NaN       NaN  NaN  \n",
       "292789             NaN       NaN      NaN       NaN  NaN  \n",
       "357136             NaN       NaN      NaN       NaN  NaN  \n",
       "357137             NaN       NaN      NaN       NaN  NaN  \n",
       "451511             NaN       NaN      NaN       NaN  NaN  \n",
       "451512             NaN       NaN      NaN       NaN  NaN  \n",
       "451513             NaN       NaN      NaN       NaN  NaN  \n",
       "451514             NaN       NaN      NaN       NaN  NaN  \n",
       "999554             NaN       NaN      NaN       NaN  NaN  \n",
       "999555             NaN       NaN      NaN       NaN  NaN  "
      ]
     },
     "execution_count": 9,
     "metadata": {},
     "output_type": "execute_result"
    }
   ],
   "source": [
    "df_tweets_raw_data[df_tweets_raw_data['text'].isnull()]"
   ]
  },
  {
   "cell_type": "markdown",
   "id": "c4bbc61e-77c5-4339-99ed-e8aea3a1ec42",
   "metadata": {},
   "source": [
    "#### Dropping the rows that are empty in the column `text`"
   ]
  },
  {
   "cell_type": "code",
   "execution_count": 10,
   "id": "db62e8de-5e85-4474-9bf4-4c9342c2640b",
   "metadata": {},
   "outputs": [],
   "source": [
    "# Drop the rows whose column 'text' is NaN\n",
    "df_tweets_raw_data = df_tweets_raw_data.dropna(subset=['text'])\n",
    "\n",
    "# Reset the index\n",
    "df_tweets_raw_data = df_tweets_raw_data.reset_index(drop=True)"
   ]
  },
  {
   "cell_type": "code",
   "execution_count": 11,
   "id": "c44d9a76-464b-41ca-842a-921beae1c6ad",
   "metadata": {},
   "outputs": [
    {
     "name": "stdout",
     "output_type": "stream",
     "text": [
      "0\n"
     ]
    }
   ],
   "source": [
    "print(df_tweets_raw_data['text'].isnull().sum())"
   ]
  },
  {
   "cell_type": "markdown",
   "id": "d85a3c50-b3de-4956-b212-692a420dcf41",
   "metadata": {},
   "source": [
    "#### Checking if data types are consistent"
   ]
  },
  {
   "cell_type": "code",
   "execution_count": 12,
   "id": "6795c314-cc1f-4acd-86a1-a4eada8a9bcb",
   "metadata": {},
   "outputs": [
    {
     "data": {
      "text/plain": [
       "file               object\n",
       "created_at         object\n",
       "text_uniq          object\n",
       "conversation_id    object\n",
       "author_id          object\n",
       "username           object\n",
       "tweet_url          object\n",
       "text               object\n",
       "dtype: object"
      ]
     },
     "execution_count": 12,
     "metadata": {},
     "output_type": "execute_result"
    }
   ],
   "source": [
    "df_tweets_raw_data.dtypes"
   ]
  },
  {
   "cell_type": "code",
   "execution_count": 13,
   "id": "63000feb-8117-42b3-a232-a75ef184aaf4",
   "metadata": {},
   "outputs": [],
   "source": [
    "df_tweets_raw_data['created_at'] = pd.to_datetime(df_tweets_raw_data['created_at'])"
   ]
  },
  {
   "cell_type": "code",
   "execution_count": 14,
   "id": "fcd6d54b-c33c-4a94-b49a-49fcb1988983",
   "metadata": {},
   "outputs": [
    {
     "data": {
      "text/plain": [
       "file                       object\n",
       "created_at         datetime64[ns]\n",
       "text_uniq                  object\n",
       "conversation_id            object\n",
       "author_id                  object\n",
       "username                   object\n",
       "tweet_url                  object\n",
       "text                       object\n",
       "dtype: object"
      ]
     },
     "execution_count": 14,
     "metadata": {},
     "output_type": "execute_result"
    }
   ],
   "source": [
    "df_tweets_raw_data.dtypes"
   ]
  },
  {
   "cell_type": "markdown",
   "id": "81df9ff5-f183-4663-aa4a-a776c10796f2",
   "metadata": {},
   "source": [
    "## Sampling the raw data according to filtering expressions"
   ]
  },
  {
   "cell_type": "code",
   "execution_count": 15,
   "id": "9c8af4f6-477a-4c15-ad9d-5106d86ba1a6",
   "metadata": {},
   "outputs": [
    {
     "data": {
      "text/plain": [
       "(114289, 8)"
      ]
     },
     "execution_count": 15,
     "metadata": {},
     "output_type": "execute_result"
    }
   ],
   "source": [
    "# Defining the filtering expressions\n",
    "filter_words = ['arma', 'pátria', 'ladrão', 'cristão', 'comunista', 'família', 'liberdade', 'conservador', 'deus']\n",
    "\n",
    "# Creating a boolean mask for filtering\n",
    "mask = df_tweets_raw_data['text'].str.contains('|'.join(filter_words), case=False)\n",
    "\n",
    "# Applying the mask to create 'df_tweets_filtered'\n",
    "df_tweets_filtered = df_tweets_raw_data[mask]\n",
    "df_tweets_filtered = df_tweets_filtered.reset_index(drop=True)\n",
    "df_tweets_filtered.shape"
   ]
  },
  {
   "cell_type": "code",
   "execution_count": 16,
   "id": "c06c328c-589e-4c9b-9929-5788e29afccb",
   "metadata": {},
   "outputs": [
    {
     "data": {
      "text/html": [
       "<div>\n",
       "<style scoped>\n",
       "    .dataframe tbody tr th:only-of-type {\n",
       "        vertical-align: middle;\n",
       "    }\n",
       "\n",
       "    .dataframe tbody tr th {\n",
       "        vertical-align: top;\n",
       "    }\n",
       "\n",
       "    .dataframe thead th {\n",
       "        text-align: right;\n",
       "    }\n",
       "</style>\n",
       "<table border=\"1\" class=\"dataframe\">\n",
       "  <thead>\n",
       "    <tr style=\"text-align: right;\">\n",
       "      <th></th>\n",
       "      <th>file</th>\n",
       "      <th>created_at</th>\n",
       "      <th>text_uniq</th>\n",
       "      <th>conversation_id</th>\n",
       "      <th>author_id</th>\n",
       "      <th>username</th>\n",
       "      <th>tweet_url</th>\n",
       "      <th>text</th>\n",
       "    </tr>\n",
       "  </thead>\n",
       "  <tbody>\n",
       "    <tr>\n",
       "      <th>0</th>\n",
       "      <td>bolsonaro201803_n_00101.json</td>\n",
       "      <td>2018-03-28 15:31:51</td>\n",
       "      <td>tweet_00000004</td>\n",
       "      <td>convo_979018234736373760</td>\n",
       "      <td>id_287765295</td>\n",
       "      <td>pelegrini65</td>\n",
       "      <td>https://twitter.com/pelegrini65/status/9790182...</td>\n",
       "      <td>Após caluniar, ameaçar, incitar as pessoas con...</td>\n",
       "    </tr>\n",
       "    <tr>\n",
       "      <th>1</th>\n",
       "      <td>bolsonaro201803_n_00101.json</td>\n",
       "      <td>2018-03-30 04:12:13</td>\n",
       "      <td>tweet_00000046</td>\n",
       "      <td>convo_979571975545872384</td>\n",
       "      <td>id_16794066</td>\n",
       "      <td>BlogdoNoblat</td>\n",
       "      <td>https://twitter.com/BlogdoNoblat/status/979571...</td>\n",
       "      <td>Bolsonaro deve saber o que está fazendo. Porqu...</td>\n",
       "    </tr>\n",
       "    <tr>\n",
       "      <th>2</th>\n",
       "      <td>bolsonaro201803_n_00101.json</td>\n",
       "      <td>2018-03-30 10:16:00</td>\n",
       "      <td>tweet_00000051</td>\n",
       "      <td>convo_979363111089135617</td>\n",
       "      <td>id_955901617148235776</td>\n",
       "      <td>MariaOl25529153</td>\n",
       "      <td>https://twitter.com/MariaOl25529153/status/979...</td>\n",
       "      <td>@FlavioBolsonaro Mais um Romário na política ,...</td>\n",
       "    </tr>\n",
       "    <tr>\n",
       "      <th>3</th>\n",
       "      <td>bolsonaro201803_n_00101.json</td>\n",
       "      <td>2018-03-30 10:11:56</td>\n",
       "      <td>tweet_00000065</td>\n",
       "      <td>convo_979363111089135617</td>\n",
       "      <td>id_955901617148235776</td>\n",
       "      <td>MariaOl25529153</td>\n",
       "      <td>https://twitter.com/MariaOl25529153/status/979...</td>\n",
       "      <td>@FlavioBolsonaro Jogadores de futebol na polít...</td>\n",
       "    </tr>\n",
       "    <tr>\n",
       "      <th>4</th>\n",
       "      <td>bolsonaro201803_n_00102.json</td>\n",
       "      <td>2018-03-30 04:12:13</td>\n",
       "      <td>tweet_00000046</td>\n",
       "      <td>convo_979571975545872384</td>\n",
       "      <td>id_16794066</td>\n",
       "      <td>BlogdoNoblat</td>\n",
       "      <td>https://twitter.com/BlogdoNoblat/status/979571...</td>\n",
       "      <td>Bolsonaro deve saber o que está fazendo. Porqu...</td>\n",
       "    </tr>\n",
       "    <tr>\n",
       "      <th>...</th>\n",
       "      <td>...</td>\n",
       "      <td>...</td>\n",
       "      <td>...</td>\n",
       "      <td>...</td>\n",
       "      <td>...</td>\n",
       "      <td>...</td>\n",
       "      <td>...</td>\n",
       "      <td>...</td>\n",
       "    </tr>\n",
       "    <tr>\n",
       "      <th>114284</th>\n",
       "      <td>bolsonaro202304_n_00206.json</td>\n",
       "      <td>2023-04-29 13:47:12</td>\n",
       "      <td>tweet_00483876</td>\n",
       "      <td>convo_1652308555968532481</td>\n",
       "      <td>id_45473463</td>\n",
       "      <td>CarlosZarattini</td>\n",
       "      <td>https://twitter.com/CarlosZarattini/status/165...</td>\n",
       "      <td>Bolsonaristas ativaram os seus robôs e perfis ...</td>\n",
       "    </tr>\n",
       "    <tr>\n",
       "      <th>114285</th>\n",
       "      <td>bolsonaro202304_n_00206.json</td>\n",
       "      <td>2023-04-29 19:18:25</td>\n",
       "      <td>tweet_00487132</td>\n",
       "      <td>convo_1651912640837349377</td>\n",
       "      <td>id_1236078194878541824</td>\n",
       "      <td>JDB33858086</td>\n",
       "      <td>https://twitter.com/JDB33858086/status/1651912...</td>\n",
       "      <td>@Joovito81551003 @odilabueno1 @ORenanxD @Senso...</td>\n",
       "    </tr>\n",
       "    <tr>\n",
       "      <th>114286</th>\n",
       "      <td>bolsonaro202304_n_00206.json</td>\n",
       "      <td>2023-04-29 19:18:22</td>\n",
       "      <td>tweet_00481588</td>\n",
       "      <td>convo_1652391894079488000</td>\n",
       "      <td>id_950791261417627649</td>\n",
       "      <td>talitaxaguiar</td>\n",
       "      <td>https://twitter.com/talitaxaguiar/status/16523...</td>\n",
       "      <td>RT @princesacowboy: meu deus do céu de vez em ...</td>\n",
       "    </tr>\n",
       "    <tr>\n",
       "      <th>114287</th>\n",
       "      <td>bolsonaro202304_n_00206.json</td>\n",
       "      <td>2023-04-28 16:01:48</td>\n",
       "      <td>tweet_00481589</td>\n",
       "      <td>convo_1651980041234837518</td>\n",
       "      <td>id_1100427039406997504</td>\n",
       "      <td>princesacowboy</td>\n",
       "      <td>https://twitter.com/princesacowboy/status/1651...</td>\n",
       "      <td>meu deus do céu de vez em quando eu lembro o q...</td>\n",
       "    </tr>\n",
       "    <tr>\n",
       "      <th>114288</th>\n",
       "      <td>bolsonaro202304_n_00206.json</td>\n",
       "      <td>2023-04-29 11:28:29</td>\n",
       "      <td>tweet_00480040</td>\n",
       "      <td>convo_1652273646679867394</td>\n",
       "      <td>id_31139434</td>\n",
       "      <td>gleisi</td>\n",
       "      <td>https://twitter.com/gleisi/status/165227364667...</td>\n",
       "      <td>“Defensores” da Pátria e da família são presos...</td>\n",
       "    </tr>\n",
       "  </tbody>\n",
       "</table>\n",
       "<p>114289 rows × 8 columns</p>\n",
       "</div>"
      ],
      "text/plain": [
       "                                file          created_at       text_uniq  \\\n",
       "0       bolsonaro201803_n_00101.json 2018-03-28 15:31:51  tweet_00000004   \n",
       "1       bolsonaro201803_n_00101.json 2018-03-30 04:12:13  tweet_00000046   \n",
       "2       bolsonaro201803_n_00101.json 2018-03-30 10:16:00  tweet_00000051   \n",
       "3       bolsonaro201803_n_00101.json 2018-03-30 10:11:56  tweet_00000065   \n",
       "4       bolsonaro201803_n_00102.json 2018-03-30 04:12:13  tweet_00000046   \n",
       "...                              ...                 ...             ...   \n",
       "114284  bolsonaro202304_n_00206.json 2023-04-29 13:47:12  tweet_00483876   \n",
       "114285  bolsonaro202304_n_00206.json 2023-04-29 19:18:25  tweet_00487132   \n",
       "114286  bolsonaro202304_n_00206.json 2023-04-29 19:18:22  tweet_00481588   \n",
       "114287  bolsonaro202304_n_00206.json 2023-04-28 16:01:48  tweet_00481589   \n",
       "114288  bolsonaro202304_n_00206.json 2023-04-29 11:28:29  tweet_00480040   \n",
       "\n",
       "                  conversation_id               author_id         username  \\\n",
       "0        convo_979018234736373760            id_287765295      pelegrini65   \n",
       "1        convo_979571975545872384             id_16794066     BlogdoNoblat   \n",
       "2        convo_979363111089135617   id_955901617148235776  MariaOl25529153   \n",
       "3        convo_979363111089135617   id_955901617148235776  MariaOl25529153   \n",
       "4        convo_979571975545872384             id_16794066     BlogdoNoblat   \n",
       "...                           ...                     ...              ...   \n",
       "114284  convo_1652308555968532481             id_45473463  CarlosZarattini   \n",
       "114285  convo_1651912640837349377  id_1236078194878541824      JDB33858086   \n",
       "114286  convo_1652391894079488000   id_950791261417627649    talitaxaguiar   \n",
       "114287  convo_1651980041234837518  id_1100427039406997504   princesacowboy   \n",
       "114288  convo_1652273646679867394             id_31139434           gleisi   \n",
       "\n",
       "                                                tweet_url  \\\n",
       "0       https://twitter.com/pelegrini65/status/9790182...   \n",
       "1       https://twitter.com/BlogdoNoblat/status/979571...   \n",
       "2       https://twitter.com/MariaOl25529153/status/979...   \n",
       "3       https://twitter.com/MariaOl25529153/status/979...   \n",
       "4       https://twitter.com/BlogdoNoblat/status/979571...   \n",
       "...                                                   ...   \n",
       "114284  https://twitter.com/CarlosZarattini/status/165...   \n",
       "114285  https://twitter.com/JDB33858086/status/1651912...   \n",
       "114286  https://twitter.com/talitaxaguiar/status/16523...   \n",
       "114287  https://twitter.com/princesacowboy/status/1651...   \n",
       "114288  https://twitter.com/gleisi/status/165227364667...   \n",
       "\n",
       "                                                     text  \n",
       "0       Após caluniar, ameaçar, incitar as pessoas con...  \n",
       "1       Bolsonaro deve saber o que está fazendo. Porqu...  \n",
       "2       @FlavioBolsonaro Mais um Romário na política ,...  \n",
       "3       @FlavioBolsonaro Jogadores de futebol na polít...  \n",
       "4       Bolsonaro deve saber o que está fazendo. Porqu...  \n",
       "...                                                   ...  \n",
       "114284  Bolsonaristas ativaram os seus robôs e perfis ...  \n",
       "114285  @Joovito81551003 @odilabueno1 @ORenanxD @Senso...  \n",
       "114286  RT @princesacowboy: meu deus do céu de vez em ...  \n",
       "114287  meu deus do céu de vez em quando eu lembro o q...  \n",
       "114288  “Defensores” da Pátria e da família são presos...  \n",
       "\n",
       "[114289 rows x 8 columns]"
      ]
     },
     "execution_count": 16,
     "metadata": {},
     "output_type": "execute_result"
    }
   ],
   "source": [
    "df_tweets_filtered"
   ]
  },
  {
   "cell_type": "markdown",
   "id": "976a98b0-9e73-49d7-b32c-36bfa8db0458",
   "metadata": {},
   "source": [
    "## Cleaning data"
   ]
  },
  {
   "cell_type": "markdown",
   "id": "104a5635-7e51-4d18-8042-321bc6a7d85b",
   "metadata": {},
   "source": [
    "### Removing specific Unicode characters"
   ]
  },
  {
   "cell_type": "markdown",
   "id": "04d871fb-8d5b-4539-9f34-ec4306c066a8",
   "metadata": {},
   "source": [
    "The dataset may need to be cleaned of invisible Unicode characters."
   ]
  },
  {
   "cell_type": "markdown",
   "id": "ca78504f-83fd-4909-a861-0a2f11f71805",
   "metadata": {},
   "source": [
    "##### Detecting `U+2066` and `U+2069` characters"
   ]
  },
  {
   "cell_type": "markdown",
   "id": "21b90b89-3a3b-42f7-92a2-49a100a40243",
   "metadata": {},
   "source": [
    "- [U+2066](https://www.compart.com/en/unicode/U+2066)\n",
    "- [U+2069](https://www.compart.com/en/unicode/U+2069)"
   ]
  },
  {
   "cell_type": "markdown",
   "id": "a9370c09-ce85-454b-97fc-416b210a5ee8",
   "metadata": {},
   "source": [
    "Please refer to:\n",
    "- [Python RegEx](https://www.w3schools.com/python/python_regex.asp)\n",
    "- [regex101](https://regex101.com/)\n",
    "- [RegExr](https://regexr.com/)"
   ]
  },
  {
   "cell_type": "code",
   "execution_count": 17,
   "id": "c1706103-011e-4c1d-9974-d992fc61e313",
   "metadata": {},
   "outputs": [
    {
     "name": "stdout",
     "output_type": "stream",
     "text": [
      "Character ⁦: Count = 96\n",
      "Character ⁩: Count = 102\n"
     ]
    }
   ],
   "source": [
    "# Defining a function to detect specific Unicode characters\n",
    "def extract_unicode_characters(df, column_name):\n",
    "    unicode_chars = Counter()  # Initialize a Counter to store Unicode character counts\n",
    "\n",
    "    for value in df[column_name]:\n",
    "        if isinstance(value, str):\n",
    "            # Use RegEx to find non-ASCII characters (Unicode)\n",
    "#            non_ascii_chars = re.findall(r'[^\\x00-\\x7F]+', value)\n",
    "            # Use RegEx to find specific Unicode characters - adjust the expression accordingly\n",
    "            specific_unicode_chars = re.findall(r'[\\u2066\\u2069]', value)\n",
    "            unicode_chars.update(specific_unicode_chars)\n",
    "\n",
    "    return unicode_chars\n",
    "\n",
    "# Inspect the dataframe for specific Unicode characters\n",
    "unicode_counts = extract_unicode_characters(df_tweets_filtered, 'text')\n",
    "\n",
    "# Print the results\n",
    "for char, count in unicode_counts.items():\n",
    "    print(f'Character {char}: Count = {count}')"
   ]
  },
  {
   "cell_type": "markdown",
   "id": "44c82d82-d234-4572-8a61-75d510ea0646",
   "metadata": {},
   "source": [
    "#### Removing `U+2066` and `U+2069` characters"
   ]
  },
  {
   "cell_type": "code",
   "execution_count": 18,
   "id": "88cce668-e35a-4415-b4cc-33f9961bc037",
   "metadata": {},
   "outputs": [],
   "source": [
    "# Defining a function to remove specific Unicode characters\n",
    "def remove_specific_unicode(input_line):\n",
    "    # Using RegEx to replace specific Unicode characters - adjust the expression accordingly\n",
    "    cleaned_line = re.sub(r'[\\u2066\\u2069]', '', input_line)\n",
    "    return cleaned_line\n",
    "\n",
    "# Removing specific Unicode characters\n",
    "df_tweets_filtered['text'] = df_tweets_filtered['text'].apply(remove_specific_unicode)"
   ]
  },
  {
   "cell_type": "markdown",
   "id": "17c3b43a-4539-46ff-8e1d-c95001a996e2",
   "metadata": {},
   "source": [
    "### Replacing the `LF` character by a space"
   ]
  },
  {
   "cell_type": "markdown",
   "id": "61bf5f19-a221-420d-ba05-ba18a4696b8b",
   "metadata": {},
   "source": [
    "Some tweets, especially the retweeted ones, contain multiple lines of text."
   ]
  },
  {
   "cell_type": "code",
   "execution_count": 19,
   "id": "51f0113a-2d98-4045-9271-1ec3b2236be7",
   "metadata": {},
   "outputs": [],
   "source": [
    "# Defining a function to replace the `LF` character by a space\n",
    "def remove_cr_lf(input_line):\n",
    "    # Using RegEx to replace LF by a space\n",
    "    cleaned_line = re.sub(r'\\n', ' ', input_line)\n",
    "    return cleaned_line\n",
    "\n",
    "# Applying the function to the 'text' column in your DataFrame\n",
    "df_tweets_filtered['text'] = df_tweets_filtered['text'].apply(remove_cr_lf)"
   ]
  },
  {
   "cell_type": "markdown",
   "id": "bce86c72-0ded-4456-9b09-0f991a34eac9",
   "metadata": {},
   "source": [
    "### Replacing the `U+00A0` (No-Break Space) character by a space"
   ]
  },
  {
   "cell_type": "code",
   "execution_count": 20,
   "id": "60a205ec-d285-4116-b376-7bfd2d41f596",
   "metadata": {},
   "outputs": [],
   "source": [
    "# Defining a function to replace the `U+A0` character by a space\n",
    "def replace_no_break_space(input_line):\n",
    "    # Using RegEx to replace LF by a space\n",
    "    cleaned_line = re.sub(r'\\u00a0', ' ', input_line)\n",
    "    return cleaned_line\n",
    "\n",
    "# Applying the function to the 'text' column in your DataFrame\n",
    "df_tweets_filtered['text'] = df_tweets_filtered['text'].apply(replace_no_break_space)"
   ]
  },
  {
   "cell_type": "markdown",
   "id": "ad8a0df7-b361-455e-83ed-6850d6f5a7e3",
   "metadata": {},
   "source": [
    "### Removing URLs"
   ]
  },
  {
   "cell_type": "code",
   "execution_count": 21,
   "id": "5758abdb-c4e5-4bdb-97c5-3b2124c33d54",
   "metadata": {},
   "outputs": [],
   "source": [
    "# Defining a function to remove URLs\n",
    "def remove_urls(input_string):\n",
    "    modified_string = re.sub(r\"((http|https):\\/\\/)?([a-zA-Z0-9-]+\\.)+[a-zA-Z]{2,6}(\\/[a-zA-Z0-9-._~:\\/?#[\\]@!$&'()*+,;=]*)?\\/?\", '', input_string)\n",
    "    return modified_string\n",
    "\n",
    "# Removing URLs\n",
    "df_tweets_filtered['text'] = df_tweets_filtered['text'].apply(remove_urls)"
   ]
  },
  {
   "cell_type": "markdown",
   "id": "c87dd235-4b77-4cc9-9b5c-16100018a6a6",
   "metadata": {},
   "source": [
    "### Cleaning HTML entities"
   ]
  },
  {
   "cell_type": "code",
   "execution_count": 22,
   "id": "5595c244-949e-48a0-8cd6-8e30346dc5b4",
   "metadata": {},
   "outputs": [],
   "source": [
    "def clean_html_entities(input_line):\n",
    "    # Converting HTML entities to their corresponding characters\n",
    "    decoded_line = html.unescape(input_line)\n",
    "    # Removing HTML tags\n",
    "    cleaned_line = re.sub(r'<.*?>', '', decoded_line)\n",
    "    cleaned_line = re.sub(r'<', '', cleaned_line)\n",
    "    cleaned_line = re.sub(r'>', '', cleaned_line)\n",
    "    return cleaned_line\n",
    "\n",
    "# Applying the function to the 'text' column in your DataFrame\n",
    "df_tweets_filtered['text'] = df_tweets_filtered['text'].apply(clean_html_entities)"
   ]
  },
  {
   "cell_type": "markdown",
   "id": "5ce47426-5e49-4eea-aea4-cf9d7ae3b3db",
   "metadata": {},
   "source": [
    "### Removing the preceding `.`"
   ]
  },
  {
   "cell_type": "code",
   "execution_count": 23,
   "id": "87a3e843-b852-431d-baf1-3e2929a0975b",
   "metadata": {},
   "outputs": [],
   "source": [
    "# Defining a function to remove preceding the dot\n",
    "def clean_text(input_line):\n",
    "    # Removing preceding dot\n",
    "    cleaned_line = re.sub(r'(^\\.)(?=[ #\\w+@])', '', input_line)\n",
    "    return cleaned_line\n",
    "\n",
    "# Applying the function to the 'text' column in your DataFrame\n",
    "df_tweets_filtered['text'] = df_tweets_filtered['text'].apply(clean_text)"
   ]
  },
  {
   "cell_type": "markdown",
   "id": "35e4eac3-e506-40ed-b509-cad997fd066e",
   "metadata": {},
   "source": [
    "### Dropping duplicates"
   ]
  },
  {
   "cell_type": "markdown",
   "id": "b41b5225-0431-4e57-b3d9-c52a19fe4a9e",
   "metadata": {},
   "source": [
    "#### Retweets"
   ]
  },
  {
   "cell_type": "markdown",
   "id": "8a7aa106-a395-4b35-a107-9051ea0c148d",
   "metadata": {},
   "source": [
    "Retweets bear the following RegEx patterns at the beginning of the column `text`. They should be often dropped because they are duplicates of the original tweets. In the case of this study, though, the dataset may not include the original tweets because it is a 1% random sample. Therefore, only the first occurrence of the retweet is being kept.\n",
    "\n",
    "- \\bRT @\\w+\\s*:\n",
    "- \\brt @\\w+\\s*:\n",
    "- \\bRT @\\w+\\s*\n",
    "- \\bRT:\\s*\n",
    "- \\bRT\\s*"
   ]
  },
  {
   "cell_type": "code",
   "execution_count": 24,
   "id": "c7d75a0f-4e6f-4201-9ae2-17540ae26302",
   "metadata": {},
   "outputs": [],
   "source": [
    "# Create a new column 'no_retweet' containing the contents of the column 'text' without any preceding 'RT @mentions:'\n",
    "df_tweets_filtered['no_retweet'] = df_tweets_filtered['text'].str.replace(r'\\bRT @\\w+\\s*:|\\brt @\\w+\\s*:|\\bRT @\\w+\\s*|\\bRT:\\s*|\\bRT\\s*', '', regex=True)"
   ]
  },
  {
   "cell_type": "code",
   "execution_count": 25,
   "id": "1371ab23-1316-4f0b-843f-612c67f7bfc3",
   "metadata": {},
   "outputs": [
    {
     "data": {
      "text/plain": [
       "(33361, 9)"
      ]
     },
     "execution_count": 25,
     "metadata": {},
     "output_type": "execute_result"
    }
   ],
   "source": [
    "# Drop duplicate rows except the first occurrence based on 'no_mention'\n",
    "df_tweets_filtered.drop_duplicates(subset='no_retweet', keep='first', inplace=True)\n",
    "df_tweets_filtered = df_tweets_filtered.reset_index(drop=True)\n",
    "df_tweets_filtered.shape"
   ]
  },
  {
   "cell_type": "markdown",
   "id": "b1b5ba62-35f8-4bb4-8740-decef9e1187f",
   "metadata": {},
   "source": [
    "#### Duplicate tweets"
   ]
  },
  {
   "cell_type": "markdown",
   "id": "03d8da78-8afd-40c7-ba01-4a6cd5b51bdb",
   "metadata": {},
   "source": [
    "The dataset was build in a way that if a certain tweet had more than one photo, one copy of the tweet was included per unique photo. Since we are concerned with analysing just the text, those duplicates should be removed. Tweets that bear the same 'tweet_url' are duplicates - we are going to keep only the first."
   ]
  },
  {
   "cell_type": "code",
   "execution_count": 26,
   "id": "571dbdcb-89e1-4ad5-8a4b-a1ae8072aa94",
   "metadata": {},
   "outputs": [
    {
     "data": {
      "text/plain": [
       "(21888, 9)"
      ]
     },
     "execution_count": 26,
     "metadata": {},
     "output_type": "execute_result"
    }
   ],
   "source": [
    "df_tweets_filtered.drop_duplicates(subset='tweet_url', keep='first', inplace=True)\n",
    "df_tweets_filtered = df_tweets_filtered.reset_index(drop=True)\n",
    "df_tweets_filtered.shape"
   ]
  },
  {
   "cell_type": "markdown",
   "id": "9a7dcc36-9663-4e5e-bb79-d8b84ef82d17",
   "metadata": {},
   "source": [
    "#### @mentioned tweets"
   ]
  },
  {
   "cell_type": "markdown",
   "id": "1129504d-8625-4e00-bd0f-f2ef37158c82",
   "metadata": {},
   "source": [
    "A few users @mention copies of tweets towards other specific users creating multiple copies of the same tweet - those duplicates should be removed."
   ]
  },
  {
   "cell_type": "code",
   "execution_count": 27,
   "id": "acbbf05c-0710-4ca1-9fca-5d0c7e5d5801",
   "metadata": {},
   "outputs": [
    {
     "data": {
      "text/plain": [
       "(20840, 10)"
      ]
     },
     "execution_count": 27,
     "metadata": {},
     "output_type": "execute_result"
    }
   ],
   "source": [
    "# Create a new column 'no_mention' containing the contents of the column 'text' without any preceding @mentions\n",
    "df_tweets_filtered['no_mention'] = df_tweets_filtered['text'].str.replace(r'@\\w+\\s*', '', regex=True)\n",
    "\n",
    "# Drop duplicate rows except the first occurrence based on 'no_mention'\n",
    "df_tweets_filtered.drop_duplicates(subset='no_mention', keep='first', inplace=True)\n",
    "df_tweets_filtered = df_tweets_filtered.reset_index(drop=True)\n",
    "df_tweets_filtered.shape"
   ]
  },
  {
   "cell_type": "markdown",
   "id": "c6d965be-50fb-4669-9922-0eaaf152c101",
   "metadata": {},
   "source": [
    "#### Duplicate texts"
   ]
  },
  {
   "cell_type": "markdown",
   "id": "c7426b0d-5cf7-4205-aca4-7fcd302af079",
   "metadata": {},
   "source": [
    "Checking for identical posts in terms of content of the column `text` in order to eliminate duplicates."
   ]
  },
  {
   "cell_type": "code",
   "execution_count": 28,
   "id": "0932955f-9a94-4aed-8f45-d63cd26c1296",
   "metadata": {},
   "outputs": [
    {
     "data": {
      "text/plain": [
       "(20840, 10)"
      ]
     },
     "execution_count": 28,
     "metadata": {},
     "output_type": "execute_result"
    }
   ],
   "source": [
    "df_tweets_filtered.drop_duplicates(subset='text', keep='first', inplace=True)\n",
    "df_tweets_filtered = df_tweets_filtered.reset_index(drop=True)\n",
    "df_tweets_filtered.shape"
   ]
  },
  {
   "cell_type": "markdown",
   "id": "e25ae407-3759-47c0-9338-79a2fb10fb16",
   "metadata": {},
   "source": [
    "## Inspecting and eliminating duplicates"
   ]
  },
  {
   "cell_type": "markdown",
   "id": "f153b036-3792-4555-b715-c924da3725b7",
   "metadata": {},
   "source": [
    "### Creating a DataFrame index"
   ]
  },
  {
   "cell_type": "code",
   "execution_count": 29,
   "id": "7b8ec9d7-b9ac-4232-be44-92445dc056f6",
   "metadata": {},
   "outputs": [],
   "source": [
    "df_tweets_filtered['df_index'] = df_tweets_filtered.index.astype(str).str.zfill(6)"
   ]
  },
  {
   "cell_type": "markdown",
   "id": "f0ad704a-aa3d-4b80-a8f0-0db50b85651e",
   "metadata": {},
   "source": [
    "### Sorting the DataFrame by the column `text` to enable duplicate detection"
   ]
  },
  {
   "cell_type": "code",
   "execution_count": 30,
   "id": "4bc137b3-5f08-4888-ae91-457f7457c159",
   "metadata": {},
   "outputs": [],
   "source": [
    "# Sorting the DataFrame by the 'text' column in ascending order\n",
    "df_tweets_filtered = df_tweets_filtered.sort_values(by='text', ascending=True)"
   ]
  },
  {
   "cell_type": "markdown",
   "id": "2b0e66d4-866b-4479-8df0-c5f2e8813886",
   "metadata": {},
   "source": [
    "### Exporting the filtered data into a file for inspection"
   ]
  },
  {
   "cell_type": "code",
   "execution_count": 31,
   "id": "aa06ca74-bb49-4c2c-881a-89a685672d89",
   "metadata": {},
   "outputs": [],
   "source": [
    "df_tweets_filtered[['df_index', 'text']].to_csv('tweets_emojified.tsv', sep='\\t', index=False, encoding='utf-8', lineterminator='\\n')"
   ]
  },
  {
   "cell_type": "markdown",
   "id": "fd7d8150-a6ae-43b2-8bd6-e65c1fa99768",
   "metadata": {},
   "source": [
    "### Inspecting a few tweets"
   ]
  },
  {
   "cell_type": "code",
   "execution_count": 33,
   "id": "52ca4ba7-cc04-4ccf-9bc7-2d8a126b9139",
   "metadata": {},
   "outputs": [
    {
     "name": "stdout",
     "output_type": "stream",
     "text": [
      "text:#3em1 Alckmin: “armas não resolvem o problema da violência e segurança” Bolsonaro: “quando Alckmin deixar de andar de carro blindado e seguranças armados, eu passo a acreditar nele” 😂😂😂😂😂😂\n"
     ]
    }
   ],
   "source": [
    "inspected_row = 1277\n",
    "print('text:' + df_tweets_filtered.loc[inspected_row, 'text'])"
   ]
  },
  {
   "cell_type": "markdown",
   "id": "efd80cd8-32b6-4faa-a1ec-b4835bc95e79",
   "metadata": {},
   "source": [
    "### Dropping identified duplicates"
   ]
  },
  {
   "cell_type": "code",
   "execution_count": 34,
   "id": "3a64d3e0-0d4c-407f-93a5-1c8b6aca5b6b",
   "metadata": {},
   "outputs": [],
   "source": [
    "# Define the list of indexes to drop\n",
    "indexes_to_drop = [\n",
    "    1277, \n",
    "    650, \n",
    "    11054, \n",
    "    7878, \n",
    "    9648, \n",
    "    19477, \n",
    "    81, \n",
    "    175, \n",
    "    167, \n",
    "    110, \n",
    "    113, \n",
    "    21, \n",
    "    156, \n",
    "    185, \n",
    "    15920, \n",
    "    15032, \n",
    "    15031, \n",
    "    15029, \n",
    "    15023, \n",
    "    15033, \n",
    "    15034, \n",
    "    15024, \n",
    "    14982, \n",
    "    14981, \n",
    "    14987, \n",
    "    14988, \n",
    "    15056, \n",
    "    15021, \n",
    "    15070, \n",
    "    15022, \n",
    "    14978, \n",
    "    15046, \n",
    "    15071, \n",
    "    10445, \n",
    "    17674, \n",
    "    17621, \n",
    "    17621, \n",
    "    17630, \n",
    "    17613, \n",
    "    17623, \n",
    "    17672, \n",
    "    17633, \n",
    "    17616, \n",
    "    17659, \n",
    "    17631, \n",
    "    17559, \n",
    "    17639, \n",
    "    17608, \n",
    "    8793, \n",
    "    716, \n",
    "    3411, \n",
    "    7933, \n",
    "    14757, \n",
    "    10727, \n",
    "    16427, \n",
    "    16681, \n",
    "    16691, \n",
    "    14045, \n",
    "    5674, \n",
    "    17434, \n",
    "    13247, \n",
    "    20624, \n",
    "    17674, \n",
    "    17621, \n",
    "    17630, \n",
    "    17613, \n",
    "    17623, \n",
    "    17672, \n",
    "    17633, \n",
    "    17616, \n",
    "    17659, \n",
    "    17631, \n",
    "    17559, \n",
    "    17685, \n",
    "    17608, \n",
    "    6449, \n",
    "    6450, \n",
    "    9690, \n",
    "    4711, \n",
    "    4238, \n",
    "    12567, \n",
    "    8779, \n",
    "    4448, \n",
    "    4491, \n",
    "    16674, \n",
    "    16768, \n",
    "    3737, \n",
    "    3749, \n",
    "    3597, \n",
    "    1242, \n",
    "    8930, \n",
    "    10687, \n",
    "    10664, \n",
    "    3016, \n",
    "    2950, \n",
    "    7975, \n",
    "    3123, \n",
    "    5399, \n",
    "    11833, \n",
    "    12439, \n",
    "    12559, \n",
    "    12579, \n",
    "    12615, \n",
    "    12662, \n",
    "    16933, \n",
    "    16501, \n",
    "    13325, \n",
    "    4674, \n",
    "    16420, \n",
    "    16730, \n",
    "    16551, \n",
    "    16423, \n",
    "    5889, \n",
    "    5870, \n",
    "    5822, \n",
    "    5908, \n",
    "    5791, \n",
    "    5830, \n",
    "    5876, \n",
    "    10501, \n",
    "    52, \n",
    "    133, \n",
    "    5854, \n",
    "    5872, \n",
    "    5857, \n",
    "    2562, \n",
    "    646, \n",
    "    5369, \n",
    "    5406, \n",
    "    5416, \n",
    "    19284, \n",
    "    18859, \n",
    "    19194, \n",
    "    19174, \n",
    "    19121, \n",
    "    19038, \n",
    "    18952, \n",
    "    19021, \n",
    "    18840, \n",
    "    19181, \n",
    "    19170, \n",
    "    19264, \n",
    "    18898, \n",
    "    2370, \n",
    "    2357, \n",
    "    2266, \n",
    "    2290, \n",
    "    4725, \n",
    "    4924, \n",
    "    4902, \n",
    "    3331, \n",
    "    3446, \n",
    "    3393, \n",
    "    8906, \n",
    "    2949, \n",
    "    7895, \n",
    "    7983, \n",
    "    7683, \n",
    "    19574, \n",
    "    19610, \n",
    "    19633, \n",
    "    7429, \n",
    "    8166, \n",
    "    7597, \n",
    "    14637, \n",
    "    9147, \n",
    "    8996, \n",
    "    8861, \n",
    "    18907, \n",
    "    10546, \n",
    "    15942, \n",
    "    15933, \n",
    "    15930, \n",
    "    15916, \n",
    "    15923, \n",
    "    139, \n",
    "    2644, \n",
    "    10526, \n",
    "    10870, \n",
    "    14213, \n",
    "    2683, \n",
    "    5741, \n",
    "    3554, \n",
    "    12876, \n",
    "    12755, \n",
    "    12988, \n",
    "    12715, \n",
    "    2664, \n",
    "    2244, \n",
    "    101, \n",
    "    17055, \n",
    "    1115, \n",
    "    6188, \n",
    "    14847, \n",
    "    14732, \n",
    "    15088, \n",
    "    7514, \n",
    "    2363, \n",
    "    10605, \n",
    "    3163, \n",
    "    3142, \n",
    "    2280, \n",
    "    2599, \n",
    "    2342, \n",
    "    2364, \n",
    "    2226, \n",
    "    8120, \n",
    "    8009, \n",
    "    8007, \n",
    "    8280, \n",
    "    8195, \n",
    "    11303, \n",
    "    10409, \n",
    "    10771, \n",
    "    10945, \n",
    "    10806, \n",
    "    10741, \n",
    "    17021, \n",
    "    17610, \n",
    "    9887, \n",
    "    16207, \n",
    "    13424, \n",
    "    13420, \n",
    "    13574, \n",
    "    13611, \n",
    "    13456, \n",
    "    13664, \n",
    "    1965, \n",
    "    5542, \n",
    "    12859, \n",
    "    12882, \n",
    "    12492, \n",
    "    12401, \n",
    "    3170, \n",
    "    3133, \n",
    "    3169, \n",
    "    3167, \n",
    "    3164, \n",
    "    3143, \n",
    "    3166, \n",
    "    3162, \n",
    "    3158, \n",
    "    3156, \n",
    "    3157, \n",
    "    3153, \n",
    "    3150, \n",
    "    3149, \n",
    "    3147, \n",
    "    3601, \n",
    "    3471, \n",
    "    19191, \n",
    "    18851\n",
    "]\n",
    "\n",
    "# Dropping the rows with the specified indexes\n",
    "df_tweets_filtered = df_tweets_filtered.drop(indexes_to_drop)"
   ]
  },
  {
   "cell_type": "markdown",
   "id": "eeb662e0-e638-4c5a-8850-a17d572bbc9d",
   "metadata": {},
   "source": [
    "### Sorting the DataFrame by the index to revert the DataFrame back to its original order"
   ]
  },
  {
   "cell_type": "code",
   "execution_count": 35,
   "id": "91d69877-9201-4f66-a995-58cf4ea6d86f",
   "metadata": {},
   "outputs": [],
   "source": [
    "# Sorting the DataFrame back to the original order by the index\n",
    "df_tweets_filtered = df_tweets_filtered.sort_index()\n",
    "df_tweets_filtered = df_tweets_filtered.reset_index(drop=True)"
   ]
  },
  {
   "cell_type": "code",
   "execution_count": 36,
   "id": "a209dbbb-7c23-4bcc-81a7-be03558b651a",
   "metadata": {},
   "outputs": [
    {
     "data": {
      "text/html": [
       "<div>\n",
       "<style scoped>\n",
       "    .dataframe tbody tr th:only-of-type {\n",
       "        vertical-align: middle;\n",
       "    }\n",
       "\n",
       "    .dataframe tbody tr th {\n",
       "        vertical-align: top;\n",
       "    }\n",
       "\n",
       "    .dataframe thead th {\n",
       "        text-align: right;\n",
       "    }\n",
       "</style>\n",
       "<table border=\"1\" class=\"dataframe\">\n",
       "  <thead>\n",
       "    <tr style=\"text-align: right;\">\n",
       "      <th></th>\n",
       "      <th>file</th>\n",
       "      <th>created_at</th>\n",
       "      <th>text_uniq</th>\n",
       "      <th>conversation_id</th>\n",
       "      <th>author_id</th>\n",
       "      <th>username</th>\n",
       "      <th>tweet_url</th>\n",
       "      <th>text</th>\n",
       "      <th>no_retweet</th>\n",
       "      <th>no_mention</th>\n",
       "      <th>df_index</th>\n",
       "    </tr>\n",
       "  </thead>\n",
       "  <tbody>\n",
       "    <tr>\n",
       "      <th>0</th>\n",
       "      <td>bolsonaro201803_n_00101.json</td>\n",
       "      <td>2018-03-28 15:31:51</td>\n",
       "      <td>tweet_00000004</td>\n",
       "      <td>convo_979018234736373760</td>\n",
       "      <td>id_287765295</td>\n",
       "      <td>pelegrini65</td>\n",
       "      <td>https://twitter.com/pelegrini65/status/9790182...</td>\n",
       "      <td>Após caluniar, ameaçar, incitar as pessoas con...</td>\n",
       "      <td>Após caluniar, ameaçar, incitar as pessoas con...</td>\n",
       "      <td>Após caluniar, ameaçar, incitar as pessoas con...</td>\n",
       "      <td>000000</td>\n",
       "    </tr>\n",
       "    <tr>\n",
       "      <th>1</th>\n",
       "      <td>bolsonaro201803_n_00101.json</td>\n",
       "      <td>2018-03-30 04:12:13</td>\n",
       "      <td>tweet_00000046</td>\n",
       "      <td>convo_979571975545872384</td>\n",
       "      <td>id_16794066</td>\n",
       "      <td>BlogdoNoblat</td>\n",
       "      <td>https://twitter.com/BlogdoNoblat/status/979571...</td>\n",
       "      <td>Bolsonaro deve saber o que está fazendo. Porqu...</td>\n",
       "      <td>Bolsonaro deve saber o que está fazendo. Porqu...</td>\n",
       "      <td>Bolsonaro deve saber o que está fazendo. Porqu...</td>\n",
       "      <td>000001</td>\n",
       "    </tr>\n",
       "    <tr>\n",
       "      <th>2</th>\n",
       "      <td>bolsonaro201803_n_00101.json</td>\n",
       "      <td>2018-03-30 10:16:00</td>\n",
       "      <td>tweet_00000051</td>\n",
       "      <td>convo_979363111089135617</td>\n",
       "      <td>id_955901617148235776</td>\n",
       "      <td>MariaOl25529153</td>\n",
       "      <td>https://twitter.com/MariaOl25529153/status/979...</td>\n",
       "      <td>@FlavioBolsonaro Mais um Romário na política ,...</td>\n",
       "      <td>@FlavioBolsonaro Mais um Romário na política ,...</td>\n",
       "      <td>Mais um Romário na política , que Deus ajude o...</td>\n",
       "      <td>000002</td>\n",
       "    </tr>\n",
       "    <tr>\n",
       "      <th>3</th>\n",
       "      <td>bolsonaro201803_n_00102.json</td>\n",
       "      <td>2018-03-28 18:29:28</td>\n",
       "      <td>tweet_00000100</td>\n",
       "      <td>convo_979062935103459331</td>\n",
       "      <td>id_44449830</td>\n",
       "      <td>lucianagenro</td>\n",
       "      <td>https://twitter.com/lucianagenro/status/979062...</td>\n",
       "      <td>A esquerda não tem conseguido comunicar suas p...</td>\n",
       "      <td>A esquerda não tem conseguido comunicar suas p...</td>\n",
       "      <td>A esquerda não tem conseguido comunicar suas p...</td>\n",
       "      <td>000003</td>\n",
       "    </tr>\n",
       "    <tr>\n",
       "      <th>4</th>\n",
       "      <td>bolsonaro201803_n_00102.json</td>\n",
       "      <td>2018-03-30 09:57:48</td>\n",
       "      <td>tweet_00000110</td>\n",
       "      <td>convo_979658943818584064</td>\n",
       "      <td>id_912132396</td>\n",
       "      <td>rocoguima</td>\n",
       "      <td>https://twitter.com/rocoguima/status/979658943...</td>\n",
       "      <td>RT @AurystellaS: @BlogdoNoblat Vc sabe informa...</td>\n",
       "      <td>@BlogdoNoblat Vc sabe informar quantas vezes ...</td>\n",
       "      <td>RT : Vc sabe informar quantas vezes Bolsonaro ...</td>\n",
       "      <td>000004</td>\n",
       "    </tr>\n",
       "    <tr>\n",
       "      <th>...</th>\n",
       "      <td>...</td>\n",
       "      <td>...</td>\n",
       "      <td>...</td>\n",
       "      <td>...</td>\n",
       "      <td>...</td>\n",
       "      <td>...</td>\n",
       "      <td>...</td>\n",
       "      <td>...</td>\n",
       "      <td>...</td>\n",
       "      <td>...</td>\n",
       "      <td>...</td>\n",
       "    </tr>\n",
       "    <tr>\n",
       "      <th>20596</th>\n",
       "      <td>bolsonaro202304_n_00205.json</td>\n",
       "      <td>2023-04-29 19:19:35</td>\n",
       "      <td>tweet_00487119</td>\n",
       "      <td>convo_1652392200167145472</td>\n",
       "      <td>id_1547227306913153026</td>\n",
       "      <td>LuccaSo44679209</td>\n",
       "      <td>https://twitter.com/LuccaSo44679209/status/165...</td>\n",
       "      <td>RT @LuccaSo44679209: @CiresCanisio Não, o Lula...</td>\n",
       "      <td>@CiresCanisio Não, o Lula não da uma refinari...</td>\n",
       "      <td>RT : Não, o Lula não da uma refinaria atroca d...</td>\n",
       "      <td>020835</td>\n",
       "    </tr>\n",
       "    <tr>\n",
       "      <th>20597</th>\n",
       "      <td>bolsonaro202304_n_00205.json</td>\n",
       "      <td>2023-04-29 19:19:18</td>\n",
       "      <td>tweet_00487120</td>\n",
       "      <td>convo_1652359568280678401</td>\n",
       "      <td>id_1547227306913153026</td>\n",
       "      <td>LuccaSo44679209</td>\n",
       "      <td>https://twitter.com/LuccaSo44679209/status/165...</td>\n",
       "      <td>@CiresCanisio Não, o Lula não da uma refinaria...</td>\n",
       "      <td>@CiresCanisio Não, o Lula não da uma refinaria...</td>\n",
       "      <td>Não, o Lula não da uma refinaria atroca de pro...</td>\n",
       "      <td>020836</td>\n",
       "    </tr>\n",
       "    <tr>\n",
       "      <th>20598</th>\n",
       "      <td>bolsonaro202304_n_00205.json</td>\n",
       "      <td>2023-04-29 19:19:14</td>\n",
       "      <td>tweet_00487123</td>\n",
       "      <td>convo_1652308555968532481</td>\n",
       "      <td>id_1554492869825683457</td>\n",
       "      <td>Andre19lll</td>\n",
       "      <td>https://twitter.com/Andre19lll/status/16523085...</td>\n",
       "      <td>@eunaovoupararde @CarlosZarattini Os índices d...</td>\n",
       "      <td>@eunaovoupararde @CarlosZarattini Os índices d...</td>\n",
       "      <td>Os índices de desemprego, PIB, inflação e qual...</td>\n",
       "      <td>020837</td>\n",
       "    </tr>\n",
       "    <tr>\n",
       "      <th>20599</th>\n",
       "      <td>bolsonaro202304_n_00206.json</td>\n",
       "      <td>2023-04-29 19:18:59</td>\n",
       "      <td>tweet_00487127</td>\n",
       "      <td>convo_1651881289497149440</td>\n",
       "      <td>id_1585200142440882179</td>\n",
       "      <td>priscila19865</td>\n",
       "      <td>https://twitter.com/priscila19865/status/16518...</td>\n",
       "      <td>@ValS265451870 @Guthbsb @marcia_miami Tá errad...</td>\n",
       "      <td>@ValS265451870 @Guthbsb @marcia_miami Tá errad...</td>\n",
       "      <td>Tá errado,EU podendo m.a.t.a.v.a um FDP desse,...</td>\n",
       "      <td>020838</td>\n",
       "    </tr>\n",
       "    <tr>\n",
       "      <th>20600</th>\n",
       "      <td>bolsonaro202304_n_00206.json</td>\n",
       "      <td>2023-04-29 19:18:25</td>\n",
       "      <td>tweet_00487132</td>\n",
       "      <td>convo_1651912640837349377</td>\n",
       "      <td>id_1236078194878541824</td>\n",
       "      <td>JDB33858086</td>\n",
       "      <td>https://twitter.com/JDB33858086/status/1651912...</td>\n",
       "      <td>@Joovito81551003 @odilabueno1 @ORenanxD @Senso...</td>\n",
       "      <td>@Joovito81551003 @odilabueno1 @ORenanxD @Senso...</td>\n",
       "      <td>Se for montagem, então, chumbo trocado não dói...</td>\n",
       "      <td>020839</td>\n",
       "    </tr>\n",
       "  </tbody>\n",
       "</table>\n",
       "<p>20601 rows × 11 columns</p>\n",
       "</div>"
      ],
      "text/plain": [
       "                               file          created_at       text_uniq  \\\n",
       "0      bolsonaro201803_n_00101.json 2018-03-28 15:31:51  tweet_00000004   \n",
       "1      bolsonaro201803_n_00101.json 2018-03-30 04:12:13  tweet_00000046   \n",
       "2      bolsonaro201803_n_00101.json 2018-03-30 10:16:00  tweet_00000051   \n",
       "3      bolsonaro201803_n_00102.json 2018-03-28 18:29:28  tweet_00000100   \n",
       "4      bolsonaro201803_n_00102.json 2018-03-30 09:57:48  tweet_00000110   \n",
       "...                             ...                 ...             ...   \n",
       "20596  bolsonaro202304_n_00205.json 2023-04-29 19:19:35  tweet_00487119   \n",
       "20597  bolsonaro202304_n_00205.json 2023-04-29 19:19:18  tweet_00487120   \n",
       "20598  bolsonaro202304_n_00205.json 2023-04-29 19:19:14  tweet_00487123   \n",
       "20599  bolsonaro202304_n_00206.json 2023-04-29 19:18:59  tweet_00487127   \n",
       "20600  bolsonaro202304_n_00206.json 2023-04-29 19:18:25  tweet_00487132   \n",
       "\n",
       "                 conversation_id               author_id         username  \\\n",
       "0       convo_979018234736373760            id_287765295      pelegrini65   \n",
       "1       convo_979571975545872384             id_16794066     BlogdoNoblat   \n",
       "2       convo_979363111089135617   id_955901617148235776  MariaOl25529153   \n",
       "3       convo_979062935103459331             id_44449830     lucianagenro   \n",
       "4       convo_979658943818584064            id_912132396        rocoguima   \n",
       "...                          ...                     ...              ...   \n",
       "20596  convo_1652392200167145472  id_1547227306913153026  LuccaSo44679209   \n",
       "20597  convo_1652359568280678401  id_1547227306913153026  LuccaSo44679209   \n",
       "20598  convo_1652308555968532481  id_1554492869825683457       Andre19lll   \n",
       "20599  convo_1651881289497149440  id_1585200142440882179    priscila19865   \n",
       "20600  convo_1651912640837349377  id_1236078194878541824      JDB33858086   \n",
       "\n",
       "                                               tweet_url  \\\n",
       "0      https://twitter.com/pelegrini65/status/9790182...   \n",
       "1      https://twitter.com/BlogdoNoblat/status/979571...   \n",
       "2      https://twitter.com/MariaOl25529153/status/979...   \n",
       "3      https://twitter.com/lucianagenro/status/979062...   \n",
       "4      https://twitter.com/rocoguima/status/979658943...   \n",
       "...                                                  ...   \n",
       "20596  https://twitter.com/LuccaSo44679209/status/165...   \n",
       "20597  https://twitter.com/LuccaSo44679209/status/165...   \n",
       "20598  https://twitter.com/Andre19lll/status/16523085...   \n",
       "20599  https://twitter.com/priscila19865/status/16518...   \n",
       "20600  https://twitter.com/JDB33858086/status/1651912...   \n",
       "\n",
       "                                                    text  \\\n",
       "0      Após caluniar, ameaçar, incitar as pessoas con...   \n",
       "1      Bolsonaro deve saber o que está fazendo. Porqu...   \n",
       "2      @FlavioBolsonaro Mais um Romário na política ,...   \n",
       "3      A esquerda não tem conseguido comunicar suas p...   \n",
       "4      RT @AurystellaS: @BlogdoNoblat Vc sabe informa...   \n",
       "...                                                  ...   \n",
       "20596  RT @LuccaSo44679209: @CiresCanisio Não, o Lula...   \n",
       "20597  @CiresCanisio Não, o Lula não da uma refinaria...   \n",
       "20598  @eunaovoupararde @CarlosZarattini Os índices d...   \n",
       "20599  @ValS265451870 @Guthbsb @marcia_miami Tá errad...   \n",
       "20600  @Joovito81551003 @odilabueno1 @ORenanxD @Senso...   \n",
       "\n",
       "                                              no_retweet  \\\n",
       "0      Após caluniar, ameaçar, incitar as pessoas con...   \n",
       "1      Bolsonaro deve saber o que está fazendo. Porqu...   \n",
       "2      @FlavioBolsonaro Mais um Romário na política ,...   \n",
       "3      A esquerda não tem conseguido comunicar suas p...   \n",
       "4       @BlogdoNoblat Vc sabe informar quantas vezes ...   \n",
       "...                                                  ...   \n",
       "20596   @CiresCanisio Não, o Lula não da uma refinari...   \n",
       "20597  @CiresCanisio Não, o Lula não da uma refinaria...   \n",
       "20598  @eunaovoupararde @CarlosZarattini Os índices d...   \n",
       "20599  @ValS265451870 @Guthbsb @marcia_miami Tá errad...   \n",
       "20600  @Joovito81551003 @odilabueno1 @ORenanxD @Senso...   \n",
       "\n",
       "                                              no_mention df_index  \n",
       "0      Após caluniar, ameaçar, incitar as pessoas con...   000000  \n",
       "1      Bolsonaro deve saber o que está fazendo. Porqu...   000001  \n",
       "2      Mais um Romário na política , que Deus ajude o...   000002  \n",
       "3      A esquerda não tem conseguido comunicar suas p...   000003  \n",
       "4      RT : Vc sabe informar quantas vezes Bolsonaro ...   000004  \n",
       "...                                                  ...      ...  \n",
       "20596  RT : Não, o Lula não da uma refinaria atroca d...   020835  \n",
       "20597  Não, o Lula não da uma refinaria atroca de pro...   020836  \n",
       "20598  Os índices de desemprego, PIB, inflação e qual...   020837  \n",
       "20599  Tá errado,EU podendo m.a.t.a.v.a um FDP desse,...   020838  \n",
       "20600  Se for montagem, então, chumbo trocado não dói...   020839  \n",
       "\n",
       "[20601 rows x 11 columns]"
      ]
     },
     "execution_count": 36,
     "metadata": {},
     "output_type": "execute_result"
    }
   ],
   "source": [
    "df_tweets_filtered"
   ]
  },
  {
   "cell_type": "markdown",
   "id": "13fb2127-3485-402c-aae0-95f4b8499ee2",
   "metadata": {},
   "source": [
    "## Exporting to a file"
   ]
  },
  {
   "cell_type": "markdown",
   "id": "c113c53e-bdf4-4653-a90c-2a47fc655b65",
   "metadata": {},
   "source": [
    "### JSONL format"
   ]
  },
  {
   "cell_type": "code",
   "execution_count": 37,
   "id": "04efc496-8304-4b3d-ba91-64ffbc21728c",
   "metadata": {},
   "outputs": [],
   "source": [
    "df_tweets_filtered[['created_at', 'author_id', 'username', 'tweet_url', 'text']].to_json('tweets_filtered.jsonl', orient='records', lines=True)"
   ]
  },
  {
   "cell_type": "markdown",
   "id": "a61bbba5-4057-40b7-b53b-29ba7f97526f",
   "metadata": {},
   "source": [
    "### TSV format"
   ]
  },
  {
   "cell_type": "code",
   "execution_count": 38,
   "id": "eadf6dc2-69dc-41e9-831f-618b8b0dbc1a",
   "metadata": {},
   "outputs": [],
   "source": [
    "df_tweets_filtered[['created_at', 'author_id', 'username', 'tweet_url', 'text']].to_csv('tweets_filtered.tsv', sep='\\t', index=False, encoding='utf-8', lineterminator='\\n')"
   ]
  },
  {
   "cell_type": "markdown",
   "id": "3b3e97d4-9152-4ce9-a323-30b3a4ac2efd",
   "metadata": {},
   "source": [
    "## Importing the Target Corpus into a DataFrame"
   ]
  },
  {
   "cell_type": "code",
   "execution_count": 39,
   "id": "9f6bcc09-02d9-4e0c-a121-340cbf6b2260",
   "metadata": {},
   "outputs": [],
   "source": [
    "df_tweets_filtered = pd.read_json('tweets_filtered.jsonl', lines=True)"
   ]
  },
  {
   "cell_type": "code",
   "execution_count": 40,
   "id": "43f998f3-6582-4b4d-8bfe-3e46be722878",
   "metadata": {},
   "outputs": [
    {
     "data": {
      "text/html": [
       "<div>\n",
       "<style scoped>\n",
       "    .dataframe tbody tr th:only-of-type {\n",
       "        vertical-align: middle;\n",
       "    }\n",
       "\n",
       "    .dataframe tbody tr th {\n",
       "        vertical-align: top;\n",
       "    }\n",
       "\n",
       "    .dataframe thead th {\n",
       "        text-align: right;\n",
       "    }\n",
       "</style>\n",
       "<table border=\"1\" class=\"dataframe\">\n",
       "  <thead>\n",
       "    <tr style=\"text-align: right;\">\n",
       "      <th></th>\n",
       "      <th>created_at</th>\n",
       "      <th>author_id</th>\n",
       "      <th>username</th>\n",
       "      <th>tweet_url</th>\n",
       "      <th>text</th>\n",
       "    </tr>\n",
       "  </thead>\n",
       "  <tbody>\n",
       "    <tr>\n",
       "      <th>0</th>\n",
       "      <td>2018-03-28 15:31:51</td>\n",
       "      <td>id_287765295</td>\n",
       "      <td>pelegrini65</td>\n",
       "      <td>https://twitter.com/pelegrini65/status/9790182...</td>\n",
       "      <td>Após caluniar, ameaçar, incitar as pessoas con...</td>\n",
       "    </tr>\n",
       "    <tr>\n",
       "      <th>1</th>\n",
       "      <td>2018-03-30 04:12:13</td>\n",
       "      <td>id_16794066</td>\n",
       "      <td>BlogdoNoblat</td>\n",
       "      <td>https://twitter.com/BlogdoNoblat/status/979571...</td>\n",
       "      <td>Bolsonaro deve saber o que está fazendo. Porqu...</td>\n",
       "    </tr>\n",
       "    <tr>\n",
       "      <th>2</th>\n",
       "      <td>2018-03-30 10:16:00</td>\n",
       "      <td>id_955901617148235776</td>\n",
       "      <td>MariaOl25529153</td>\n",
       "      <td>https://twitter.com/MariaOl25529153/status/979...</td>\n",
       "      <td>@FlavioBolsonaro Mais um Romário na política ,...</td>\n",
       "    </tr>\n",
       "    <tr>\n",
       "      <th>3</th>\n",
       "      <td>2018-03-28 18:29:28</td>\n",
       "      <td>id_44449830</td>\n",
       "      <td>lucianagenro</td>\n",
       "      <td>https://twitter.com/lucianagenro/status/979062...</td>\n",
       "      <td>A esquerda não tem conseguido comunicar suas p...</td>\n",
       "    </tr>\n",
       "    <tr>\n",
       "      <th>4</th>\n",
       "      <td>2018-03-30 09:57:48</td>\n",
       "      <td>id_912132396</td>\n",
       "      <td>rocoguima</td>\n",
       "      <td>https://twitter.com/rocoguima/status/979658943...</td>\n",
       "      <td>RT @AurystellaS: @BlogdoNoblat Vc sabe informa...</td>\n",
       "    </tr>\n",
       "  </tbody>\n",
       "</table>\n",
       "</div>"
      ],
      "text/plain": [
       "           created_at              author_id         username  \\\n",
       "0 2018-03-28 15:31:51           id_287765295      pelegrini65   \n",
       "1 2018-03-30 04:12:13            id_16794066     BlogdoNoblat   \n",
       "2 2018-03-30 10:16:00  id_955901617148235776  MariaOl25529153   \n",
       "3 2018-03-28 18:29:28            id_44449830     lucianagenro   \n",
       "4 2018-03-30 09:57:48           id_912132396        rocoguima   \n",
       "\n",
       "                                           tweet_url  \\\n",
       "0  https://twitter.com/pelegrini65/status/9790182...   \n",
       "1  https://twitter.com/BlogdoNoblat/status/979571...   \n",
       "2  https://twitter.com/MariaOl25529153/status/979...   \n",
       "3  https://twitter.com/lucianagenro/status/979062...   \n",
       "4  https://twitter.com/rocoguima/status/979658943...   \n",
       "\n",
       "                                                text  \n",
       "0  Após caluniar, ameaçar, incitar as pessoas con...  \n",
       "1  Bolsonaro deve saber o que está fazendo. Porqu...  \n",
       "2  @FlavioBolsonaro Mais um Romário na política ,...  \n",
       "3  A esquerda não tem conseguido comunicar suas p...  \n",
       "4  RT @AurystellaS: @BlogdoNoblat Vc sabe informa...  "
      ]
     },
     "execution_count": 40,
     "metadata": {},
     "output_type": "execute_result"
    }
   ],
   "source": [
    "df_tweets_filtered.head(5)"
   ]
  },
  {
   "cell_type": "code",
   "execution_count": 41,
   "id": "e7fc1c49-1884-4650-a159-b9b3f3f842cc",
   "metadata": {},
   "outputs": [
    {
     "data": {
      "text/plain": [
       "(20601, 5)"
      ]
     },
     "execution_count": 41,
     "metadata": {},
     "output_type": "execute_result"
    }
   ],
   "source": [
    "df_tweets_filtered.shape"
   ]
  },
  {
   "cell_type": "code",
   "execution_count": 42,
   "id": "95f73199-776b-4d85-8ecd-2673b634f5c3",
   "metadata": {},
   "outputs": [
    {
     "data": {
      "text/plain": [
       "created_at    datetime64[ns]\n",
       "author_id             object\n",
       "username              object\n",
       "tweet_url             object\n",
       "text                  object\n",
       "dtype: object"
      ]
     },
     "execution_count": 42,
     "metadata": {},
     "output_type": "execute_result"
    }
   ],
   "source": [
    "df_tweets_filtered.dtypes"
   ]
  },
  {
   "cell_type": "markdown",
   "id": "9e29acd5-5697-420d-86e7-8dd52cc738cf",
   "metadata": {},
   "source": [
    "## Replacing hashtags"
   ]
  },
  {
   "cell_type": "code",
   "execution_count": 43,
   "id": "19b1a368-2985-49ed-9ab8-b1cd72c2cc06",
   "metadata": {},
   "outputs": [],
   "source": [
    "# Defining a function to format the hashtagged string\n",
    "def format_hashtagged_string(input_line):\n",
    "    # Defining a function to format the hashtagged string using RegEx\n",
    "    def process_hashtagged_string(s):\n",
    "            # Lowercase the string\n",
    "            s = s.lower()\n",
    "            # Add the appropriate prefixes and suffixes\n",
    "            s = f'HASHTAG{s}_h'\n",
    "            return s\n",
    "\n",
    "    # Use RegEx to find and process each hashtagged string\n",
    "    processed_line = re.sub(r'(#\\w+)', lambda match: process_hashtagged_string(match.group(1)), input_line)\n",
    "    return processed_line\n",
    "\n",
    "# Formatting the hashtagged strings\n",
    "df_tweets_filtered['text'] = df_tweets_filtered['text'].apply(format_hashtagged_string)"
   ]
  },
  {
   "cell_type": "markdown",
   "id": "268d8c1a-2600-4b18-a1c7-0141fdcd40ea",
   "metadata": {},
   "source": [
    "## Replacing emojis"
   ]
  },
  {
   "cell_type": "markdown",
   "id": "3478255c-a7a8-48f0-9608-999dc92464a4",
   "metadata": {},
   "source": [
    "### Demojifying the column `text`"
   ]
  },
  {
   "cell_type": "code",
   "execution_count": 44,
   "id": "2341baec-2fa0-4ee8-82cf-1522257ab02f",
   "metadata": {},
   "outputs": [],
   "source": [
    "# Defining a function to demojify a string\n",
    "def demojify_line(input_line):\n",
    "    demojified_line = demoji.replace_with_desc(input_line, sep='<em>')\n",
    "    return demojified_line\n",
    "\n",
    "df_tweets_filtered['text'] = df_tweets_filtered['text'].apply(demojify_line)"
   ]
  },
  {
   "cell_type": "markdown",
   "id": "08405272-4072-4cbe-92c0-c221d3848181",
   "metadata": {},
   "source": [
    "#### Exporting the filtered data into a file for inspection"
   ]
  },
  {
   "cell_type": "code",
   "execution_count": 45,
   "id": "662dfa3d-f25b-4b5d-9b92-a38aa93ca222",
   "metadata": {},
   "outputs": [],
   "source": [
    "df_tweets_filtered[['text']].to_csv('tweets_emojified1.tsv', sep='\\t', index=False, encoding='utf-8', lineterminator='\\n')"
   ]
  },
  {
   "cell_type": "markdown",
   "id": "820ee493-3e57-4d46-817d-b7a4af0b0722",
   "metadata": {},
   "source": [
    "### Separating the demojified strings with spaces"
   ]
  },
  {
   "cell_type": "code",
   "execution_count": 46,
   "id": "9d55d111-b676-4569-89a0-a1c4ec2e57be",
   "metadata": {},
   "outputs": [],
   "source": [
    "# Defining a function to separate the demojified strings with spaces\n",
    "def preprocess_line(input_line):\n",
    "    # Add a space before the first delimiter '<em>', if it is not already preceded by one\n",
    "    preprocessed_line = re.sub(r'(?<! )<em>', ' <em>', input_line)\n",
    "    # Add a space after the first delimiter '<em>', if it is not already followed by one\n",
    "    preprocessed_line = re.sub(r'<em>(?! )', '<em> ', preprocessed_line)\n",
    "    return preprocessed_line\n",
    "\n",
    "# Separating the demojified strings with spaces\n",
    "df_tweets_filtered['text'] = df_tweets_filtered['text'].apply(preprocess_line)"
   ]
  },
  {
   "cell_type": "markdown",
   "id": "6acb282a-30a2-4401-80ac-305aa5f9d7c5",
   "metadata": {},
   "source": [
    "#### Exporting the filtered data into a file for inspection"
   ]
  },
  {
   "cell_type": "code",
   "execution_count": 47,
   "id": "602f9701-9b6f-424b-a49a-71d7bbf4d9b6",
   "metadata": {},
   "outputs": [],
   "source": [
    "df_tweets_filtered[['text']].to_csv('tweets_emojified2.tsv', sep='\\t', index=False, encoding='utf-8', lineterminator='\\n')"
   ]
  },
  {
   "cell_type": "markdown",
   "id": "2b2b2004-f565-44f9-9d43-31bf393170d8",
   "metadata": {},
   "source": [
    "### Formatting the demojified strings"
   ]
  },
  {
   "cell_type": "code",
   "execution_count": 48,
   "id": "2357ac57-bf81-4377-9a21-90fb79d1fcd8",
   "metadata": {},
   "outputs": [],
   "source": [
    "# Defining a function to format the demojified string\n",
    "def format_demojified_string(input_line):\n",
    "    # Defining a function to format the demojified string using RegEx\n",
    "    def process_demojified_string(s):\n",
    "            # Lowercase the string\n",
    "            s = s.lower()\n",
    "            # Replace spaces and colons followed by a space with underscores\n",
    "            s = re.sub(r'(: )| ', '_', s)\n",
    "            # Add the appropriate prefixes and suffixes\n",
    "            s = f'EMOJI{s}e'\n",
    "            return s\n",
    "\n",
    "    # Use RegEx to find and process each demojified string\n",
    "    processed_line = re.sub(r'<em>(.*?)<em>', lambda match: process_demojified_string(match.group(1)), input_line)\n",
    "    return processed_line\n",
    "\n",
    "# Formatting the demojified strings\n",
    "df_tweets_filtered['text'] = df_tweets_filtered['text'].apply(format_demojified_string)"
   ]
  },
  {
   "cell_type": "markdown",
   "id": "e743b0db-02a0-4e0b-b0b5-d6659960bc30",
   "metadata": {},
   "source": [
    "### Replacing the `pipe` character by the `-` character in the `text` column"
   ]
  },
  {
   "cell_type": "markdown",
   "id": "bc943030-7448-4d4d-98b8-b03c40e113e2",
   "metadata": {},
   "source": [
    "Further on, a few columns of the dataframe are going to be exported into the file `tweets.txt` whose columns need to be delimited by the `pipe` character. Therefore, it is recommended that any occurrences of the `pipe` character in the `text` column are replaced by another character."
   ]
  },
  {
   "cell_type": "code",
   "execution_count": 49,
   "id": "ab1c3584-ae80-41fc-b03a-4286a564a798",
   "metadata": {},
   "outputs": [],
   "source": [
    "# Defining a function to replace the 'pipe' character by the '-' character\n",
    "def replace_pipe_with_hyphen(input_string):\n",
    "    modified_string = re.sub(r'\\|', '-', input_string)\n",
    "    return modified_string\n",
    "\n",
    "# Replacing the 'pipe' character by the '-' character\n",
    "df_tweets_filtered['text'] = df_tweets_filtered['text'].apply(replace_pipe_with_hyphen)"
   ]
  },
  {
   "cell_type": "markdown",
   "id": "5a3d28f3-7d63-4c02-ba55-0dbc957a4291",
   "metadata": {},
   "source": [
    "#### Exporting the filtered data into a file for inspection"
   ]
  },
  {
   "cell_type": "code",
   "execution_count": 50,
   "id": "9bed48e1-c6f3-49af-966b-bdb81183d605",
   "metadata": {},
   "outputs": [],
   "source": [
    "df_tweets_filtered[['text']].to_csv('tweets_emojified3.tsv', sep='\\t', index=False, encoding='utf-8', lineterminator='\\n')"
   ]
  },
  {
   "cell_type": "markdown",
   "id": "776d4ca4-2999-47d3-ae97-b4f3a7599d84",
   "metadata": {},
   "source": [
    "## Tokenising"
   ]
  },
  {
   "cell_type": "markdown",
   "id": "1f950bc7-9ffa-4d96-9ce0-439643f90a55",
   "metadata": {},
   "source": [
    "Please refer to [What is tokenization in NLP?](https://www.analyticsvidhya.com/blog/2020/05/what-is-tokenization-nlp/)."
   ]
  },
  {
   "cell_type": "code",
   "execution_count": 51,
   "id": "9c1d393e-e85d-48f8-93f2-d7dfec6a2062",
   "metadata": {},
   "outputs": [],
   "source": [
    "# Defining a function to tokenise a string\n",
    "def tokenise_string(input_line):\n",
    "    # Replace URLs with placeholders\n",
    "    url_pattern = r'http[s]?://(?:[a-zA-Z]|[0-9]|[$-_@.&+]|[!*\\\\(\\\\),]|(?:%[0-9a-fA-F][0-9a-fA-F]))+\\b'\n",
    "    placeholder = '<URL>'  # Choose a unique placeholder\n",
    "    urls = re.findall(url_pattern, input_line)\n",
    "    tokenised_line = re.sub(url_pattern, placeholder, input_line)  # Replace URLs with placeholders\n",
    "    \n",
    "    # Replace curly quotes with straight ones\n",
    "    tokenised_line = tokenised_line.replace('“', '\"').replace('”', '\"').replace(\"‘\", \"'\").replace(\"’\", \"'\")\n",
    "    # Separate common punctuation marks with spaces\n",
    "    tokenised_line = re.sub(r'([.\\!?,\"\\'/()])', r' \\1 ', tokenised_line)\n",
    "    # Add a space before '#'\n",
    "    tokenised_line = re.sub(r'(?<!\\s)#', r' #', tokenised_line)  # Add a space before '#' if it is not already preceded by one\n",
    "    # Reduce extra spaces by a single space\n",
    "    tokenised_line = re.sub(r'\\s+', ' ', tokenised_line)\n",
    "    \n",
    "    # Replace the placeholders with the respective URLs\n",
    "    for url in urls:\n",
    "        tokenised_line = tokenised_line.replace(placeholder, url, 1)\n",
    "    \n",
    "    return tokenised_line\n",
    "\n",
    "# Tokenising the strings\n",
    "df_tweets_filtered['text'] = df_tweets_filtered['text'].apply(tokenise_string)"
   ]
  },
  {
   "cell_type": "markdown",
   "id": "edad8cc4-bd36-4d7a-905e-55173081cd85",
   "metadata": {},
   "source": [
    "## Creating the files `file_index.txt` and `tweets.txt`"
   ]
  },
  {
   "cell_type": "markdown",
   "id": "d9a908ea-85cd-4ded-b752-2ce8ccee6f62",
   "metadata": {},
   "source": [
    "### Creating column `text_id`"
   ]
  },
  {
   "cell_type": "code",
   "execution_count": 52,
   "id": "e69b8a02-8d66-4227-838a-020f8e458225",
   "metadata": {},
   "outputs": [],
   "source": [
    "df_tweets_filtered['text_id'] = 't' + df_tweets_filtered.index.astype(str).str.zfill(6)"
   ]
  },
  {
   "cell_type": "markdown",
   "id": "b08ecbc7-802a-4546-b770-bd94372e58f7",
   "metadata": {},
   "source": [
    "### Creating column `conversation`"
   ]
  },
  {
   "cell_type": "code",
   "execution_count": 53,
   "id": "2ad070c7-3caf-4eb8-8dfe-eba469fe0ed2",
   "metadata": {},
   "outputs": [],
   "source": [
    "df_tweets_filtered['conversation'] = 'v:' + df_tweets_filtered['author_id'].str.replace('id_', '')"
   ]
  },
  {
   "cell_type": "markdown",
   "id": "b85be5b3-f3ec-4061-a9c7-6d29591a8efd",
   "metadata": {},
   "source": [
    "### Creating column `date`"
   ]
  },
  {
   "cell_type": "code",
   "execution_count": 54,
   "id": "dc30acc9-8d7d-41ef-9e33-2367d4c1462e",
   "metadata": {},
   "outputs": [],
   "source": [
    "# Convert 'created_at' to datetime format\n",
    "df_tweets_filtered['created_at'] = pd.to_datetime(df_tweets_filtered['created_at'])\n",
    "\n",
    "# Extract the date part (without time) into a new column 'date'\n",
    "df_tweets_filtered['date'] = df_tweets_filtered['created_at'].dt.date\n",
    "\n",
    "# Add the prefix 'd:' to the 'date' values\n",
    "df_tweets_filtered['date'] = 'd:' + df_tweets_filtered['date'].astype(str)"
   ]
  },
  {
   "cell_type": "markdown",
   "id": "1067eec7-aedb-4bba-8241-5d5d000f6226",
   "metadata": {},
   "source": [
    "### Creating column `text_url`"
   ]
  },
  {
   "cell_type": "code",
   "execution_count": 55,
   "id": "6a5dec9e-0791-4b40-b59e-b46b62d400ec",
   "metadata": {},
   "outputs": [],
   "source": [
    "df_tweets_filtered['text_url'] = 'url:' + df_tweets_filtered['tweet_url']"
   ]
  },
  {
   "cell_type": "markdown",
   "id": "d27c35b3-69bc-4039-aa13-6b496f81c729",
   "metadata": {},
   "source": [
    "### Creating column `user`"
   ]
  },
  {
   "cell_type": "code",
   "execution_count": 56,
   "id": "5700d8af-3be8-4a60-bd3d-1ddf3df356ca",
   "metadata": {},
   "outputs": [],
   "source": [
    "df_tweets_filtered['user'] = 'u:' + df_tweets_filtered['username']"
   ]
  },
  {
   "cell_type": "markdown",
   "id": "ba1d2a83-b1a0-4db7-b9d3-e6d91202402c",
   "metadata": {},
   "source": [
    "### Creating column `content`"
   ]
  },
  {
   "cell_type": "code",
   "execution_count": 57,
   "id": "cd9313bd-6cbe-487c-a152-de678559260d",
   "metadata": {},
   "outputs": [],
   "source": [
    "df_tweets_filtered['content'] = 'c:' + df_tweets_filtered['text']"
   ]
  },
  {
   "cell_type": "markdown",
   "id": "d11872fa-2b44-4302-ab43-f98f64692eaf",
   "metadata": {},
   "source": [
    "### Reordering the created columns"
   ]
  },
  {
   "cell_type": "markdown",
   "id": "1538070e-1838-454f-a761-549e2bd5bc36",
   "metadata": {},
   "source": [
    "Please refer to:\n",
    "- [Python - List Comprehension 1](https://www.w3schools.com/python/python_lists_comprehension.asp)\n",
    "- [Python - List Comprehension 2](https://treyhunner.com/2015/12/python-list-comprehensions-now-in-color/)"
   ]
  },
  {
   "cell_type": "code",
   "execution_count": 58,
   "id": "afc325f4-43c7-4ba8-b10f-130974d8c191",
   "metadata": {},
   "outputs": [],
   "source": [
    "# Reorder the columns (we use list comprehension to create a list of all columns except 'text_id', 'variable', 'date' and 'text_url')\n",
    "df_tweets_filtered = df_tweets_filtered[['text_id', 'conversation', 'date', 'text_url', 'user', 'content'] + [col for col in df_tweets_filtered.columns if col not in ['text_id', 'conversation', 'date', 'text_url', 'user', 'content']]]"
   ]
  },
  {
   "cell_type": "code",
   "execution_count": 59,
   "id": "1217907f-187c-4d64-a97a-e7a9c607f6dc",
   "metadata": {},
   "outputs": [
    {
     "data": {
      "text/html": [
       "<div>\n",
       "<style scoped>\n",
       "    .dataframe tbody tr th:only-of-type {\n",
       "        vertical-align: middle;\n",
       "    }\n",
       "\n",
       "    .dataframe tbody tr th {\n",
       "        vertical-align: top;\n",
       "    }\n",
       "\n",
       "    .dataframe thead th {\n",
       "        text-align: right;\n",
       "    }\n",
       "</style>\n",
       "<table border=\"1\" class=\"dataframe\">\n",
       "  <thead>\n",
       "    <tr style=\"text-align: right;\">\n",
       "      <th></th>\n",
       "      <th>text_id</th>\n",
       "      <th>conversation</th>\n",
       "      <th>date</th>\n",
       "      <th>text_url</th>\n",
       "      <th>user</th>\n",
       "      <th>content</th>\n",
       "      <th>created_at</th>\n",
       "      <th>author_id</th>\n",
       "      <th>username</th>\n",
       "      <th>tweet_url</th>\n",
       "      <th>text</th>\n",
       "    </tr>\n",
       "  </thead>\n",
       "  <tbody>\n",
       "    <tr>\n",
       "      <th>0</th>\n",
       "      <td>t000000</td>\n",
       "      <td>v:287765295</td>\n",
       "      <td>d:2018-03-28</td>\n",
       "      <td>url:https://twitter.com/pelegrini65/status/979...</td>\n",
       "      <td>u:pelegrini65</td>\n",
       "      <td>c:Após caluniar , ameaçar , incitar as pessoas...</td>\n",
       "      <td>2018-03-28 15:31:51</td>\n",
       "      <td>id_287765295</td>\n",
       "      <td>pelegrini65</td>\n",
       "      <td>https://twitter.com/pelegrini65/status/9790182...</td>\n",
       "      <td>Após caluniar , ameaçar , incitar as pessoas c...</td>\n",
       "    </tr>\n",
       "    <tr>\n",
       "      <th>1</th>\n",
       "      <td>t000001</td>\n",
       "      <td>v:16794066</td>\n",
       "      <td>d:2018-03-30</td>\n",
       "      <td>url:https://twitter.com/BlogdoNoblat/status/97...</td>\n",
       "      <td>u:BlogdoNoblat</td>\n",
       "      <td>c:Bolsonaro deve saber o que está fazendo . Po...</td>\n",
       "      <td>2018-03-30 04:12:13</td>\n",
       "      <td>id_16794066</td>\n",
       "      <td>BlogdoNoblat</td>\n",
       "      <td>https://twitter.com/BlogdoNoblat/status/979571...</td>\n",
       "      <td>Bolsonaro deve saber o que está fazendo . Porq...</td>\n",
       "    </tr>\n",
       "    <tr>\n",
       "      <th>2</th>\n",
       "      <td>t000002</td>\n",
       "      <td>v:955901617148235776</td>\n",
       "      <td>d:2018-03-30</td>\n",
       "      <td>url:https://twitter.com/MariaOl25529153/status...</td>\n",
       "      <td>u:MariaOl25529153</td>\n",
       "      <td>c:@FlavioBolsonaro Mais um Romário na política...</td>\n",
       "      <td>2018-03-30 10:16:00</td>\n",
       "      <td>id_955901617148235776</td>\n",
       "      <td>MariaOl25529153</td>\n",
       "      <td>https://twitter.com/MariaOl25529153/status/979...</td>\n",
       "      <td>@FlavioBolsonaro Mais um Romário na política ,...</td>\n",
       "    </tr>\n",
       "    <tr>\n",
       "      <th>3</th>\n",
       "      <td>t000003</td>\n",
       "      <td>v:44449830</td>\n",
       "      <td>d:2018-03-28</td>\n",
       "      <td>url:https://twitter.com/lucianagenro/status/97...</td>\n",
       "      <td>u:lucianagenro</td>\n",
       "      <td>c:A esquerda não tem conseguido comunicar suas...</td>\n",
       "      <td>2018-03-28 18:29:28</td>\n",
       "      <td>id_44449830</td>\n",
       "      <td>lucianagenro</td>\n",
       "      <td>https://twitter.com/lucianagenro/status/979062...</td>\n",
       "      <td>A esquerda não tem conseguido comunicar suas p...</td>\n",
       "    </tr>\n",
       "    <tr>\n",
       "      <th>4</th>\n",
       "      <td>t000004</td>\n",
       "      <td>v:912132396</td>\n",
       "      <td>d:2018-03-30</td>\n",
       "      <td>url:https://twitter.com/rocoguima/status/97965...</td>\n",
       "      <td>u:rocoguima</td>\n",
       "      <td>c:RT @AurystellaS: @BlogdoNoblat Vc sabe infor...</td>\n",
       "      <td>2018-03-30 09:57:48</td>\n",
       "      <td>id_912132396</td>\n",
       "      <td>rocoguima</td>\n",
       "      <td>https://twitter.com/rocoguima/status/979658943...</td>\n",
       "      <td>RT @AurystellaS: @BlogdoNoblat Vc sabe informa...</td>\n",
       "    </tr>\n",
       "    <tr>\n",
       "      <th>...</th>\n",
       "      <td>...</td>\n",
       "      <td>...</td>\n",
       "      <td>...</td>\n",
       "      <td>...</td>\n",
       "      <td>...</td>\n",
       "      <td>...</td>\n",
       "      <td>...</td>\n",
       "      <td>...</td>\n",
       "      <td>...</td>\n",
       "      <td>...</td>\n",
       "      <td>...</td>\n",
       "    </tr>\n",
       "    <tr>\n",
       "      <th>20596</th>\n",
       "      <td>t020596</td>\n",
       "      <td>v:1547227306913153026</td>\n",
       "      <td>d:2023-04-29</td>\n",
       "      <td>url:https://twitter.com/LuccaSo44679209/status...</td>\n",
       "      <td>u:LuccaSo44679209</td>\n",
       "      <td>c:RT @LuccaSo44679209: @CiresCanisio Não , o L...</td>\n",
       "      <td>2023-04-29 19:19:35</td>\n",
       "      <td>id_1547227306913153026</td>\n",
       "      <td>LuccaSo44679209</td>\n",
       "      <td>https://twitter.com/LuccaSo44679209/status/165...</td>\n",
       "      <td>RT @LuccaSo44679209: @CiresCanisio Não , o Lul...</td>\n",
       "    </tr>\n",
       "    <tr>\n",
       "      <th>20597</th>\n",
       "      <td>t020597</td>\n",
       "      <td>v:1547227306913153026</td>\n",
       "      <td>d:2023-04-29</td>\n",
       "      <td>url:https://twitter.com/LuccaSo44679209/status...</td>\n",
       "      <td>u:LuccaSo44679209</td>\n",
       "      <td>c:@CiresCanisio Não , o Lula não da uma refina...</td>\n",
       "      <td>2023-04-29 19:19:18</td>\n",
       "      <td>id_1547227306913153026</td>\n",
       "      <td>LuccaSo44679209</td>\n",
       "      <td>https://twitter.com/LuccaSo44679209/status/165...</td>\n",
       "      <td>@CiresCanisio Não , o Lula não da uma refinari...</td>\n",
       "    </tr>\n",
       "    <tr>\n",
       "      <th>20598</th>\n",
       "      <td>t020598</td>\n",
       "      <td>v:1554492869825683457</td>\n",
       "      <td>d:2023-04-29</td>\n",
       "      <td>url:https://twitter.com/Andre19lll/status/1652...</td>\n",
       "      <td>u:Andre19lll</td>\n",
       "      <td>c:@eunaovoupararde @CarlosZarattini Os índices...</td>\n",
       "      <td>2023-04-29 19:19:14</td>\n",
       "      <td>id_1554492869825683457</td>\n",
       "      <td>Andre19lll</td>\n",
       "      <td>https://twitter.com/Andre19lll/status/16523085...</td>\n",
       "      <td>@eunaovoupararde @CarlosZarattini Os índices d...</td>\n",
       "    </tr>\n",
       "    <tr>\n",
       "      <th>20599</th>\n",
       "      <td>t020599</td>\n",
       "      <td>v:1585200142440882179</td>\n",
       "      <td>d:2023-04-29</td>\n",
       "      <td>url:https://twitter.com/priscila19865/status/1...</td>\n",
       "      <td>u:priscila19865</td>\n",
       "      <td>c:@ValS265451870 @Guthbsb @marcia_miami Tá err...</td>\n",
       "      <td>2023-04-29 19:18:59</td>\n",
       "      <td>id_1585200142440882179</td>\n",
       "      <td>priscila19865</td>\n",
       "      <td>https://twitter.com/priscila19865/status/16518...</td>\n",
       "      <td>@ValS265451870 @Guthbsb @marcia_miami Tá errad...</td>\n",
       "    </tr>\n",
       "    <tr>\n",
       "      <th>20600</th>\n",
       "      <td>t020600</td>\n",
       "      <td>v:1236078194878541824</td>\n",
       "      <td>d:2023-04-29</td>\n",
       "      <td>url:https://twitter.com/JDB33858086/status/165...</td>\n",
       "      <td>u:JDB33858086</td>\n",
       "      <td>c:@Joovito81551003 @odilabueno1 @ORenanxD @Sen...</td>\n",
       "      <td>2023-04-29 19:18:25</td>\n",
       "      <td>id_1236078194878541824</td>\n",
       "      <td>JDB33858086</td>\n",
       "      <td>https://twitter.com/JDB33858086/status/1651912...</td>\n",
       "      <td>@Joovito81551003 @odilabueno1 @ORenanxD @Senso...</td>\n",
       "    </tr>\n",
       "  </tbody>\n",
       "</table>\n",
       "<p>20601 rows × 11 columns</p>\n",
       "</div>"
      ],
      "text/plain": [
       "       text_id           conversation          date  \\\n",
       "0      t000000            v:287765295  d:2018-03-28   \n",
       "1      t000001             v:16794066  d:2018-03-30   \n",
       "2      t000002   v:955901617148235776  d:2018-03-30   \n",
       "3      t000003             v:44449830  d:2018-03-28   \n",
       "4      t000004            v:912132396  d:2018-03-30   \n",
       "...        ...                    ...           ...   \n",
       "20596  t020596  v:1547227306913153026  d:2023-04-29   \n",
       "20597  t020597  v:1547227306913153026  d:2023-04-29   \n",
       "20598  t020598  v:1554492869825683457  d:2023-04-29   \n",
       "20599  t020599  v:1585200142440882179  d:2023-04-29   \n",
       "20600  t020600  v:1236078194878541824  d:2023-04-29   \n",
       "\n",
       "                                                text_url               user  \\\n",
       "0      url:https://twitter.com/pelegrini65/status/979...      u:pelegrini65   \n",
       "1      url:https://twitter.com/BlogdoNoblat/status/97...     u:BlogdoNoblat   \n",
       "2      url:https://twitter.com/MariaOl25529153/status...  u:MariaOl25529153   \n",
       "3      url:https://twitter.com/lucianagenro/status/97...     u:lucianagenro   \n",
       "4      url:https://twitter.com/rocoguima/status/97965...        u:rocoguima   \n",
       "...                                                  ...                ...   \n",
       "20596  url:https://twitter.com/LuccaSo44679209/status...  u:LuccaSo44679209   \n",
       "20597  url:https://twitter.com/LuccaSo44679209/status...  u:LuccaSo44679209   \n",
       "20598  url:https://twitter.com/Andre19lll/status/1652...       u:Andre19lll   \n",
       "20599  url:https://twitter.com/priscila19865/status/1...    u:priscila19865   \n",
       "20600  url:https://twitter.com/JDB33858086/status/165...      u:JDB33858086   \n",
       "\n",
       "                                                 content          created_at  \\\n",
       "0      c:Após caluniar , ameaçar , incitar as pessoas... 2018-03-28 15:31:51   \n",
       "1      c:Bolsonaro deve saber o que está fazendo . Po... 2018-03-30 04:12:13   \n",
       "2      c:@FlavioBolsonaro Mais um Romário na política... 2018-03-30 10:16:00   \n",
       "3      c:A esquerda não tem conseguido comunicar suas... 2018-03-28 18:29:28   \n",
       "4      c:RT @AurystellaS: @BlogdoNoblat Vc sabe infor... 2018-03-30 09:57:48   \n",
       "...                                                  ...                 ...   \n",
       "20596  c:RT @LuccaSo44679209: @CiresCanisio Não , o L... 2023-04-29 19:19:35   \n",
       "20597  c:@CiresCanisio Não , o Lula não da uma refina... 2023-04-29 19:19:18   \n",
       "20598  c:@eunaovoupararde @CarlosZarattini Os índices... 2023-04-29 19:19:14   \n",
       "20599  c:@ValS265451870 @Guthbsb @marcia_miami Tá err... 2023-04-29 19:18:59   \n",
       "20600  c:@Joovito81551003 @odilabueno1 @ORenanxD @Sen... 2023-04-29 19:18:25   \n",
       "\n",
       "                    author_id         username  \\\n",
       "0                id_287765295      pelegrini65   \n",
       "1                 id_16794066     BlogdoNoblat   \n",
       "2       id_955901617148235776  MariaOl25529153   \n",
       "3                 id_44449830     lucianagenro   \n",
       "4                id_912132396        rocoguima   \n",
       "...                       ...              ...   \n",
       "20596  id_1547227306913153026  LuccaSo44679209   \n",
       "20597  id_1547227306913153026  LuccaSo44679209   \n",
       "20598  id_1554492869825683457       Andre19lll   \n",
       "20599  id_1585200142440882179    priscila19865   \n",
       "20600  id_1236078194878541824      JDB33858086   \n",
       "\n",
       "                                               tweet_url  \\\n",
       "0      https://twitter.com/pelegrini65/status/9790182...   \n",
       "1      https://twitter.com/BlogdoNoblat/status/979571...   \n",
       "2      https://twitter.com/MariaOl25529153/status/979...   \n",
       "3      https://twitter.com/lucianagenro/status/979062...   \n",
       "4      https://twitter.com/rocoguima/status/979658943...   \n",
       "...                                                  ...   \n",
       "20596  https://twitter.com/LuccaSo44679209/status/165...   \n",
       "20597  https://twitter.com/LuccaSo44679209/status/165...   \n",
       "20598  https://twitter.com/Andre19lll/status/16523085...   \n",
       "20599  https://twitter.com/priscila19865/status/16518...   \n",
       "20600  https://twitter.com/JDB33858086/status/1651912...   \n",
       "\n",
       "                                                    text  \n",
       "0      Após caluniar , ameaçar , incitar as pessoas c...  \n",
       "1      Bolsonaro deve saber o que está fazendo . Porq...  \n",
       "2      @FlavioBolsonaro Mais um Romário na política ,...  \n",
       "3      A esquerda não tem conseguido comunicar suas p...  \n",
       "4      RT @AurystellaS: @BlogdoNoblat Vc sabe informa...  \n",
       "...                                                  ...  \n",
       "20596  RT @LuccaSo44679209: @CiresCanisio Não , o Lul...  \n",
       "20597  @CiresCanisio Não , o Lula não da uma refinari...  \n",
       "20598  @eunaovoupararde @CarlosZarattini Os índices d...  \n",
       "20599  @ValS265451870 @Guthbsb @marcia_miami Tá errad...  \n",
       "20600  @Joovito81551003 @odilabueno1 @ORenanxD @Senso...  \n",
       "\n",
       "[20601 rows x 11 columns]"
      ]
     },
     "execution_count": 59,
     "metadata": {},
     "output_type": "execute_result"
    }
   ],
   "source": [
    "df_tweets_filtered"
   ]
  },
  {
   "cell_type": "markdown",
   "id": "921f23e3-bc12-4150-8bf1-557184b40d1b",
   "metadata": {},
   "source": [
    "### Creating the file `file_index.txt`"
   ]
  },
  {
   "cell_type": "code",
   "execution_count": 60,
   "id": "199bbbe5-a366-4fde-9314-f0de3d49c379",
   "metadata": {},
   "outputs": [],
   "source": [
    "df_tweets_filtered[['text_id', 'conversation', 'date', 'text_url']].to_csv('file_index.txt', sep=' ', index=False, header=False, encoding='utf-8', lineterminator='\\n')"
   ]
  },
  {
   "cell_type": "markdown",
   "id": "fd415c21-39dc-4083-9632-e5cd92fa6948",
   "metadata": {},
   "source": [
    "### Creating the file `tweets.txt`"
   ]
  },
  {
   "cell_type": "code",
   "execution_count": 61,
   "id": "5445fc96-0b9f-4283-80b3-09b1bddeab91",
   "metadata": {},
   "outputs": [
    {
     "name": "stdout",
     "output_type": "stream",
     "text": [
      "Folder tweets created!\n"
     ]
    }
   ],
   "source": [
    "folder = 'tweets'\n",
    "try:\n",
    "    os.mkdir(folder)\n",
    "    print(f'Folder {folder} created!')\n",
    "except FileExistsError:\n",
    "    print(f'Folder {folder} already exists')"
   ]
  },
  {
   "cell_type": "markdown",
   "id": "8de49e26-5efe-472f-9952-cef41fcda082",
   "metadata": {},
   "source": [
    "Note: The parameters `doublequote=False` and `escapechar=' '` are required to avoid that the column content is doublequoted with '\"' in sentences that use characters that need to be escaped such as double quote '\"' itself - this causes a malformed response from TreeTagger."
   ]
  },
  {
   "cell_type": "code",
   "execution_count": 62,
   "id": "3b566e03-56e4-44a8-8558-b6e940bb6193",
   "metadata": {},
   "outputs": [],
   "source": [
    "df_tweets_filtered[['text_id', 'conversation', 'date', 'user', 'content']].to_csv(f'{folder}/tweets.txt', sep='|', index=False, header=False, encoding='utf-8', lineterminator='\\n', doublequote=False, escapechar=' ')"
   ]
  },
  {
   "cell_type": "markdown",
   "id": "2f769843-4ff9-4436-a2e0-d61e2c391e9d",
   "metadata": {},
   "source": [
    "## Tagging with TreeTagger"
   ]
  },
  {
   "cell_type": "markdown",
   "id": "f3877be9-6317-42ee-8e8d-c15c48f77996",
   "metadata": {},
   "source": [
    "- On Visual Studio Code (VS Code), open the folder where your project is located with `Open Folder...`\n",
    "- Open a WSL Ubuntu Terminal on VS Code\n",
    "- **Important**: Activate the `my_env` Python environment by executing `source \"$HOME\"/my_env/bin/activate`\n",
    "- Proceed as indicated"
   ]
  },
  {
   "cell_type": "markdown",
   "id": "720724ab-5e77-4e9e-b05a-24cf73259cd0",
   "metadata": {},
   "source": [
    "Purpose: Annotate the texts in `tweets/tweets.txt` with part-of-speech and lemma information.\n",
    "- Input\n",
    "    - `file_index.txt`\n",
    "    - `tweets/tweets.txt`\n",
    "- Output\n",
    "    - `tweets/tagged.txt`"
   ]
  },
  {
   "cell_type": "markdown",
   "id": "9005cc09-f5ef-454f-9b74-4d7ca9fe4f10",
   "metadata": {
    "vscode": {
     "languageId": "raw"
    }
   },
   "source": [
    "```\n",
    "eyamrog@Rog-ASUS:/mnt/c/Users/eyamr/Downloads$ source \"$HOME\"/my_env/bin/activate\n",
    "(my_env) eyamrog@Rog-ASUS:/mnt/c/Users/eyamr/Downloads$ bash treetagging.sh\n",
    "--- treetagging t000000 / t018205 ---\n",
    "        reading parameters ...\n",
    "        tagging ...\n",
    "         finished.\n",
    "--- treetagging t000001 / t018205 ---\n",
    "        reading parameters ...\n",
    "        tagging ...\n",
    "         finished.\n",
    "--- treetagging t000002 / t018205 ---\n",
    "        reading parameters ...\n",
    "        tagging ...\n",
    "         finished.\n",
    "--- treetagging t000003 / t018205 ---\n",
    "        reading parameters ...\n",
    "        tagging ...\n",
    "         finished.\n",
    "<omitted>\n",
    "```"
   ]
  },
  {
   "cell_type": "markdown",
   "id": "71cd8318-f880-49d8-8f24-eb8db0435489",
   "metadata": {},
   "source": [
    "## Processing `CL_St1_Ph11_Querem.ipynb`"
   ]
  },
  {
   "cell_type": "markdown",
   "id": "dad236d6-1810-417c-a15f-eb27709bab68",
   "metadata": {},
   "source": [
    "Run the solution `CL_St1_Ph11_Querem.ipynb`"
   ]
  },
  {
   "cell_type": "markdown",
   "id": "fa0060ba-d01c-4e48-a353-8c9ba0fc456e",
   "metadata": {},
   "source": [
    "## Processing `tokenstypes`"
   ]
  },
  {
   "cell_type": "markdown",
   "id": "93351bf2-3457-4b47-8a47-7ff13c4e0e1a",
   "metadata": {},
   "source": [
    "Purpose: Capture the content tokens (specific occurrences of words) and the content types (general concept of words) from `tweets/tagged.txt`.\n",
    "- Input\n",
    "    - `file_index.txt`\n",
    "    - `tweets/tagged.txt`\n",
    "- Output\n",
    "    - `tweets/tokens.txt`\n",
    "    - `tweets/types.txt`"
   ]
  },
  {
   "cell_type": "markdown",
   "id": "6cddc717-8ff2-4f38-ae10-8d6616de6a6c",
   "metadata": {
    "vscode": {
     "languageId": "raw"
    }
   },
   "source": [
    "```\n",
    "eyamrog@Rog-ASUS:/mnt/c/Users/eyamr/Downloads$ source \"$HOME\"/my_env/bin/activate\n",
    "(my_env) eyamrog@Rog-ASUS:/mnt/c/Users/eyamr/Downloads$ bash tokenstypes.sh\n",
    "--- tokenstypes t000000 / 18206 ---\n",
    "--- tokenstypes t000001 / 18206 ---\n",
    "--- tokenstypes t000002 / 18206 ---\n",
    "--- tokenstypes t000003 / 18206 ---\n",
    "--- tokenstypes t000004 / 18206 ---\n",
    "--- tokenstypes t000005 / 18206 ---\n",
    "<omitted>\n",
    "```"
   ]
  },
  {
   "cell_type": "markdown",
   "id": "ef598329-fb5a-4b07-8799-b2bbb55847f1",
   "metadata": {},
   "source": [
    "## Processing `toplemmas`"
   ]
  },
  {
   "cell_type": "markdown",
   "id": "79ce5796-0434-44d5-88e2-8f934a6cebc8",
   "metadata": {},
   "source": [
    "Purpose: Determine the 1.000 top lemmas. **Important**: This process requires manual inspection. Non-meaningful lemmas should be excluded by updating `stoplist.sed` and reiterating the processing.\n",
    "- Input\n",
    "    - `tweets/types.txt`\n",
    "    - `stoplist.sed`: List of rules that allows the exclusion of a certain lemmas\n",
    "- Output\n",
    "    - `selectedwords` = `var_index.txt`"
   ]
  },
  {
   "cell_type": "markdown",
   "id": "13b0fc8e-73e2-4e2d-9e2f-73068e4132fc",
   "metadata": {
    "vscode": {
     "languageId": "raw"
    }
   },
   "source": [
    "```\n",
    "eyamrog@Rog-ASUS:/mnt/c/Users/eyamr/Downloads$ source \"$HOME\"/my_env/bin/activate\n",
    "(my_env) eyamrog@Rog-ASUS:/mnt/c/Users/eyamr/Downloads$ bash toplemmas.sh\n",
    "```"
   ]
  },
  {
   "cell_type": "markdown",
   "id": "eb0a4675-5067-4e8b-8ca8-baf9f1b915c1",
   "metadata": {},
   "source": [
    "## Processing `sas`"
   ]
  },
  {
   "cell_type": "markdown",
   "id": "b0d158b2-73d7-477e-a7a7-2b87216a19ae",
   "metadata": {},
   "source": [
    "Purpose: Prepare input data for processing in SAS.\n",
    "- Input\n",
    "    - `tweets/types.txt`\n",
    "    - `selectedwords`\n",
    "    - `file_index.txt`\n",
    "- Output\n",
    "    - `columns`\n",
    "    - `sas/data.txt`\n",
    "    - `sas/dates.txt`\n",
    "    - `sas/wcount.txt`"
   ]
  },
  {
   "cell_type": "markdown",
   "id": "0d250d29-861c-41a6-9793-e0df758100e0",
   "metadata": {
    "vscode": {
     "languageId": "raw"
    }
   },
   "source": [
    "```\n",
    "eyamrog@Rog-ASUS:/mnt/c/Users/eyamr/Downloads$ source \"$HOME\"/my_env/bin/activate\n",
    "(my_env) eyamrog@Rog-ASUS:/mnt/c/Users/eyamr/Downloads$ bash sas.sh\n",
    "--- v000001 ---\n",
    "--- v000002 ---\n",
    "--- v000003 ---\n",
    "--- v000004 ---\n",
    "--- v000005 ---\n",
    "<omitted>\n",
    "--- v001000 ---\n",
    "[nltk_data] Downloading package punkt to /home/eyamrog/nltk_data...\n",
    "[nltk_data]   Package punkt is already up-to-date!\n",
    "Word counts written to sas/wcount.txt\n",
    "```"
   ]
  },
  {
   "cell_type": "markdown",
   "id": "0e8087ea-ffd4-43b9-8eda-4444b931c319",
   "metadata": {},
   "source": [
    "## Processing `datamatrix`"
   ]
  },
  {
   "cell_type": "markdown",
   "id": "b4374f48-04b6-48af-a31d-125ef0e85972",
   "metadata": {},
   "source": [
    "Purpose: Prepares input data for calculating the correlation matrix.\n",
    "- Input\n",
    "    - `file_index.txt`\n",
    "    - `columns`\n",
    "    - `selectedwords`\n",
    "- Output\n",
    "    - `file_ids.txt`\n",
    "    - `data.csv`"
   ]
  },
  {
   "cell_type": "markdown",
   "id": "23925f09-05ef-44a5-ba48-78cac1dedc76",
   "metadata": {
    "vscode": {
     "languageId": "raw"
    }
   },
   "source": [
    "```\n",
    "eyamrog@Rog-ASUS:/mnt/c/Users/eyamr/Downloads$ source \"$HOME\"/my_env/bin/activate\n",
    "(my_env) eyamrog@Rog-ASUS:/mnt/c/Users/eyamr/Downloads$ bash datamatrix.sh\n",
    "--- v000001 ---\n",
    "--- v000002 ---\n",
    "--- v000003 ---\n",
    "--- v000004 ---\n",
    "--- v000005 ---\n",
    "<omitted>\n",
    "--- v001000 ---\n",
    "--- data.csv ...---\n",
    "```"
   ]
  },
  {
   "cell_type": "markdown",
   "id": "6130e8f0-a7e5-4f6e-b427-090f7cda4856",
   "metadata": {},
   "source": [
    "## Processing `correlationmatrix`"
   ]
  },
  {
   "cell_type": "markdown",
   "id": "8bddbb87-b4de-4c41-8177-b2f677d803b6",
   "metadata": {},
   "source": [
    "Purpose: Calculates the correlation matrix.\n",
    "- Input\n",
    "    - `data.csv`\n",
    "- Output\n",
    "    - `correlation`"
   ]
  },
  {
   "cell_type": "markdown",
   "id": "42927846-5d87-4f5f-8ce6-8beb4ef733a4",
   "metadata": {
    "vscode": {
     "languageId": "raw"
    }
   },
   "source": [
    "```\n",
    "eyamrog@Rog-ASUS:/mnt/c/Users/eyamr/Downloads$ source \"$HOME\"/my_env/bin/activate\n",
    "(my_env) eyamrog@Rog-ASUS:/mnt/c/Users/eyamr/Downloads$ bash correlationmatrix.sh\n",
    "--- python correlation ... ---\n",
    "```"
   ]
  },
  {
   "cell_type": "markdown",
   "id": "86e9203f-e9e1-4a73-8bed-7dec1ad8617e",
   "metadata": {},
   "source": [
    "## Processing `formats`"
   ]
  },
  {
   "cell_type": "markdown",
   "id": "69517100-c28d-44ba-90a7-37988e3df8ad",
   "metadata": {},
   "source": [
    "Purpose: Prepare input data for processing in SAS.\n",
    "- Input\n",
    "    - `data.csv`\n",
    "    - `selectedwords`\n",
    "- Output\n",
    "    - `sas/corr.txt`\n",
    "    - `sas/word_labels_format.sas`"
   ]
  },
  {
   "cell_type": "markdown",
   "id": "96f9b02f-fd33-4ff2-bf57-463fac9743e6",
   "metadata": {
    "vscode": {
     "languageId": "raw"
    }
   },
   "source": [
    "```\n",
    "eyamrog@Rog-ASUS:/mnt/c/Users/eyamr/Downloads$ source \"$HOME\"/my_env/bin/activate\n",
    "(my_env) eyamrog@Rog-ASUS:/mnt/c/Users/eyamr/Downloads$ bash formats.sh\n",
    "--- sas/sas/corr.txt ---\n",
    "--- sas/word_labels_format.sas ---\n",
    "```"
   ]
  },
  {
   "cell_type": "markdown",
   "id": "c322cbac-cd18-4420-a4b1-6bdcab8d880e",
   "metadata": {},
   "source": [
    "## Processing the statistical procedures on SAS"
   ]
  },
  {
   "cell_type": "markdown",
   "id": "f1e61189-3aa3-4d7a-b8f2-ca9e78465ddc",
   "metadata": {},
   "source": [
    "- Log in to your [SAS OnDemand for Academics](https://welcome.oda.sas.com/) account\n",
    "- Proceed as indicated in this [video tutorial](https://youtu.be/I3u9zD3jyOA?si=68uIKVc2iusGG2KY)"
   ]
  },
  {
   "cell_type": "markdown",
   "id": "4d656a17-6cc2-409a-8cc0-b500a11b2581",
   "metadata": {},
   "source": [
    "## Processing `examples`"
   ]
  },
  {
   "cell_type": "markdown",
   "id": "74fe92f1-8083-46d7-b31d-1c43c35fe488",
   "metadata": {},
   "source": [
    "Purpose: Extract examples for analysis.\n",
    "- Input\n",
    "    - `sas/output_\"$project\"/loadtable.html`\n",
    "    - `sas/output_\"$project\"/\"$project\"_scores.tsv`\n",
    "    - `sas/output_\"$project\"/\"$project\"_scores_only.tsv`\n",
    "- Output\n",
    "    - `examples/factors`\n",
    "    - `example files`"
   ]
  },
  {
   "cell_type": "markdown",
   "id": "530850e1-a9ba-43f8-b542-ad5a0e3a4534",
   "metadata": {
    "vscode": {
     "languageId": "raw"
    }
   },
   "source": [
    "```\n",
    "(my_env) eyamrog@Rog-ASUS:/mnt/c/Users/eyamr/Downloads$ bash examples.sh\n",
    "6780\n",
    "1246\n",
    "698\n",
    "123\n",
    "--- examples f1pos ---\n",
    "--- factor 1 pos # 000001 ---\n",
    "tr: warning: an unescaped backslash at end of string is not portable\n",
    "--- factor 1 pos # 000002 ---\n",
    "tr: warning: an unescaped backslash at end of string is not portable\n",
    "--- factor 1 pos # 000003 ---\n",
    "tr: warning: an unescaped backslash at end of string is not portable\n",
    "--- factor 1 pos # 000004 ---\n",
    "tr: warning: an unescaped backslash at end of string is not portable\n",
    "--- factor 1 pos # 000005 ---\n",
    "tr: warning: an unescaped backslash at end of string is not portable\n",
    "<ommitted>\n",
    "```"
   ]
  },
  {
   "cell_type": "markdown",
   "id": "cd38617b-0487-4ba2-b619-d9b78aba9f2c",
   "metadata": {},
   "source": [
    "## Results"
   ]
  },
  {
   "cell_type": "markdown",
   "id": "cf501e4a-1193-4999-bdc0-88c08d2840f7",
   "metadata": {},
   "source": [
    "Right-click on the link and choose `Open link in a new tab` to download the corresponding file."
   ]
  },
  {
   "cell_type": "markdown",
   "id": "4e73ba45-9d6c-4578-b14e-c80c3ccaafe4",
   "metadata": {},
   "source": [
    "- [CL_St1_Querem_Results.zip](https://pucsp-my.sharepoint.com/:u:/g/personal/ra00341729_pucsp_edu_br/ERbP8OEqscBJlh4l6s6_UFgBTUGtnR6PDI1NXZwVBh6Dyg?e=W8YXpq)"
   ]
  },
  {
   "cell_type": "code",
   "execution_count": null,
   "id": "bb169464-4f29-4513-b272-46f201deff17",
   "metadata": {},
   "outputs": [],
   "source": []
  }
 ],
 "metadata": {
  "kernelspec": {
   "display_name": "Python 3 (ipykernel)",
   "language": "python",
   "name": "python3"
  },
  "language_info": {
   "codemirror_mode": {
    "name": "ipython",
    "version": 3
   },
   "file_extension": ".py",
   "mimetype": "text/x-python",
   "name": "python",
   "nbconvert_exporter": "python",
   "pygments_lexer": "ipython3",
   "version": "3.10.12"
  }
 },
 "nbformat": 4,
 "nbformat_minor": 5
}
