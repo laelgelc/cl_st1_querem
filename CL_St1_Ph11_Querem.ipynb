{
 "cells": [
  {
   "cell_type": "markdown",
   "id": "810d9f10-ec19-4b09-8f90-e983e460b319",
   "metadata": {},
   "source": [
    "<center>\n",
    "<img src=\"https://laelgelcpublic.s3.sa-east-1.amazonaws.com/lael_50_years_narrow_white.png.no_years.400px_96dpi.png\" width=\"300\" alt=\"LAEL 50 years logo\">\n",
    "<h3>APPLIED LINGUISTICS GRADUATE PROGRAMME (LAEL)</h3>\n",
    "</center>\n",
    "<hr>"
   ]
  },
  {
   "cell_type": "markdown",
   "id": "888c2c96-2fc3-4a1a-995b-c388036a2a15",
   "metadata": {},
   "source": [
    "# Corpus Linguistics - Study 1 - Phase 1_1 - Mariana"
   ]
  },
  {
   "cell_type": "markdown",
   "id": "efff8d8b-6456-4379-974e-d85ffe03bc6e",
   "metadata": {},
   "source": [
    "This solution responds to the requirement of adding the part-of-speech (POS) tag as a suffix to the lemmas determined by TreeTagger.\n",
    "\n",
    "It takes the file `tweets/tagged.txt` as input, performs the appropriate string transformations and returns `tweets/tagged2.txt` as output. Therefore, the solution should be executed after the execution of `treetagging.sh` is completed.\n",
    "\n",
    "Before moving on to running `tokenstypes.sh`, `tweets/tagged2.txt` should replace `tweets/tagged.txt` as shown below:\n",
    "\n",
    "```\n",
    "(my_env) eyamrog@Rog-ASUS:~/work/cl_st1_renata/tweets$ ll\n",
    "total 33172\n",
    "drwxr-xr-x 2 eyamrog eyamrog     4096 Sep 11 17:32 ./\n",
    "drwxr-xr-x 5 eyamrog eyamrog     4096 Sep 11 17:45 ../\n",
    "-rw-r--r-- 1 eyamrog eyamrog    89062 Sep 11 14:40 tagged.txt\n",
    "-rw-r--r-- 1 eyamrog eyamrog    99405 Sep 11 17:34 tagged2.txt\n",
    "-rw-r--r-- 1 eyamrog eyamrog 16842002 Sep 11 14:38 tweets.txt\n",
    "-rw-r--r-- 1 eyamrog eyamrog 16924433 Sep 11 14:20 tweets_ori.txt\n",
    "(my_env) eyamrog@Rog-ASUS:~/work/cl_st1_renata/tweets$ mv tagged.txt tagged_ori.txt\n",
    "(my_env) eyamrog@Rog-ASUS:~/work/cl_st1_renata/tweets$ mv tagged2.txt tagged.txt\n",
    "(my_env) eyamrog@Rog-ASUS:~/work/cl_st1_renata/tweets$ ll\n",
    "total 33172\n",
    "drwxr-xr-x 2 eyamrog eyamrog     4096 Sep 11 17:46 ./\n",
    "drwxr-xr-x 5 eyamrog eyamrog     4096 Sep 11 17:45 ../\n",
    "-rw-r--r-- 1 eyamrog eyamrog    99405 Sep 11 17:34 tagged.txt\n",
    "-rw-r--r-- 1 eyamrog eyamrog    89062 Sep 11 14:40 tagged_ori.txt\n",
    "-rw-r--r-- 1 eyamrog eyamrog 16842002 Sep 11 14:38 tweets.txt\n",
    "-rw-r--r-- 1 eyamrog eyamrog 16924433 Sep 11 14:20 tweets_ori.txt\n",
    "(my_env) eyamrog@Rog-ASUS:~/work/cl_st1_renata/tweets$ \n",
    "```"
   ]
  },
  {
   "cell_type": "markdown",
   "id": "d81a22bd-0059-4578-bfc6-29ecef3d2a6d",
   "metadata": {},
   "source": [
    "## Importing the required libraries"
   ]
  },
  {
   "cell_type": "code",
   "execution_count": 1,
   "id": "80dde47b-60e9-4001-9587-cac5fac2cdfe",
   "metadata": {},
   "outputs": [],
   "source": [
    "import pandas as pd\n",
    "import re"
   ]
  },
  {
   "cell_type": "markdown",
   "id": "b301ddf9-3758-42ba-9a6f-c1dd316ded08",
   "metadata": {},
   "source": [
    "## Importing `tweets/tagged.txt` into a DataFrame"
   ]
  },
  {
   "cell_type": "code",
   "execution_count": 2,
   "id": "9667e92f-5454-43fa-9d0c-2f5a77bf86c5",
   "metadata": {},
   "outputs": [],
   "source": [
    "df = pd.read_csv('tweets/tagged.txt', sep='|', names=['text_id', 'conversation', 'date', 'user', 'content'])"
   ]
  },
  {
   "cell_type": "code",
   "execution_count": 3,
   "id": "27649345-825e-4012-82e6-6f845de163ef",
   "metadata": {},
   "outputs": [
    {
     "data": {
      "text/html": [
       "<div>\n",
       "<style scoped>\n",
       "    .dataframe tbody tr th:only-of-type {\n",
       "        vertical-align: middle;\n",
       "    }\n",
       "\n",
       "    .dataframe tbody tr th {\n",
       "        vertical-align: top;\n",
       "    }\n",
       "\n",
       "    .dataframe thead th {\n",
       "        text-align: right;\n",
       "    }\n",
       "</style>\n",
       "<table border=\"1\" class=\"dataframe\">\n",
       "  <thead>\n",
       "    <tr style=\"text-align: right;\">\n",
       "      <th></th>\n",
       "      <th>text_id</th>\n",
       "      <th>conversation</th>\n",
       "      <th>date</th>\n",
       "      <th>user</th>\n",
       "      <th>content</th>\n",
       "    </tr>\n",
       "  </thead>\n",
       "  <tbody>\n",
       "    <tr>\n",
       "      <th>0</th>\n",
       "      <td>t000000</td>\n",
       "      <td>v:2316329808</td>\n",
       "      <td>d:2016-10-13</td>\n",
       "      <td>u:SrtaXiss</td>\n",
       "      <td>c:RT\\tPROPN.Masc.Sing\\trt~@BR_DeTodos200Mi\\tVE...</td>\n",
       "    </tr>\n",
       "    <tr>\n",
       "      <th>1</th>\n",
       "      <td>t000001</td>\n",
       "      <td>v:4876348647</td>\n",
       "      <td>d:2016-10-13</td>\n",
       "      <td>u:ins_ana_</td>\n",
       "      <td>c:RT\\tNOUN.Masc.Sing\\trt~@correio_dopovo\\tADJ....</td>\n",
       "    </tr>\n",
       "    <tr>\n",
       "      <th>2</th>\n",
       "      <td>t000002</td>\n",
       "      <td>v:2858025838</td>\n",
       "      <td>d:2016-10-25</td>\n",
       "      <td>u:ireneravachero3</td>\n",
       "      <td>c:E\\tCCONJ\\te~quanto\\tADV\\tquanto~a\\tDET.Fem.S...</td>\n",
       "    </tr>\n",
       "    <tr>\n",
       "      <th>3</th>\n",
       "      <td>t000003</td>\n",
       "      <td>v:457243275</td>\n",
       "      <td>d:2016-10-13</td>\n",
       "      <td>u:vitor_CRVG</td>\n",
       "      <td>c:@Estadao\\tNOUN.Masc.Sing\\ttwitterhandle~quer...</td>\n",
       "    </tr>\n",
       "    <tr>\n",
       "      <th>4</th>\n",
       "      <td>t000004</td>\n",
       "      <td>v:1944741320</td>\n",
       "      <td>d:2016-10-14</td>\n",
       "      <td>u:Camisa13doGalo</td>\n",
       "      <td>c:Rómulo\\tPROPN.Masc.Sing\\trómulo~Otero\\tPROPN...</td>\n",
       "    </tr>\n",
       "    <tr>\n",
       "      <th>...</th>\n",
       "      <td>...</td>\n",
       "      <td>...</td>\n",
       "      <td>...</td>\n",
       "      <td>...</td>\n",
       "      <td>...</td>\n",
       "    </tr>\n",
       "    <tr>\n",
       "      <th>19060</th>\n",
       "      <td>t019060</td>\n",
       "      <td>v:1506118493938270208</td>\n",
       "      <td>d:2022-09-20</td>\n",
       "      <td>u:Jmalvesdc</td>\n",
       "      <td>c:RT\\tPROPN.Masc.Sing\\trt~@BoicaIslene\\tVERB.F...</td>\n",
       "    </tr>\n",
       "    <tr>\n",
       "      <th>19061</th>\n",
       "      <td>t019061</td>\n",
       "      <td>v:2904143747</td>\n",
       "      <td>d:2022-09-05</td>\n",
       "      <td>u:cjcastro45</td>\n",
       "      <td>c:RT\\tPROPN.Masc.Sing\\trt~@Pattypschmidt\\tPROP...</td>\n",
       "    </tr>\n",
       "    <tr>\n",
       "      <th>19062</th>\n",
       "      <td>t019062</td>\n",
       "      <td>v:1547288191731900416</td>\n",
       "      <td>d:2022-09-11</td>\n",
       "      <td>u:LimaFucuta</td>\n",
       "      <td>c:@VEJA\\tVERB.Fin.Sing\\ttwitterhandle~Cruz\\tPR...</td>\n",
       "    </tr>\n",
       "    <tr>\n",
       "      <th>19063</th>\n",
       "      <td>t019063</td>\n",
       "      <td>v:123496655</td>\n",
       "      <td>d:2022-09-14</td>\n",
       "      <td>u:EMBRAC</td>\n",
       "      <td>c:RT\\tPROPN.Masc.Sing\\trt~@DiarioPE\\tVERB.Fin....</td>\n",
       "    </tr>\n",
       "    <tr>\n",
       "      <th>19064</th>\n",
       "      <td>t019064</td>\n",
       "      <td>v:1097873314314403840</td>\n",
       "      <td>d:2022-09-15</td>\n",
       "      <td>u:CanaldoRafinhaF</td>\n",
       "      <td>c:Venezuelana\\tADJ.Fem.Sing\\tvenezuelano~que\\t...</td>\n",
       "    </tr>\n",
       "  </tbody>\n",
       "</table>\n",
       "<p>19065 rows × 5 columns</p>\n",
       "</div>"
      ],
      "text/plain": [
       "       text_id           conversation          date               user  \\\n",
       "0      t000000           v:2316329808  d:2016-10-13         u:SrtaXiss   \n",
       "1      t000001           v:4876348647  d:2016-10-13         u:ins_ana_   \n",
       "2      t000002           v:2858025838  d:2016-10-25  u:ireneravachero3   \n",
       "3      t000003            v:457243275  d:2016-10-13       u:vitor_CRVG   \n",
       "4      t000004           v:1944741320  d:2016-10-14   u:Camisa13doGalo   \n",
       "...        ...                    ...           ...                ...   \n",
       "19060  t019060  v:1506118493938270208  d:2022-09-20        u:Jmalvesdc   \n",
       "19061  t019061           v:2904143747  d:2022-09-05       u:cjcastro45   \n",
       "19062  t019062  v:1547288191731900416  d:2022-09-11       u:LimaFucuta   \n",
       "19063  t019063            v:123496655  d:2022-09-14           u:EMBRAC   \n",
       "19064  t019064  v:1097873314314403840  d:2022-09-15  u:CanaldoRafinhaF   \n",
       "\n",
       "                                                 content  \n",
       "0      c:RT\\tPROPN.Masc.Sing\\trt~@BR_DeTodos200Mi\\tVE...  \n",
       "1      c:RT\\tNOUN.Masc.Sing\\trt~@correio_dopovo\\tADJ....  \n",
       "2      c:E\\tCCONJ\\te~quanto\\tADV\\tquanto~a\\tDET.Fem.S...  \n",
       "3      c:@Estadao\\tNOUN.Masc.Sing\\ttwitterhandle~quer...  \n",
       "4      c:Rómulo\\tPROPN.Masc.Sing\\trómulo~Otero\\tPROPN...  \n",
       "...                                                  ...  \n",
       "19060  c:RT\\tPROPN.Masc.Sing\\trt~@BoicaIslene\\tVERB.F...  \n",
       "19061  c:RT\\tPROPN.Masc.Sing\\trt~@Pattypschmidt\\tPROP...  \n",
       "19062  c:@VEJA\\tVERB.Fin.Sing\\ttwitterhandle~Cruz\\tPR...  \n",
       "19063  c:RT\\tPROPN.Masc.Sing\\trt~@DiarioPE\\tVERB.Fin....  \n",
       "19064  c:Venezuelana\\tADJ.Fem.Sing\\tvenezuelano~que\\t...  \n",
       "\n",
       "[19065 rows x 5 columns]"
      ]
     },
     "execution_count": 3,
     "metadata": {},
     "output_type": "execute_result"
    }
   ],
   "source": [
    "df"
   ]
  },
  {
   "cell_type": "code",
   "execution_count": 4,
   "id": "e582fe15-3b12-4966-9036-86460e0df513",
   "metadata": {},
   "outputs": [
    {
     "data": {
      "text/plain": [
       "text_id         object\n",
       "conversation    object\n",
       "date            object\n",
       "user            object\n",
       "content         object\n",
       "dtype: object"
      ]
     },
     "execution_count": 4,
     "metadata": {},
     "output_type": "execute_result"
    }
   ],
   "source": [
    "df.dtypes"
   ]
  },
  {
   "cell_type": "markdown",
   "id": "4b0d2cf7-8d76-40cc-a0fd-48859305cf1d",
   "metadata": {},
   "source": [
    "### Inspecting a few texts"
   ]
  },
  {
   "cell_type": "code",
   "execution_count": 5,
   "id": "a0197402-1e98-4f53-979d-e28fe0e5d1da",
   "metadata": {},
   "outputs": [
    {
     "data": {
      "text/plain": [
       "'c:RT\\tNOUN.Masc.Sing\\trt~@correio_dopovo\\tADJ.Masc.Sing\\ttwitterhandle~:\\tPUNCT.Colon\\t:~Roraima\\tPROPN.Masc.Sing\\troraima~prepara\\tVERB.Fin.Sing\\tpreparar~gabinete\\tNOUN.Masc.Sing\\tgabinete~de\\tADP\\tde~emergência\\tNOUN.Fem.Sing\\temergência~para\\tADP\\tpara~crise\\tNOUN.Fem.Sing\\tcrise~de\\tADP\\tde~refugiados\\tNOUN.Masc.Plur\\trefugiado~venezuelanos\\tADJ.Masc.Plur\\tvenezuelano'"
      ]
     },
     "execution_count": 5,
     "metadata": {},
     "output_type": "execute_result"
    }
   ],
   "source": [
    "df.loc[1, 'content']"
   ]
  },
  {
   "cell_type": "markdown",
   "id": "a1ab9e3e-5789-4850-94c5-325b95fa9ec1",
   "metadata": {},
   "source": [
    "## Appending a `~` character at the end of each string of the column `content`"
   ]
  },
  {
   "cell_type": "markdown",
   "id": "add4a4c6-5607-4c1e-9365-895b7b313652",
   "metadata": {},
   "source": [
    "The character `~` is required to allow for the detection of the string patterns to transform."
   ]
  },
  {
   "cell_type": "code",
   "execution_count": 6,
   "id": "ee9aac52-1c2a-4877-ac95-01491132d47f",
   "metadata": {},
   "outputs": [],
   "source": [
    "# Appending '~' to the end of each string in the 'content' column\n",
    "df['content'] = df['content'] + '~'"
   ]
  },
  {
   "cell_type": "markdown",
   "id": "bd906c1c-9345-4dfc-8370-ff37ac8bfe8a",
   "metadata": {},
   "source": [
    "### Inspecting a few texts"
   ]
  },
  {
   "cell_type": "code",
   "execution_count": 7,
   "id": "88873a09-d242-478f-bd74-7e8818e26b5e",
   "metadata": {},
   "outputs": [
    {
     "data": {
      "text/plain": [
       "'c:RT\\tNOUN.Masc.Sing\\trt~@correio_dopovo\\tADJ.Masc.Sing\\ttwitterhandle~:\\tPUNCT.Colon\\t:~Roraima\\tPROPN.Masc.Sing\\troraima~prepara\\tVERB.Fin.Sing\\tpreparar~gabinete\\tNOUN.Masc.Sing\\tgabinete~de\\tADP\\tde~emergência\\tNOUN.Fem.Sing\\temergência~para\\tADP\\tpara~crise\\tNOUN.Fem.Sing\\tcrise~de\\tADP\\tde~refugiados\\tNOUN.Masc.Plur\\trefugiado~venezuelanos\\tADJ.Masc.Plur\\tvenezuelano~'"
      ]
     },
     "execution_count": 7,
     "metadata": {},
     "output_type": "execute_result"
    }
   ],
   "source": [
    "df.loc[1, 'content']"
   ]
  },
  {
   "cell_type": "markdown",
   "id": "a9f972af-e54d-405e-9b7c-b775990ff721",
   "metadata": {},
   "source": [
    "## Defining a function to transform the tagged strings"
   ]
  },
  {
   "cell_type": "code",
   "execution_count": 8,
   "id": "15e46688-88b9-49bb-8ad5-3a165dadfb92",
   "metadata": {},
   "outputs": [],
   "source": [
    "def transform_tagged_string(tagged_string):\n",
    "    # Ensure the input is a string\n",
    "    tagged_string = str(tagged_string)\n",
    "    # Function to transform each substring\n",
    "    def transform_substring(match):\n",
    "        parts = match.group(1).split('\\t')\n",
    "        if parts[0] in ['HASHTAG', 'EMOJI']:\n",
    "            substring = f'{parts[0]}\\t{parts[1]}~'\n",
    "        else:\n",
    "            tag = parts[0].replace('.', '_') # Replacing any occurrence of '.' by '_' to ensure compliance with the next stage of processing\n",
    "            substring = f'{parts[0]}\\t{parts[1]}_{tag}~'\n",
    "        return substring\n",
    "    \n",
    "    # Regular expression to match each substring delimited by '~'\n",
    "    #pattern = r'(\\w+\\t\\w+)~'\n",
    "    pattern = r'([a-zA-Z0-9_.]+\\t\\w+)~'\n",
    "    \n",
    "    # Apply the transformation\n",
    "    transformed_string = re.sub(pattern, lambda match: transform_substring(match), tagged_string)\n",
    "    \n",
    "    return transformed_string"
   ]
  },
  {
   "cell_type": "markdown",
   "id": "442936de-1113-4e6a-9b54-260a89457af7",
   "metadata": {},
   "source": [
    "## Transforming the tagged strings"
   ]
  },
  {
   "cell_type": "code",
   "execution_count": 9,
   "id": "547b6739-f07e-4b18-87dc-d8a1ddb0b163",
   "metadata": {},
   "outputs": [],
   "source": [
    "# Transforming the tagged strings\n",
    "df['content'] = df['content'].apply(transform_tagged_string)"
   ]
  },
  {
   "cell_type": "markdown",
   "id": "8546c1c8-0dd9-4d1c-a3b9-b73e9b9a463f",
   "metadata": {},
   "source": [
    "### Inspecting a few texts"
   ]
  },
  {
   "cell_type": "code",
   "execution_count": 10,
   "id": "83358d63-1a81-4a04-a921-f39c0f56e8a7",
   "metadata": {},
   "outputs": [
    {
     "data": {
      "text/plain": [
       "'c:RT\\tNOUN.Masc.Sing\\trt_NOUN_Masc_Sing~@correio_dopovo\\tADJ.Masc.Sing\\ttwitterhandle_ADJ_Masc_Sing~:\\tPUNCT.Colon\\t:~Roraima\\tPROPN.Masc.Sing\\troraima_PROPN_Masc_Sing~prepara\\tVERB.Fin.Sing\\tpreparar_VERB_Fin_Sing~gabinete\\tNOUN.Masc.Sing\\tgabinete_NOUN_Masc_Sing~de\\tADP\\tde_ADP~emergência\\tNOUN.Fem.Sing\\temergência_NOUN_Fem_Sing~para\\tADP\\tpara_ADP~crise\\tNOUN.Fem.Sing\\tcrise_NOUN_Fem_Sing~de\\tADP\\tde_ADP~refugiados\\tNOUN.Masc.Plur\\trefugiado_NOUN_Masc_Plur~venezuelanos\\tADJ.Masc.Plur\\tvenezuelano_ADJ_Masc_Plur~'"
      ]
     },
     "execution_count": 10,
     "metadata": {},
     "output_type": "execute_result"
    }
   ],
   "source": [
    "df.loc[1, 'content']"
   ]
  },
  {
   "cell_type": "markdown",
   "id": "8e9c0075-1231-4e5a-bf30-ca5bdfa7322f",
   "metadata": {},
   "source": [
    "## Exporting the DataFrame into `tweets/tagged2.txt`"
   ]
  },
  {
   "cell_type": "code",
   "execution_count": 11,
   "id": "d4d59f0b-22cf-4f33-b64b-f27f50ac9f30",
   "metadata": {},
   "outputs": [],
   "source": [
    "df.to_csv('tweets/tagged2.txt', sep='|', index=False, header=False, encoding='utf-8', lineterminator='\\n', doublequote=False, escapechar=' ')"
   ]
  },
  {
   "cell_type": "code",
   "execution_count": null,
   "id": "e5ca4f59-aafb-4b18-afc1-6d53f78fa684",
   "metadata": {},
   "outputs": [],
   "source": []
  }
 ],
 "metadata": {
  "kernelspec": {
   "display_name": "Python 3 (ipykernel)",
   "language": "python",
   "name": "python3"
  },
  "language_info": {
   "codemirror_mode": {
    "name": "ipython",
    "version": 3
   },
   "file_extension": ".py",
   "mimetype": "text/x-python",
   "name": "python",
   "nbconvert_exporter": "python",
   "pygments_lexer": "ipython3",
   "version": "3.12.3"
  }
 },
 "nbformat": 4,
 "nbformat_minor": 5
}
